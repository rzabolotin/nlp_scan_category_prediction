{
 "cells": [
  {
   "cell_type": "markdown",
   "metadata": {},
   "source": [
    "# Мой первый ноутбук\n",
    "\n",
    "Попробовал реализовать классификацию с использованиеми библиотеки [fasttext](https://fasttext.cc/)\n",
    "\n",
    "Готовый ноутбук взял [тут](https://www.kaggle.com/code/ibecks/very-fast-train-infer-without-transformers)\n",
    "\n",
    "Совсем немного его адаптировал, и получил неплохой score 0.88.\n",
    "Но зато он очень быстро обучился."
   ]
  },
  {
   "cell_type": "code",
   "execution_count": null,
   "metadata": {
    "_cell_guid": "b1076dfc-b9ad-4769-8c92-a6c4dae69d19",
    "_uuid": "8f2839f25d086af736a60e9eeb907d3b93b6e0e5",
    "execution": {
     "iopub.execute_input": "2022-06-23T04:13:22.197979Z",
     "iopub.status.busy": "2022-06-23T04:13:22.197376Z",
     "iopub.status.idle": "2022-06-23T04:13:22.234858Z",
     "shell.execute_reply": "2022-06-23T04:13:22.233889Z",
     "shell.execute_reply.started": "2022-06-23T04:13:22.197858Z"
    }
   },
   "outputs": [],
   "source": [
    "# This Python 3 environment comes with many helpful analytics libraries installed\n",
    "# It is defined by the kaggle/python Docker image: https://github.com/kaggle/docker-python\n",
    "# For example, here's several helpful packages to load\n",
    "\n",
    "import numpy as np # linear algebra\n",
    "import pandas as pd # data processing, CSV file I/O (e.g. pd.read_csv)\n",
    "\n",
    "# Input data files are available in the read-only \"../input/\" directory\n",
    "# For example, running this (by clicking run or pressing Shift+Enter) will list all files under the input directory\n",
    "\n",
    "import os\n",
    "for dirname, _, filenames in os.walk('/kaggle/input'):\n",
    "    for filename in filenames:\n",
    "        print(os.path.join(dirname, filename))\n",
    "\n",
    "# You can write up to 20GB to the current directory (/kaggle/working/) that gets preserved as output when you create a version using \"Save & Run All\" \n",
    "# You can also write temporary files to /kaggle/temp/, but they won't be saved outside of the current session"
   ]
  },
  {
   "cell_type": "code",
   "execution_count": null,
   "metadata": {
    "execution": {
     "iopub.execute_input": "2022-06-11T14:22:10.44414Z",
     "iopub.status.busy": "2022-06-11T14:22:10.443185Z",
     "iopub.status.idle": "2022-06-11T14:22:10.472679Z",
     "shell.execute_reply": "2022-06-11T14:22:10.471948Z",
     "shell.execute_reply.started": "2022-06-11T14:22:10.444106Z"
    }
   },
   "outputs": [],
   "source": [
    "import matplotlib.pyplot as plt\n",
    "\n",
    "from pylab import rcParams\n",
    "rcParams['figure.figsize'] = 10, 5\n",
    "\n",
    "\n",
    "%config InlineBackend.figure_format = 'svg' \n",
    "%matplotlib inline"
   ]
  },
  {
   "cell_type": "code",
   "execution_count": null,
   "metadata": {
    "execution": {
     "iopub.execute_input": "2022-06-11T14:18:59.199143Z",
     "iopub.status.busy": "2022-06-11T14:18:59.198646Z",
     "iopub.status.idle": "2022-06-11T14:18:59.203869Z",
     "shell.execute_reply": "2022-06-11T14:18:59.202811Z",
     "shell.execute_reply.started": "2022-06-11T14:18:59.199102Z"
    }
   },
   "outputs": [],
   "source": [
    "DATA_PATH = '/kaggle/input/scan-classification-challange/'\n",
    "PATH      = '/kaggle/working/'"
   ]
  },
  {
   "cell_type": "code",
   "execution_count": null,
   "metadata": {
    "execution": {
     "iopub.execute_input": "2022-06-11T14:19:16.573449Z",
     "iopub.status.busy": "2022-06-11T14:19:16.573062Z",
     "iopub.status.idle": "2022-06-11T14:19:16.876481Z",
     "shell.execute_reply": "2022-06-11T14:19:16.875613Z",
     "shell.execute_reply.started": "2022-06-11T14:19:16.57342Z"
    }
   },
   "outputs": [],
   "source": [
    "train = pd.read_csv(DATA_PATH+'df_train.csv',)\n",
    "train.head(20)"
   ]
  },
  {
   "cell_type": "code",
   "execution_count": null,
   "metadata": {
    "execution": {
     "iopub.execute_input": "2022-06-11T14:19:41.34631Z",
     "iopub.status.busy": "2022-06-11T14:19:41.345137Z",
     "iopub.status.idle": "2022-06-11T14:19:41.390129Z",
     "shell.execute_reply": "2022-06-11T14:19:41.389432Z",
     "shell.execute_reply.started": "2022-06-11T14:19:41.346266Z"
    }
   },
   "outputs": [],
   "source": [
    "train.info()"
   ]
  },
  {
   "cell_type": "code",
   "execution_count": null,
   "metadata": {
    "execution": {
     "iopub.execute_input": "2022-06-11T14:22:58.572747Z",
     "iopub.status.busy": "2022-06-11T14:22:58.572371Z",
     "iopub.status.idle": "2022-06-11T14:22:59.185554Z",
     "shell.execute_reply": "2022-06-11T14:22:59.184629Z",
     "shell.execute_reply.started": "2022-06-11T14:22:58.572717Z"
    }
   },
   "outputs": [],
   "source": [
    "train[\"class\"].value_counts()[2:].plot(kind='bar',figsize=(12,4),fontsize=10)\n",
    "plt.xlabel(\"Class\",fontsize=10)\n",
    "plt.ylabel(\"Counts\",fontsize=10)"
   ]
  },
  {
   "cell_type": "code",
   "execution_count": null,
   "metadata": {
    "execution": {
     "iopub.execute_input": "2022-06-11T14:23:20.444536Z",
     "iopub.status.busy": "2022-06-11T14:23:20.443446Z",
     "iopub.status.idle": "2022-06-11T14:23:20.860341Z",
     "shell.execute_reply": "2022-06-11T14:23:20.85946Z",
     "shell.execute_reply.started": "2022-06-11T14:23:20.444478Z"
    }
   },
   "outputs": [],
   "source": [
    "test = pd.read_csv(DATA_PATH+'df_test.csv',)\n",
    "test.head()"
   ]
  },
  {
   "cell_type": "code",
   "execution_count": null,
   "metadata": {
    "execution": {
     "iopub.execute_input": "2022-06-11T14:23:30.233165Z",
     "iopub.status.busy": "2022-06-11T14:23:30.232812Z",
     "iopub.status.idle": "2022-06-11T14:23:44.164203Z",
     "shell.execute_reply": "2022-06-11T14:23:44.163291Z",
     "shell.execute_reply.started": "2022-06-11T14:23:30.233137Z"
    }
   },
   "outputs": [],
   "source": [
    "!pip install fasttext"
   ]
  },
  {
   "cell_type": "code",
   "execution_count": null,
   "metadata": {
    "execution": {
     "iopub.execute_input": "2022-06-11T14:23:44.166362Z",
     "iopub.status.busy": "2022-06-11T14:23:44.165979Z",
     "iopub.status.idle": "2022-06-11T14:23:44.202524Z",
     "shell.execute_reply": "2022-06-11T14:23:44.201869Z",
     "shell.execute_reply.started": "2022-06-11T14:23:44.166327Z"
    }
   },
   "outputs": [],
   "source": [
    "import fasttext"
   ]
  },
  {
   "cell_type": "code",
   "execution_count": null,
   "metadata": {
    "execution": {
     "iopub.execute_input": "2022-06-11T14:24:20.953588Z",
     "iopub.status.busy": "2022-06-11T14:24:20.953218Z",
     "iopub.status.idle": "2022-06-11T14:24:26.387525Z",
     "shell.execute_reply": "2022-06-11T14:24:26.386294Z",
     "shell.execute_reply.started": "2022-06-11T14:24:20.953546Z"
    }
   },
   "outputs": [],
   "source": [
    "# NLP Preprocessing\n",
    "from gensim.utils import simple_preprocess\n",
    "from gensim.parsing.preprocessing import remove_stopwords\n",
    "\n",
    "train.text = train.text.apply(lambda x: ' '.join(simple_preprocess(x)))\n",
    "test.text = test.text.apply(lambda x: ' '.join(simple_preprocess(x)))"
   ]
  },
  {
   "cell_type": "code",
   "execution_count": null,
   "metadata": {
    "execution": {
     "iopub.execute_input": "2022-06-11T14:24:34.952932Z",
     "iopub.status.busy": "2022-06-11T14:24:34.95224Z",
     "iopub.status.idle": "2022-06-11T14:24:34.960321Z",
     "shell.execute_reply": "2022-06-11T14:24:34.959644Z",
     "shell.execute_reply.started": "2022-06-11T14:24:34.952887Z"
    }
   },
   "outputs": [],
   "source": [
    "train.text.head()"
   ]
  },
  {
   "cell_type": "code",
   "execution_count": null,
   "metadata": {
    "execution": {
     "iopub.execute_input": "2022-06-11T14:25:28.363294Z",
     "iopub.status.busy": "2022-06-11T14:25:28.362926Z",
     "iopub.status.idle": "2022-06-11T14:25:28.583377Z",
     "shell.execute_reply": "2022-06-11T14:25:28.582508Z",
     "shell.execute_reply.started": "2022-06-11T14:25:28.363262Z"
    }
   },
   "outputs": [],
   "source": [
    "import numpy as np\n",
    "from sklearn.model_selection import train_test_split\n",
    "\n",
    "ft_train, ft_test = train_test_split(train, random_state=42, test_size=0.2, stratify = train['class'])"
   ]
  },
  {
   "cell_type": "code",
   "execution_count": null,
   "metadata": {
    "execution": {
     "iopub.execute_input": "2022-06-11T14:26:02.883805Z",
     "iopub.status.busy": "2022-06-11T14:26:02.883377Z",
     "iopub.status.idle": "2022-06-11T14:26:02.956445Z",
     "shell.execute_reply": "2022-06-11T14:26:02.955723Z",
     "shell.execute_reply.started": "2022-06-11T14:26:02.88377Z"
    }
   },
   "outputs": [],
   "source": [
    "def to_ft_label(s):\n",
    "    return '__label__'+s.replace(',','_').replace(' ','_').replace('-','_')\n",
    "\n",
    "labels_dict = {}\n",
    "for g in train['class']:\n",
    "    labels_dict[to_ft_label(g)] = g"
   ]
  },
  {
   "cell_type": "code",
   "execution_count": null,
   "metadata": {
    "execution": {
     "iopub.execute_input": "2022-06-11T14:26:42.595952Z",
     "iopub.status.busy": "2022-06-11T14:26:42.595527Z",
     "iopub.status.idle": "2022-06-11T14:26:42.645425Z",
     "shell.execute_reply": "2022-06-11T14:26:42.644469Z",
     "shell.execute_reply.started": "2022-06-11T14:26:42.595917Z"
    }
   },
   "outputs": [],
   "source": [
    "col = ['class', 'text']\n",
    "\n",
    "# train\n",
    "train_for_ft = ft_train[col]\n",
    "train_for_ft['class']=[to_ft_label(s) for s in train_for_ft['class']]\n",
    "\n",
    "# test\n",
    "test_for_ft = ft_test[col]\n",
    "test_for_ft['class']=[to_ft_label(s) for s in test_for_ft['class']]"
   ]
  },
  {
   "cell_type": "code",
   "execution_count": null,
   "metadata": {
    "execution": {
     "iopub.execute_input": "2022-06-11T14:27:13.139504Z",
     "iopub.status.busy": "2022-06-11T14:27:13.139059Z",
     "iopub.status.idle": "2022-06-11T14:27:13.378936Z",
     "shell.execute_reply": "2022-06-11T14:27:13.378015Z",
     "shell.execute_reply.started": "2022-06-11T14:27:13.139467Z"
    }
   },
   "outputs": [],
   "source": [
    "train_for_ft.to_csv(PATH + r'train_for_ft.csv', index=False, sep=' ', header=False, escapechar=\" \")\n",
    "test_for_ft.to_csv(PATH + r'test_for_ft.csv', index=False, sep=' ', header=False, escapechar=\" \")"
   ]
  },
  {
   "cell_type": "code",
   "execution_count": null,
   "metadata": {
    "execution": {
     "iopub.execute_input": "2022-06-11T14:28:17.277586Z",
     "iopub.status.busy": "2022-06-11T14:28:17.277126Z",
     "iopub.status.idle": "2022-06-11T14:28:19.172381Z",
     "shell.execute_reply": "2022-06-11T14:28:19.171703Z",
     "shell.execute_reply.started": "2022-06-11T14:28:17.277531Z"
    }
   },
   "outputs": [],
   "source": [
    "model = fasttext.train_supervised(PATH + 'train_for_ft.csv', lr = 0.9)"
   ]
  },
  {
   "cell_type": "code",
   "execution_count": null,
   "metadata": {
    "execution": {
     "iopub.execute_input": "2022-06-11T14:29:08.803854Z",
     "iopub.status.busy": "2022-06-11T14:29:08.803481Z",
     "iopub.status.idle": "2022-06-11T14:29:08.940206Z",
     "shell.execute_reply": "2022-06-11T14:29:08.939522Z",
     "shell.execute_reply.started": "2022-06-11T14:29:08.803827Z"
    }
   },
   "outputs": [],
   "source": [
    "# Evaluating performance on the entire test file\n",
    "model.test(PATH + 'test_for_ft.csv') "
   ]
  },
  {
   "cell_type": "code",
   "execution_count": null,
   "metadata": {
    "execution": {
     "iopub.execute_input": "2022-06-11T14:29:16.614152Z",
     "iopub.status.busy": "2022-06-11T14:29:16.613709Z",
     "iopub.status.idle": "2022-06-11T14:29:17.80553Z",
     "shell.execute_reply": "2022-06-11T14:29:17.804623Z",
     "shell.execute_reply.started": "2022-06-11T14:29:16.614113Z"
    }
   },
   "outputs": [],
   "source": [
    "def predict(test):\n",
    "    return labels_dict[ model.predict(test['text'], k=1)[0][0] ]\n",
    "test['predictions'] = test.apply(predict,axis=1)\n",
    "\n",
    "test.head()"
   ]
  },
  {
   "cell_type": "code",
   "execution_count": null,
   "metadata": {
    "execution": {
     "iopub.execute_input": "2022-06-11T14:31:38.069565Z",
     "iopub.status.busy": "2022-06-11T14:31:38.069249Z",
     "iopub.status.idle": "2022-06-11T14:31:38.15155Z",
     "shell.execute_reply": "2022-06-11T14:31:38.15089Z",
     "shell.execute_reply.started": "2022-06-11T14:31:38.069539Z"
    }
   },
   "outputs": [],
   "source": [
    "submission = pd.DataFrame({'id':range(len(test)),\n",
    "                           'class':test['predictions'].values},\n",
    "                          columns=['id', 'class'])\n",
    "submission.to_csv('submission.csv', index=False)\n",
    "submission.head()"
   ]
  },
  {
   "cell_type": "code",
   "execution_count": null,
   "metadata": {},
   "outputs": [],
   "source": []
  }
 ],
 "metadata": {
  "kernelspec": {
   "display_name": "Python 3 (ipykernel)",
   "language": "python",
   "name": "python3"
  },
  "language_info": {
   "codemirror_mode": {
    "name": "ipython",
    "version": 3
   },
   "file_extension": ".py",
   "mimetype": "text/x-python",
   "name": "python",
   "nbconvert_exporter": "python",
   "pygments_lexer": "ipython3",
   "version": "3.10.2"
  }
 },
 "nbformat": 4,
 "nbformat_minor": 4
}
