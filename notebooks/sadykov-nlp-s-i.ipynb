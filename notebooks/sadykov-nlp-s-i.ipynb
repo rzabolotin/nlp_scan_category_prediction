{
 "cells": [
  {
   "cell_type": "code",
   "execution_count": 1,
   "id": "a5797c0c",
   "metadata": {
    "_cell_guid": "b1076dfc-b9ad-4769-8c92-a6c4dae69d19",
    "_uuid": "8f2839f25d086af736a60e9eeb907d3b93b6e0e5",
    "execution": {
     "iopub.execute_input": "2022-06-26T09:43:17.336012Z",
     "iopub.status.busy": "2022-06-26T09:43:17.335269Z",
     "iopub.status.idle": "2022-06-26T09:43:20.976903Z",
     "shell.execute_reply": "2022-06-26T09:43:20.975910Z"
    },
    "papermill": {
     "duration": 3.66922,
     "end_time": "2022-06-26T09:43:20.979542",
     "exception": false,
     "start_time": "2022-06-26T09:43:17.310322",
     "status": "completed"
    },
    "tags": []
   },
   "outputs": [
    {
     "name": "stdout",
     "output_type": "stream",
     "text": [
      "/kaggle/input/scan-classification-challange/sample_submission.csv\n",
      "/kaggle/input/scan-classification-challange/df_train.csv\n",
      "/kaggle/input/scan-classification-challange/df_test.csv\n"
     ]
    }
   ],
   "source": [
    "# This Python 3 environment comes with many helpful analytics libraries installed\n",
    "# It is defined by the kaggle/python Docker image: https://github.com/kaggle/docker-python\n",
    "# For example, here's several helpful packages to load\n",
    "\n",
    "import numpy as np # linear algebra\n",
    "import pandas as pd # data processing, CSV file I/O (e.g. pd.read_csv)\n",
    "\n",
    "import cudf\n",
    "\n",
    "from tqdm import tqdm\n",
    "\n",
    "tqdm.pandas()\n",
    "\n",
    "# Input data files are available in the read-only \"../input/\" directory\n",
    "# For example, running this (by clicking run or pressing Shift+Enter) will list all files under the input directory\n",
    "\n",
    "import os\n",
    "for dirname, _, filenames in os.walk('/kaggle/input'):\n",
    "    for filename in filenames:\n",
    "        print(os.path.join(dirname, filename))\n",
    "\n",
    "# You can write up to 20GB to the current directory (/kaggle/working/) that gets preserved as output when you create a version using \"Save & Run All\" \n",
    "# You can also write temporary files to /kaggle/temp/, but they won't be saved outside of the current session"
   ]
  },
  {
   "cell_type": "code",
   "execution_count": 2,
   "id": "1386c662",
   "metadata": {
    "execution": {
     "iopub.execute_input": "2022-06-26T09:43:21.026850Z",
     "iopub.status.busy": "2022-06-26T09:43:21.026446Z",
     "iopub.status.idle": "2022-06-26T09:43:26.036375Z",
     "shell.execute_reply": "2022-06-26T09:43:26.035568Z"
    },
    "papermill": {
     "duration": 5.035135,
     "end_time": "2022-06-26T09:43:26.038693",
     "exception": false,
     "start_time": "2022-06-26T09:43:21.003558",
     "status": "completed"
    },
    "tags": []
   },
   "outputs": [],
   "source": [
    "#%tensorflow_version 2.x\n",
    "from tensorflow.keras.models import Sequential\n",
    "from tensorflow.keras.layers import Dense, Embedding, MaxPooling1D, Conv1D, GlobalMaxPooling1D, Dropout, LSTM, GRU\n",
    "from tensorflow.keras import utils\n",
    "from tensorflow.keras.preprocessing.sequence import pad_sequences\n",
    "from tensorflow.keras.preprocessing.text import Tokenizer\n",
    "from tensorflow.keras.callbacks import ModelCheckpoint\n",
    "from tensorflow.keras import utils\n",
    "\n",
    "import matplotlib.pyplot as plt\n",
    "%matplotlib inline "
   ]
  },
  {
   "cell_type": "code",
   "execution_count": 3,
   "id": "f3378bef",
   "metadata": {
    "execution": {
     "iopub.execute_input": "2022-06-26T09:43:26.085701Z",
     "iopub.status.busy": "2022-06-26T09:43:26.085167Z",
     "iopub.status.idle": "2022-06-26T09:43:38.545853Z",
     "shell.execute_reply": "2022-06-26T09:43:38.544795Z"
    },
    "papermill": {
     "duration": 12.486291,
     "end_time": "2022-06-26T09:43:38.547690",
     "exception": false,
     "start_time": "2022-06-26T09:43:26.061399",
     "status": "completed"
    },
    "tags": []
   },
   "outputs": [
    {
     "name": "stdout",
     "output_type": "stream",
     "text": [
      "Collecting pymorphy2\r\n",
      "  Downloading pymorphy2-0.9.1-py3-none-any.whl (55 kB)\r\n",
      "\u001b[2K     \u001b[90m━━━━━━━━━━━━━━━━━━━━━━━━━━━━━━━━━━━━━━━\u001b[0m \u001b[32m55.5/55.5 kB\u001b[0m \u001b[31m577.3 kB/s\u001b[0m eta \u001b[36m0:00:00\u001b[0m\r\n",
      "\u001b[?25hCollecting pymorphy2-dicts-ru<3.0,>=2.4\r\n",
      "  Downloading pymorphy2_dicts_ru-2.4.417127.4579844-py2.py3-none-any.whl (8.2 MB)\r\n",
      "\u001b[2K     \u001b[90m━━━━━━━━━━━━━━━━━━━━━━━━━━━━━━━━━━━━━━━━\u001b[0m \u001b[32m8.2/8.2 MB\u001b[0m \u001b[31m17.1 MB/s\u001b[0m eta \u001b[36m0:00:00\u001b[0m\r\n",
      "\u001b[?25hRequirement already satisfied: docopt>=0.6 in /opt/conda/lib/python3.7/site-packages (from pymorphy2) (0.6.2)\r\n",
      "Collecting dawg-python>=0.7.1\r\n",
      "  Downloading DAWG_Python-0.7.2-py2.py3-none-any.whl (11 kB)\r\n",
      "Installing collected packages: pymorphy2-dicts-ru, dawg-python, pymorphy2\r\n",
      "Successfully installed dawg-python-0.7.2 pymorphy2-0.9.1 pymorphy2-dicts-ru-2.4.417127.4579844\r\n",
      "\u001b[33mWARNING: Running pip as the 'root' user can result in broken permissions and conflicting behaviour with the system package manager. It is recommended to use a virtual environment instead: https://pip.pypa.io/warnings/venv\u001b[0m\u001b[33m\r\n",
      "\u001b[0mNote: you may need to restart the kernel to use updated packages.\n"
     ]
    }
   ],
   "source": [
    "pip install pymorphy2"
   ]
  },
  {
   "cell_type": "code",
   "execution_count": 4,
   "id": "88662aa5",
   "metadata": {
    "execution": {
     "iopub.execute_input": "2022-06-26T09:43:38.596727Z",
     "iopub.status.busy": "2022-06-26T09:43:38.595990Z",
     "iopub.status.idle": "2022-06-26T09:43:47.967870Z",
     "shell.execute_reply": "2022-06-26T09:43:47.966876Z"
    },
    "papermill": {
     "duration": 9.397791,
     "end_time": "2022-06-26T09:43:47.969804",
     "exception": false,
     "start_time": "2022-06-26T09:43:38.572013",
     "status": "completed"
    },
    "tags": []
   },
   "outputs": [
    {
     "name": "stdout",
     "output_type": "stream",
     "text": [
      "Requirement already satisfied: pymorphy2-dicts-ru in /opt/conda/lib/python3.7/site-packages (2.4.417127.4579844)\r\n",
      "\u001b[33mWARNING: Running pip as the 'root' user can result in broken permissions and conflicting behaviour with the system package manager. It is recommended to use a virtual environment instead: https://pip.pypa.io/warnings/venv\u001b[0m\u001b[33m\r\n",
      "\u001b[0mNote: you may need to restart the kernel to use updated packages.\n"
     ]
    }
   ],
   "source": [
    "pip install -U pymorphy2-dicts-ru"
   ]
  },
  {
   "cell_type": "code",
   "execution_count": 5,
   "id": "d023b6da",
   "metadata": {
    "execution": {
     "iopub.execute_input": "2022-06-26T09:43:48.019218Z",
     "iopub.status.busy": "2022-06-26T09:43:48.018892Z",
     "iopub.status.idle": "2022-06-26T09:43:48.022889Z",
     "shell.execute_reply": "2022-06-26T09:43:48.022113Z"
    },
    "papermill": {
     "duration": 0.030388,
     "end_time": "2022-06-26T09:43:48.024807",
     "exception": false,
     "start_time": "2022-06-26T09:43:47.994419",
     "status": "completed"
    },
    "tags": []
   },
   "outputs": [],
   "source": [
    "PATH = '/kaggle/input/scan-classification-challange/'"
   ]
  },
  {
   "cell_type": "code",
   "execution_count": 6,
   "id": "cd5197bb",
   "metadata": {
    "execution": {
     "iopub.execute_input": "2022-06-26T09:43:48.072402Z",
     "iopub.status.busy": "2022-06-26T09:43:48.071900Z",
     "iopub.status.idle": "2022-06-26T09:43:48.075842Z",
     "shell.execute_reply": "2022-06-26T09:43:48.075113Z"
    },
    "papermill": {
     "duration": 0.029473,
     "end_time": "2022-06-26T09:43:48.077494",
     "exception": false,
     "start_time": "2022-06-26T09:43:48.048021",
     "status": "completed"
    },
    "tags": []
   },
   "outputs": [],
   "source": [
    "# всегда фиксируйте RANDOM_SEED, чтобы ваши эксперименты были воспроизводимы!\n",
    "RANDOM_SEED = 42"
   ]
  },
  {
   "cell_type": "code",
   "execution_count": 7,
   "id": "60cc0771",
   "metadata": {
    "execution": {
     "iopub.execute_input": "2022-06-26T09:43:48.125317Z",
     "iopub.status.busy": "2022-06-26T09:43:48.124713Z",
     "iopub.status.idle": "2022-06-26T09:43:48.707727Z",
     "shell.execute_reply": "2022-06-26T09:43:48.706932Z"
    },
    "papermill": {
     "duration": 0.609361,
     "end_time": "2022-06-26T09:43:48.709900",
     "exception": false,
     "start_time": "2022-06-26T09:43:48.100539",
     "status": "completed"
    },
    "tags": []
   },
   "outputs": [],
   "source": [
    "#посмотрим на трейн\n",
    "train = pd.read_csv(PATH + 'df_train.csv')"
   ]
  },
  {
   "cell_type": "code",
   "execution_count": 8,
   "id": "7e4548e9",
   "metadata": {
    "execution": {
     "iopub.execute_input": "2022-06-26T09:43:48.759244Z",
     "iopub.status.busy": "2022-06-26T09:43:48.758361Z",
     "iopub.status.idle": "2022-06-26T09:43:48.794246Z",
     "shell.execute_reply": "2022-06-26T09:43:48.793250Z"
    },
    "papermill": {
     "duration": 0.062098,
     "end_time": "2022-06-26T09:43:48.796512",
     "exception": false,
     "start_time": "2022-06-26T09:43:48.734414",
     "status": "completed"
    },
    "tags": []
   },
   "outputs": [
    {
     "name": "stdout",
     "output_type": "stream",
     "text": [
      "<class 'pandas.core.frame.DataFrame'>\n",
      "RangeIndex: 60000 entries, 0 to 59999\n",
      "Data columns (total 2 columns):\n",
      " #   Column  Non-Null Count  Dtype \n",
      "---  ------  --------------  ----- \n",
      " 0   text    60000 non-null  object\n",
      " 1   class   60000 non-null  object\n",
      "dtypes: object(2)\n",
      "memory usage: 937.6+ KB\n"
     ]
    }
   ],
   "source": [
    "train.info()"
   ]
  },
  {
   "cell_type": "code",
   "execution_count": 9,
   "id": "055ade02",
   "metadata": {
    "execution": {
     "iopub.execute_input": "2022-06-26T09:43:48.846311Z",
     "iopub.status.busy": "2022-06-26T09:43:48.845913Z",
     "iopub.status.idle": "2022-06-26T09:43:48.858283Z",
     "shell.execute_reply": "2022-06-26T09:43:48.857436Z"
    },
    "papermill": {
     "duration": 0.039489,
     "end_time": "2022-06-26T09:43:48.860216",
     "exception": false,
     "start_time": "2022-06-26T09:43:48.820727",
     "status": "completed"
    },
    "tags": []
   },
   "outputs": [
    {
     "data": {
      "text/plain": [
       "50"
      ]
     },
     "execution_count": 9,
     "metadata": {},
     "output_type": "execute_result"
    }
   ],
   "source": [
    "#посмотрим на количество классов\n",
    "train['class'].nunique()"
   ]
  },
  {
   "cell_type": "code",
   "execution_count": 10,
   "id": "4d5c8356",
   "metadata": {
    "execution": {
     "iopub.execute_input": "2022-06-26T09:43:48.908626Z",
     "iopub.status.busy": "2022-06-26T09:43:48.908014Z",
     "iopub.status.idle": "2022-06-26T09:43:48.920754Z",
     "shell.execute_reply": "2022-06-26T09:43:48.920072Z"
    },
    "papermill": {
     "duration": 0.038676,
     "end_time": "2022-06-26T09:43:48.922419",
     "exception": false,
     "start_time": "2022-06-26T09:43:48.883743",
     "status": "completed"
    },
    "tags": []
   },
   "outputs": [
    {
     "data": {
      "text/plain": [
       "O                                                   40159\n",
       "Теракт                                               1898\n",
       "Взятки                                               1801\n",
       "Экстремизм                                           1798\n",
       "Уголовное обвинение                                  1634\n",
       "Пожары                                               1510\n",
       "Привлечение к уголовной ответственности              1475\n",
       "Землетрясение                                         841\n",
       "Утечка нефти                                          816\n",
       "Противодействие коррупции                             707\n",
       "Поддержка террористов                                 702\n",
       "Заключение под стражу                                 694\n",
       "Нарушение закона                                      636\n",
       "Коррупция                                             599\n",
       "Уголовное задержание                                  517\n",
       "Наводнение                                            489\n",
       "Кораблекрушение                                       378\n",
       "Авиакатастрофа                                        345\n",
       "Техногенные катастрофы                                326\n",
       "Экономические преступления                            306\n",
       "Убийство                                              231\n",
       "Убытки                                                212\n",
       "Падение продаж                                        196\n",
       "Извержение вулкана                                    175\n",
       "Растрата денежных средств                             172\n",
       "Проблемы с активами                                   166\n",
       "Закрытие предприятия или производства                 157\n",
       "Падение прибыли                                       140\n",
       "Чрезвычайные происшествия, чрезвычайные ситуации      138\n",
       "Стихийные бедствия                                    135\n",
       "Финансовые затруднения                                104\n",
       "Беспорядки, конфликты и войны                          59\n",
       "Взрыв газа                                             57\n",
       "Нарушение обязанностей                                 55\n",
       "Рост убытков                                           49\n",
       "Отзыв продукции                                        44\n",
       "Жалобы потребителей                                    41\n",
       "Ядерный взрыв                                          40\n",
       "Акционерный конфликт                                   35\n",
       "Мошенничество                                          29\n",
       "Обвал                                                  26\n",
       "Возбуждение уголовного дела                            25\n",
       "Катастрофы, крушения                                   24\n",
       "Падение метеорита                                      16\n",
       "Нарушение прав акционеров                              16\n",
       "Отмывание денег                                        10\n",
       "Закрытие филиала, представительства                     9\n",
       "Манипулирование рынком                                  4\n",
       "Выемки                                                  2\n",
       "Нападение                                               2\n",
       "Name: class, dtype: int64"
      ]
     },
     "execution_count": 10,
     "metadata": {},
     "output_type": "execute_result"
    }
   ],
   "source": [
    "#посмотрим на сами классы и их распределение\n",
    "train['class'].value_counts()"
   ]
  },
  {
   "cell_type": "code",
   "execution_count": 11,
   "id": "dc054c5d",
   "metadata": {
    "execution": {
     "iopub.execute_input": "2022-06-26T09:43:48.971849Z",
     "iopub.status.busy": "2022-06-26T09:43:48.971215Z",
     "iopub.status.idle": "2022-06-26T09:43:49.841873Z",
     "shell.execute_reply": "2022-06-26T09:43:49.841110Z"
    },
    "papermill": {
     "duration": 0.897995,
     "end_time": "2022-06-26T09:43:49.844263",
     "exception": false,
     "start_time": "2022-06-26T09:43:48.946268",
     "status": "completed"
    },
    "tags": []
   },
   "outputs": [
    {
     "data": {
      "text/plain": [
       "<AxesSubplot:>"
      ]
     },
     "execution_count": 11,
     "metadata": {},
     "output_type": "execute_result"
    },
    {
     "data": {
      "image/png": "[encoded data removed]",
      "text/plain": [
       "<Figure size 432x288 with 1 Axes>"
      ]
     },
     "metadata": {
      "needs_background": "light"
     },
     "output_type": "display_data"
    }
   ],
   "source": [
    "train['class'].value_counts().plot(kind = 'barh')"
   ]
  },
  {
   "cell_type": "markdown",
   "id": "82a46bba",
   "metadata": {
    "papermill": {
     "duration": 0.024549,
     "end_time": "2022-06-26T09:43:49.894293",
     "exception": false,
     "start_time": "2022-06-26T09:43:49.869744",
     "status": "completed"
    },
    "tags": []
   },
   "source": [
    "Распределение неравномерное. Доминирование класса \"О\". Мне кажется, что при автоматической разметке, этот класс присваивался текстам, которые не смогли определить к какому-нибудь классу. \n",
    "Эту неравномерность нужно будет учитывать при разделении на трейн и тест."
   ]
  },
  {
   "cell_type": "code",
   "execution_count": 12,
   "id": "6e6be175",
   "metadata": {
    "execution": {
     "iopub.execute_input": "2022-06-26T09:43:49.945237Z",
     "iopub.status.busy": "2022-06-26T09:43:49.944614Z",
     "iopub.status.idle": "2022-06-26T09:43:49.958441Z",
     "shell.execute_reply": "2022-06-26T09:43:49.957587Z"
    },
    "papermill": {
     "duration": 0.041516,
     "end_time": "2022-06-26T09:43:49.960205",
     "exception": false,
     "start_time": "2022-06-26T09:43:49.918689",
     "status": "completed"
    },
    "tags": []
   },
   "outputs": [
    {
     "data": {
      "text/html": [
       "<div>\n",
       "<style scoped>\n",
       "    .dataframe tbody tr th:only-of-type {\n",
       "        vertical-align: middle;\n",
       "    }\n",
       "\n",
       "    .dataframe tbody tr th {\n",
       "        vertical-align: top;\n",
       "    }\n",
       "\n",
       "    .dataframe thead th {\n",
       "        text-align: right;\n",
       "    }\n",
       "</style>\n",
       "<table border=\"1\" class=\"dataframe\">\n",
       "  <thead>\n",
       "    <tr style=\"text-align: right;\">\n",
       "      <th></th>\n",
       "      <th>text</th>\n",
       "      <th>class</th>\n",
       "    </tr>\n",
       "  </thead>\n",
       "  <tbody>\n",
       "    <tr>\n",
       "      <th>52730</th>\n",
       "      <td>За несколько часов до этого Государственный де...</td>\n",
       "      <td>O</td>\n",
       "    </tr>\n",
       "    <tr>\n",
       "      <th>18818</th>\n",
       "      <td>Видимо это так сказалось на ее психике, что он...</td>\n",
       "      <td>O</td>\n",
       "    </tr>\n",
       "    <tr>\n",
       "      <th>30577</th>\n",
       "      <td>Мать Саакашвили заявила о сфабрикованности уго...</td>\n",
       "      <td>O</td>\n",
       "    </tr>\n",
       "  </tbody>\n",
       "</table>\n",
       "</div>"
      ],
      "text/plain": [
       "                                                    text class\n",
       "52730  За несколько часов до этого Государственный де...     O\n",
       "18818  Видимо это так сказалось на ее психике, что он...     O\n",
       "30577  Мать Саакашвили заявила о сфабрикованности уго...     O"
      ]
     },
     "execution_count": 12,
     "metadata": {},
     "output_type": "execute_result"
    }
   ],
   "source": [
    "#посмотрим несколко примеров\n",
    "train.sample(3)"
   ]
  },
  {
   "cell_type": "code",
   "execution_count": 13,
   "id": "be9f98f8",
   "metadata": {
    "execution": {
     "iopub.execute_input": "2022-06-26T09:43:50.011680Z",
     "iopub.status.busy": "2022-06-26T09:43:50.011406Z",
     "iopub.status.idle": "2022-06-26T09:43:50.016423Z",
     "shell.execute_reply": "2022-06-26T09:43:50.015743Z"
    },
    "papermill": {
     "duration": 0.032,
     "end_time": "2022-06-26T09:43:50.018052",
     "exception": false,
     "start_time": "2022-06-26T09:43:49.986052",
     "status": "completed"
    },
    "tags": []
   },
   "outputs": [
    {
     "data": {
      "text/plain": [
       "'И этому есть весомые причины, ведь авиакатострофы хоть и случаются нечасто, зато о них пишут и говорят в разы больше, чем об автоавариях, железнодорожных и кораблекрушениях.'"
      ]
     },
     "execution_count": 13,
     "metadata": {},
     "output_type": "execute_result"
    }
   ],
   "source": [
    "train['text'].iloc[44556]"
   ]
  },
  {
   "cell_type": "code",
   "execution_count": 14,
   "id": "1b124dfb",
   "metadata": {
    "execution": {
     "iopub.execute_input": "2022-06-26T09:43:50.069147Z",
     "iopub.status.busy": "2022-06-26T09:43:50.068618Z",
     "iopub.status.idle": "2022-06-26T09:43:50.073429Z",
     "shell.execute_reply": "2022-06-26T09:43:50.072754Z"
    },
    "papermill": {
     "duration": 0.032359,
     "end_time": "2022-06-26T09:43:50.075034",
     "exception": false,
     "start_time": "2022-06-26T09:43:50.042675",
     "status": "completed"
    },
    "tags": []
   },
   "outputs": [
    {
     "data": {
      "text/plain": [
       "'Кораблекрушение'"
      ]
     },
     "execution_count": 14,
     "metadata": {},
     "output_type": "execute_result"
    }
   ],
   "source": [
    "train['class'].iloc[44556]"
   ]
  },
  {
   "cell_type": "markdown",
   "id": "8254e727",
   "metadata": {
    "papermill": {
     "duration": 0.024958,
     "end_time": "2022-06-26T09:43:50.124574",
     "exception": false,
     "start_time": "2022-06-26T09:43:50.099616",
     "status": "completed"
    },
    "tags": []
   },
   "source": [
    "Как видно из примера выше, разметка не совсем корректная. Но:\n",
    "1. судя по всему тест размечен таким же образом, поэтому и корректировать классы будет не правильно;\n",
    "2. количество размеченных новостей, почти 20 тысяч, поэтому перебирать их нецелесообразно с точки зрения затраченного времени. "
   ]
  },
  {
   "cell_type": "markdown",
   "id": "d6019278",
   "metadata": {
    "papermill": {
     "duration": 0.024741,
     "end_time": "2022-06-26T09:43:50.173909",
     "exception": false,
     "start_time": "2022-06-26T09:43:50.149168",
     "status": "completed"
    },
    "tags": []
   },
   "source": [
    "### Лемматизирую текст"
   ]
  },
  {
   "cell_type": "code",
   "execution_count": 15,
   "id": "cb6f0e92",
   "metadata": {
    "execution": {
     "iopub.execute_input": "2022-06-26T09:43:50.226126Z",
     "iopub.status.busy": "2022-06-26T09:43:50.225372Z",
     "iopub.status.idle": "2022-06-26T09:43:50.242323Z",
     "shell.execute_reply": "2022-06-26T09:43:50.241453Z"
    },
    "papermill": {
     "duration": 0.045311,
     "end_time": "2022-06-26T09:43:50.244404",
     "exception": false,
     "start_time": "2022-06-26T09:43:50.199093",
     "status": "completed"
    },
    "tags": []
   },
   "outputs": [],
   "source": [
    "import pymorphy2 "
   ]
  },
  {
   "cell_type": "code",
   "execution_count": 16,
   "id": "262e8412",
   "metadata": {
    "execution": {
     "iopub.execute_input": "2022-06-26T09:43:50.296974Z",
     "iopub.status.busy": "2022-06-26T09:43:50.296421Z",
     "iopub.status.idle": "2022-06-26T09:43:50.524979Z",
     "shell.execute_reply": "2022-06-26T09:43:50.524115Z"
    },
    "papermill": {
     "duration": 0.25684,
     "end_time": "2022-06-26T09:43:50.527095",
     "exception": false,
     "start_time": "2022-06-26T09:43:50.270255",
     "status": "completed"
    },
    "tags": []
   },
   "outputs": [],
   "source": [
    "morph = pymorphy2.MorphAnalyzer()"
   ]
  },
  {
   "cell_type": "code",
   "execution_count": 17,
   "id": "80c0f30a",
   "metadata": {
    "execution": {
     "iopub.execute_input": "2022-06-26T09:43:50.580119Z",
     "iopub.status.busy": "2022-06-26T09:43:50.578756Z",
     "iopub.status.idle": "2022-06-26T09:43:50.583797Z",
     "shell.execute_reply": "2022-06-26T09:43:50.583031Z"
    },
    "papermill": {
     "duration": 0.032956,
     "end_time": "2022-06-26T09:43:50.585557",
     "exception": false,
     "start_time": "2022-06-26T09:43:50.552601",
     "status": "completed"
    },
    "tags": []
   },
   "outputs": [],
   "source": [
    "def lem(x):\n",
    "    x = list(x.split())\n",
    "    x = [morph.parse(w)[0].normal_form for w in x]\n",
    "    return x"
   ]
  },
  {
   "cell_type": "code",
   "execution_count": 18,
   "id": "7e52bc59",
   "metadata": {
    "execution": {
     "iopub.execute_input": "2022-06-26T09:43:50.637068Z",
     "iopub.status.busy": "2022-06-26T09:43:50.636790Z",
     "iopub.status.idle": "2022-06-26T09:43:50.640026Z",
     "shell.execute_reply": "2022-06-26T09:43:50.639277Z"
    },
    "papermill": {
     "duration": 0.030572,
     "end_time": "2022-06-26T09:43:50.641649",
     "exception": false,
     "start_time": "2022-06-26T09:43:50.611077",
     "status": "completed"
    },
    "tags": []
   },
   "outputs": [],
   "source": [
    "#train_cuda = cudf.DataFrame(train)"
   ]
  },
  {
   "cell_type": "code",
   "execution_count": 19,
   "id": "e0ba00b8",
   "metadata": {
    "execution": {
     "iopub.execute_input": "2022-06-26T09:43:50.692913Z",
     "iopub.status.busy": "2022-06-26T09:43:50.692393Z",
     "iopub.status.idle": "2022-06-26T09:50:56.558886Z",
     "shell.execute_reply": "2022-06-26T09:50:56.557987Z"
    },
    "papermill": {
     "duration": 425.894346,
     "end_time": "2022-06-26T09:50:56.561345",
     "exception": false,
     "start_time": "2022-06-26T09:43:50.666999",
     "status": "completed"
    },
    "tags": []
   },
   "outputs": [
    {
     "name": "stderr",
     "output_type": "stream",
     "text": [
      "100%|██████████| 60000/60000 [07:05<00:00, 140.89it/s]\n"
     ]
    }
   ],
   "source": [
    "train['text_lem'] = train['text'].progress_apply(lem)"
   ]
  },
  {
   "cell_type": "code",
   "execution_count": 20,
   "id": "7cb99cf8",
   "metadata": {
    "execution": {
     "iopub.execute_input": "2022-06-26T09:50:57.106329Z",
     "iopub.status.busy": "2022-06-26T09:50:57.105966Z",
     "iopub.status.idle": "2022-06-26T09:50:57.125678Z",
     "shell.execute_reply": "2022-06-26T09:50:57.124758Z"
    },
    "papermill": {
     "duration": 0.31027,
     "end_time": "2022-06-26T09:50:57.127606",
     "exception": false,
     "start_time": "2022-06-26T09:50:56.817336",
     "status": "completed"
    },
    "tags": []
   },
   "outputs": [
    {
     "data": {
      "text/html": [
       "<div>\n",
       "<style scoped>\n",
       "    .dataframe tbody tr th:only-of-type {\n",
       "        vertical-align: middle;\n",
       "    }\n",
       "\n",
       "    .dataframe tbody tr th {\n",
       "        vertical-align: top;\n",
       "    }\n",
       "\n",
       "    .dataframe thead th {\n",
       "        text-align: right;\n",
       "    }\n",
       "</style>\n",
       "<table border=\"1\" class=\"dataframe\">\n",
       "  <thead>\n",
       "    <tr style=\"text-align: right;\">\n",
       "      <th></th>\n",
       "      <th>text</th>\n",
       "      <th>class</th>\n",
       "      <th>text_lem</th>\n",
       "    </tr>\n",
       "  </thead>\n",
       "  <tbody>\n",
       "    <tr>\n",
       "      <th>12863</th>\n",
       "      <td>Адвокат Данил Шицов, защищающий Половникова, с...</td>\n",
       "      <td>O</td>\n",
       "      <td>[адвокат, данил, шицов,, защищать, половникова...</td>\n",
       "    </tr>\n",
       "    <tr>\n",
       "      <th>20504</th>\n",
       "      <td>Об этом заявил представитель Следственного ком...</td>\n",
       "      <td>O</td>\n",
       "      <td>[о, это, заявить, представитель, следственный,...</td>\n",
       "    </tr>\n",
       "    <tr>\n",
       "      <th>26597</th>\n",
       "      <td>В министерстве образования, как говорит Елена ...</td>\n",
       "      <td>O</td>\n",
       "      <td>[в, министерство, образования,, как, говорить,...</td>\n",
       "    </tr>\n",
       "  </tbody>\n",
       "</table>\n",
       "</div>"
      ],
      "text/plain": [
       "                                                    text class  \\\n",
       "12863  Адвокат Данил Шицов, защищающий Половникова, с...     O   \n",
       "20504  Об этом заявил представитель Следственного ком...     O   \n",
       "26597  В министерстве образования, как говорит Елена ...     O   \n",
       "\n",
       "                                                text_lem  \n",
       "12863  [адвокат, данил, шицов,, защищать, половникова...  \n",
       "20504  [о, это, заявить, представитель, следственный,...  \n",
       "26597  [в, министерство, образования,, как, говорить,...  "
      ]
     },
     "execution_count": 20,
     "metadata": {},
     "output_type": "execute_result"
    }
   ],
   "source": [
    "train.sample(3)"
   ]
  },
  {
   "cell_type": "code",
   "execution_count": 21,
   "id": "ab6975b7",
   "metadata": {
    "execution": {
     "iopub.execute_input": "2022-06-26T09:50:57.606966Z",
     "iopub.status.busy": "2022-06-26T09:50:57.606622Z",
     "iopub.status.idle": "2022-06-26T09:50:57.611450Z",
     "shell.execute_reply": "2022-06-26T09:50:57.610756Z"
    },
    "papermill": {
     "duration": 0.248195,
     "end_time": "2022-06-26T09:50:57.613563",
     "exception": false,
     "start_time": "2022-06-26T09:50:57.365368",
     "status": "completed"
    },
    "tags": []
   },
   "outputs": [],
   "source": [
    "#%time\n",
    "#train_cuda['text_lem'] = train['text'].apply(lem)"
   ]
  },
  {
   "cell_type": "code",
   "execution_count": 22,
   "id": "651ad734",
   "metadata": {
    "execution": {
     "iopub.execute_input": "2022-06-26T09:50:58.097108Z",
     "iopub.status.busy": "2022-06-26T09:50:58.096318Z",
     "iopub.status.idle": "2022-06-26T09:50:59.879963Z",
     "shell.execute_reply": "2022-06-26T09:50:59.878472Z"
    },
    "papermill": {
     "duration": 2.027068,
     "end_time": "2022-06-26T09:50:59.882577",
     "exception": false,
     "start_time": "2022-06-26T09:50:57.855509",
     "status": "completed"
    },
    "tags": []
   },
   "outputs": [
    {
     "name": "stderr",
     "output_type": "stream",
     "text": [
      "100%|██████████| 60000/60000 [00:01<00:00, 33839.38it/s]\n"
     ]
    }
   ],
   "source": [
    "unique_words = {}\n",
    "for i in tqdm(train.index):\n",
    "    for j in set(train['text_lem'].loc[i]):\n",
    "        if len(j) == 1:\n",
    "            pass\n",
    "        else:\n",
    "            if j in unique_words.keys():\n",
    "                unique_words[j] += 1\n",
    "            else:\n",
    "                unique_words[j] = 1"
   ]
  },
  {
   "cell_type": "code",
   "execution_count": 23,
   "id": "08cc5288",
   "metadata": {
    "execution": {
     "iopub.execute_input": "2022-06-26T09:51:00.366891Z",
     "iopub.status.busy": "2022-06-26T09:51:00.366232Z",
     "iopub.status.idle": "2022-06-26T09:51:00.369982Z",
     "shell.execute_reply": "2022-06-26T09:51:00.369249Z"
    },
    "papermill": {
     "duration": 0.248461,
     "end_time": "2022-06-26T09:51:00.371655",
     "exception": false,
     "start_time": "2022-06-26T09:51:00.123194",
     "status": "completed"
    },
    "tags": []
   },
   "outputs": [],
   "source": [
    "#unique_words = {}\n",
    "#for i in tqdm(train_cuda.index):\n",
    "#    for j in set(train_cuda['text_lem'].loc[i]):\n",
    "#        if j in unique_words.keys():\n",
    "#            unique_words[j] += 1\n",
    "#        else:\n",
    "#            unique_words[j] = 1"
   ]
  },
  {
   "cell_type": "code",
   "execution_count": 24,
   "id": "b0fddf8c",
   "metadata": {
    "execution": {
     "iopub.execute_input": "2022-06-26T09:51:00.980236Z",
     "iopub.status.busy": "2022-06-26T09:51:00.979780Z",
     "iopub.status.idle": "2022-06-26T09:51:00.999861Z",
     "shell.execute_reply": "2022-06-26T09:51:00.999106Z"
    },
    "papermill": {
     "duration": 0.35391,
     "end_time": "2022-06-26T09:51:01.006213",
     "exception": false,
     "start_time": "2022-06-26T09:51:00.652303",
     "status": "completed"
    },
    "tags": []
   },
   "outputs": [
    {
     "data": {
      "text/plain": [
       "4"
      ]
     },
     "execution_count": 24,
     "metadata": {},
     "output_type": "execute_result"
    }
   ],
   "source": [
    "sorted(list(unique_words.values()), reverse = True)[20000]"
   ]
  },
  {
   "cell_type": "code",
   "execution_count": 25,
   "id": "be0accc7",
   "metadata": {
    "execution": {
     "iopub.execute_input": "2022-06-26T09:51:01.638334Z",
     "iopub.status.busy": "2022-06-26T09:51:01.637967Z",
     "iopub.status.idle": "2022-06-26T09:51:01.641626Z",
     "shell.execute_reply": "2022-06-26T09:51:01.640879Z"
    },
    "papermill": {
     "duration": 0.250855,
     "end_time": "2022-06-26T09:51:01.643387",
     "exception": false,
     "start_time": "2022-06-26T09:51:01.392532",
     "status": "completed"
    },
    "tags": []
   },
   "outputs": [],
   "source": [
    "#train = pd.DataFrame(train_cuda)"
   ]
  },
  {
   "cell_type": "code",
   "execution_count": 26,
   "id": "e2c6f358",
   "metadata": {
    "execution": {
     "iopub.execute_input": "2022-06-26T09:51:02.127598Z",
     "iopub.status.busy": "2022-06-26T09:51:02.127249Z",
     "iopub.status.idle": "2022-06-26T09:51:02.218820Z",
     "shell.execute_reply": "2022-06-26T09:51:02.217988Z"
    },
    "papermill": {
     "duration": 0.337271,
     "end_time": "2022-06-26T09:51:02.221252",
     "exception": false,
     "start_time": "2022-06-26T09:51:01.883981",
     "status": "completed"
    },
    "tags": []
   },
   "outputs": [
    {
     "name": "stderr",
     "output_type": "stream",
     "text": [
      "100%|██████████| 109544/109544 [00:00<00:00, 1295178.92it/s]\n"
     ]
    }
   ],
   "source": [
    "pop_words = []\n",
    "for i in tqdm(unique_words.keys()):\n",
    "    if unique_words[i] < 4:\n",
    "        pass\n",
    "    else:\n",
    "        pop_words.append(i)"
   ]
  },
  {
   "cell_type": "code",
   "execution_count": 27,
   "id": "219e8f7f",
   "metadata": {
    "execution": {
     "iopub.execute_input": "2022-06-26T09:51:02.701814Z",
     "iopub.status.busy": "2022-06-26T09:51:02.701466Z",
     "iopub.status.idle": "2022-06-26T09:51:02.723587Z",
     "shell.execute_reply": "2022-06-26T09:51:02.722842Z"
    },
    "papermill": {
     "duration": 0.264687,
     "end_time": "2022-06-26T09:51:02.725717",
     "exception": false,
     "start_time": "2022-06-26T09:51:02.461030",
     "status": "completed"
    },
    "tags": []
   },
   "outputs": [
    {
     "data": {
      "text/plain": [
       "['вестись',\n",
       " 'по',\n",
       " 'уверен:',\n",
       " 'другой',\n",
       " 'без',\n",
       " 'или',\n",
       " 'лично',\n",
       " 'то',\n",
       " 'должный',\n",
       " 'задача',\n",
       " 'продолжать',\n",
       " 'он',\n",
       " 'обязать',\n",
       " 'быть',\n",
       " 'есть',\n",
       " 'работа',\n",
       " 'при',\n",
       " 'этом,',\n",
       " 'например,',\n",
       " 'они',\n",
       " 'служебный',\n",
       " 'взгляды,',\n",
       " 'допуск',\n",
       " 'анкета',\n",
       " 'гриф',\n",
       " 'документ',\n",
       " 'граница',\n",
       " 'поездка',\n",
       " 'хранить',\n",
       " '\"длить',\n",
       " 'сотрудник',\n",
       " 'политический',\n",
       " 'информация',\n",
       " 'отмечать',\n",
       " 'специальный',\n",
       " 'отдел',\n",
       " 'за',\n",
       " '1-й',\n",
       " 'меры\",',\n",
       " 'это',\n",
       " 'более',\n",
       " 'он.',\n",
       " 'необходимо',\n",
       " 'сирийский',\n",
       " 'активный',\n",
       " 'но',\n",
       " 'пока',\n",
       " 'служба',\n",
       " 'принимать',\n",
       " 'безопасность',\n",
       " 'отметить',\n",
       " 'сообщили,',\n",
       " 'днк',\n",
       " 'найти',\n",
       " 'тело',\n",
       " 'что',\n",
       " 'мужчина',\n",
       " 'на',\n",
       " 'совпасть',\n",
       " 'мвд',\n",
       " 'пресс-секретарь',\n",
       " 'белый',\n",
       " 'для',\n",
       " 'псак',\n",
       " 'брифинг',\n",
       " 'среда',\n",
       " 'сообщить',\n",
       " 'дом',\n",
       " 'журналистов.',\n",
       " 'регулярный',\n",
       " 'джена',\n",
       " 'добавить',\n",
       " 'обжаловать',\n",
       " 'мы',\n",
       " 'приговор\",',\n",
       " 'ул.',\n",
       " 'верхнекамский',\n",
       " 'г.',\n",
       " 'кирс,',\n",
       " 'милицейский',\n",
       " 'произойти',\n",
       " 'пожар',\n",
       " 'автомобиле;',\n",
       " 'район,',\n",
       " 'новость',\n",
       " '(фото:',\n",
       " 'альшевский',\n",
       " 'кража',\n",
       " 'госдума',\n",
       " 'арестовать',\n",
       " 'депутат',\n",
       " 'прокомментировать',\n",
       " 'говорить',\n",
       " 'юрист',\n",
       " 'такой',\n",
       " 'чувствительный',\n",
       " 'консалтинговый',\n",
       " 'спецслужба',\n",
       " 'фирмы.',\n",
       " 'работать',\n",
       " 'игорь',\n",
       " 'сша,',\n",
       " 'который',\n",
       " 'версия',\n",
       " 'передать',\n",
       " 'прикрытие',\n",
       " 'секретный',\n",
       " 'под',\n",
       " 'канада',\n",
       " 'вооружение',\n",
       " 'институт',\n",
       " 'сша',\n",
       " 'российский',\n",
       " 'следствия,',\n",
       " 'сведение',\n",
       " 'британский',\n",
       " 'заключение',\n",
       " 'суд,',\n",
       " 'указано,',\n",
       " 'следствие',\n",
       " 'хотя',\n",
       " 'сам',\n",
       " 'также',\n",
       " 'поступить',\n",
       " 'адвокат.',\n",
       " 'не',\n",
       " 'соглашение',\n",
       " 'место',\n",
       " 'должность',\n",
       " 'указ',\n",
       " 'республика',\n",
       " 'доверия,',\n",
       " 'арина',\n",
       " 'освобождение',\n",
       " 'связь',\n",
       " 'от',\n",
       " 'сказать',\n",
       " 'новосельский',\n",
       " 'министр',\n",
       " 'подписать',\n",
       " 'сообщение',\n",
       " 'утрата',\n",
       " 'культура',\n",
       " 'вадимович',\n",
       " 'крым',\n",
       " 'статья',\n",
       " 'отправить',\n",
       " 'ответственность',\n",
       " 'комитет',\n",
       " 'уточнять',\n",
       " 'полиция',\n",
       " 'новости,',\n",
       " 'ли',\n",
       " 'помимо',\n",
       " 'подпадать',\n",
       " 'как',\n",
       " 'блогер',\n",
       " 'поступок',\n",
       " 'уголовный',\n",
       " 'материал',\n",
       " 'хулиганстве.',\n",
       " 'риа',\n",
       " 'проверки,',\n",
       " 'грозить',\n",
       " 'следственный',\n",
       " 'она',\n",
       " 'всегда',\n",
       " 'дела,',\n",
       " 'какой',\n",
       " 'пишет,',\n",
       " 'книга',\n",
       " 'целом,',\n",
       " 'интересный',\n",
       " 'гибель',\n",
       " 'привести',\n",
       " 'этаж',\n",
       " 'екатеринбургский',\n",
       " 'начальник',\n",
       " 'заместитель',\n",
       " 'пожарно-спасательный',\n",
       " 'гарнизон',\n",
       " 'анатолий',\n",
       " 'человек',\n",
       " 'сообщать',\n",
       " 'верхний',\n",
       " 'мочь',\n",
       " 'зал',\n",
       " 'суда.',\n",
       " 'из',\n",
       " 'корреспондент',\n",
       " 'тасс',\n",
       " 'пленум',\n",
       " 'рф',\n",
       " 'являться',\n",
       " 'возвращение',\n",
       " 'том,',\n",
       " 'верховный',\n",
       " 'тоже',\n",
       " 'основание',\n",
       " 'самостоятельный',\n",
       " 'дело',\n",
       " 'суд',\n",
       " 'понедельник',\n",
       " 'пресс-служба',\n",
       " 'области.',\n",
       " 'уфсб',\n",
       " 'кемеровский',\n",
       " 'включить',\n",
       " 'кстати',\n",
       " 'отвергнуть',\n",
       " 'бы',\n",
       " 'преступление',\n",
       " 'говоря,',\n",
       " 'польский',\n",
       " 'трибунал',\n",
       " 'нюрнбергский',\n",
       " 'советский',\n",
       " 'соколов:',\n",
       " 'ведь',\n",
       " 'михаил',\n",
       " 'военнопленный',\n",
       " 'убить',\n",
       " 'заметил,',\n",
       " 'нацизма,',\n",
       " 'карьера',\n",
       " 'конец',\n",
       " 'это,',\n",
       " 'даже',\n",
       " 'маленький',\n",
       " 'показывать',\n",
       " 'практика,',\n",
       " 'взятка',\n",
       " 'судьи.',\n",
       " 'лётчик',\n",
       " 'виктория',\n",
       " 'рассказать',\n",
       " 'супруг',\n",
       " 'региональный',\n",
       " '290',\n",
       " 'управление',\n",
       " 'иркутский',\n",
       " 'получение',\n",
       " 'подозрение',\n",
       " 'рф.',\n",
       " 'часть',\n",
       " 'возбудить',\n",
       " 'ук',\n",
       " 'скр',\n",
       " 'следователь',\n",
       " 'согласный',\n",
       " 'аскар',\n",
       " 'заявили,',\n",
       " 'прокурора.',\n",
       " 'адвокат',\n",
       " 'требование',\n",
       " 'обвинение',\n",
       " 'особо',\n",
       " 'привезти',\n",
       " 'москву,',\n",
       " 'потом',\n",
       " 'предъявить',\n",
       " 'мошенничество',\n",
       " 'где',\n",
       " 'арест.',\n",
       " 'крупный',\n",
       " 'домашний',\n",
       " 'режиссёр',\n",
       " 'размере,',\n",
       " 'затем,',\n",
       " 'совершить',\n",
       " 'атака',\n",
       " 'силовой',\n",
       " 'уж',\n",
       " 'группа',\n",
       " 'одновременный',\n",
       " '2-3',\n",
       " 'разделиться',\n",
       " 'здание',\n",
       " 'структура',\n",
       " 'боевика,',\n",
       " 'результат',\n",
       " 'балх,',\n",
       " 'кабул,',\n",
       " '16',\n",
       " 'партизанский',\n",
       " 'провинция',\n",
       " 'тахар,',\n",
       " 'герат,',\n",
       " 'понести',\n",
       " 'газни,',\n",
       " 'панджшер,',\n",
       " 'боевик',\n",
       " 'потеря',\n",
       " 'нангархар',\n",
       " 'фарьяб,',\n",
       " 'ахмади,',\n",
       " '\"талибана\"',\n",
       " 'баглан,',\n",
       " 'против',\n",
       " 'слово',\n",
       " 'журналистов,',\n",
       " 'данные',\n",
       " 'аброр',\n",
       " 'звонить',\n",
       " 'раз',\n",
       " '14',\n",
       " 'сентября.',\n",
       " 'последний',\n",
       " 'родственник',\n",
       " 'организатор',\n",
       " 'деньги,',\n",
       " 'если',\n",
       " 'участие',\n",
       " 'кто-то',\n",
       " 'кто',\n",
       " 'переводить',\n",
       " 'потенциально',\n",
       " 'получается,',\n",
       " 'ред.)',\n",
       " 'этот',\n",
       " 'сбор',\n",
       " 'обвинить',\n",
       " 'всех,',\n",
       " 'больше,',\n",
       " 'чем',\n",
       " 'украина',\n",
       " 'зеленский.',\n",
       " 'нужно',\n",
       " 'нарматовый',\n",
       " 'орозайый',\n",
       " 'позволить',\n",
       " 'задержание',\n",
       " 'встретиться',\n",
       " 'влияние',\n",
       " 'быстро',\n",
       " 'организации,',\n",
       " 'вы',\n",
       " 'попасть',\n",
       " 'действовать',\n",
       " 'ребёнок',\n",
       " 'экстремистский',\n",
       " 'ваш',\n",
       " 'назад',\n",
       " 'однако',\n",
       " 'медик',\n",
       " 'китайский',\n",
       " 'алматинский',\n",
       " 'ещё',\n",
       " 'пункт',\n",
       " 'исчезнуть',\n",
       " 'неделя',\n",
       " 'прививочный',\n",
       " 'вакцина',\n",
       " 'рублей,',\n",
       " 'варьироваться',\n",
       " 'тысяча',\n",
       " '500',\n",
       " 'сумма',\n",
       " '10',\n",
       " 'су',\n",
       " 'югорский',\n",
       " 'до',\n",
       " 'скр.',\n",
       " 'рубль',\n",
       " 'столица',\n",
       " 'совет',\n",
       " 'заседание',\n",
       " 'район',\n",
       " 'окружать',\n",
       " 'оон.',\n",
       " 'большинство',\n",
       " 'захватить',\n",
       " 'сообщил,',\n",
       " '12',\n",
       " 'зона',\n",
       " 'идлибский',\n",
       " 'ан-нусра\"',\n",
       " 'обстрел',\n",
       " 'террорист',\n",
       " 'деэскалации.',\n",
       " 'кулить',\n",
       " '(запретить',\n",
       " 'группировка',\n",
       " '\"джебхата',\n",
       " 'рф)',\n",
       " '2020',\n",
       " 'финансовый',\n",
       " 'латвия',\n",
       " 'период',\n",
       " 'снизиться',\n",
       " 'млн',\n",
       " 'первый',\n",
       " 'евро,',\n",
       " 'же',\n",
       " 'года,',\n",
       " '2021',\n",
       " 'прибыль',\n",
       " 'шесть',\n",
       " 'месяц',\n",
       " 'тот',\n",
       " 'отчёт',\n",
       " 'евро.',\n",
       " 'банка,',\n",
       " 'согласно',\n",
       " 'меньше,',\n",
       " 'составить',\n",
       " 'год',\n",
       " 'должностной',\n",
       " '650',\n",
       " 'размер',\n",
       " 'учреждения,',\n",
       " 'москвы,',\n",
       " 'тыс.',\n",
       " 'интерес',\n",
       " '26',\n",
       " 'специалист',\n",
       " 'получить',\n",
       " 'ноябрь',\n",
       " 'главный',\n",
       " 'представлять',\n",
       " 'житель',\n",
       " 'лицо',\n",
       " 'представить',\n",
       " 'генпрокуратура',\n",
       " 'гособвинитель',\n",
       " 'обоснованность',\n",
       " 'сообщают,',\n",
       " 'доказательство',\n",
       " 'выжить',\n",
       " 'вертолёт',\n",
       " 'крушение',\n",
       " '2015',\n",
       " 'северо-восточный',\n",
       " 'штат',\n",
       " 'пытаться',\n",
       " 'публичный',\n",
       " 'застройщик',\n",
       " 'слушание',\n",
       " 'путём',\n",
       " 'свой',\n",
       " 'ранний',\n",
       " 'влиять',\n",
       " 'сообщество',\n",
       " 'нападение',\n",
       " 'ингушетии,',\n",
       " 'полицейский',\n",
       " 'хасан',\n",
       " 'бизнесмен',\n",
       " 'террористический',\n",
       " 'сеть',\n",
       " 'создатель',\n",
       " 'считать',\n",
       " 'оба',\n",
       " 'последователь',\n",
       " '\"ъ\",',\n",
       " 'владелец',\n",
       " 'член',\n",
       " 'дальнейший',\n",
       " 'план',\n",
       " 'обменяться',\n",
       " 'развитие',\n",
       " 'мнение',\n",
       " 'песков.',\n",
       " 'россия',\n",
       " 'стабилизировать',\n",
       " 'ресурс',\n",
       " '\"наша',\n",
       " 'новый',\n",
       " 'китай',\n",
       " 'миллион',\n",
       " 'доллар',\n",
       " 'президент',\n",
       " 'хотеть',\n",
       " 'соперник',\n",
       " 'ничего',\n",
       " 'байден,',\n",
       " 'бесконечный',\n",
       " 'стратегический',\n",
       " 'истинный',\n",
       " 'попытка',\n",
       " 'заявил:',\n",
       " 'сторона',\n",
       " 'полномочие',\n",
       " 'создать',\n",
       " 'комиссий,',\n",
       " 'иметься',\n",
       " 'она.',\n",
       " 'земельный',\n",
       " 'неизвестный',\n",
       " 'цель',\n",
       " 'сообщает:',\n",
       " 'населить',\n",
       " 'sohr',\n",
       " 'около',\n",
       " 'самолёт',\n",
       " 'атаковать',\n",
       " 'добавил,',\n",
       " 'сторонник',\n",
       " 'индия',\n",
       " 'последовательный',\n",
       " 'мирный',\n",
       " 'осуществлять',\n",
       " 'процесса,',\n",
       " 'возглавлять',\n",
       " 'районный',\n",
       " 'октябрь',\n",
       " 'самарский',\n",
       " 'сизый',\n",
       " 'суде.',\n",
       " '19',\n",
       " 'остаться',\n",
       " 'заключить',\n",
       " 'выстроить',\n",
       " '\"обвинение',\n",
       " 'условие',\n",
       " 'очень',\n",
       " 'байден',\n",
       " 'путин',\n",
       " 'предварительный',\n",
       " 'серьёзный',\n",
       " 'частности,',\n",
       " 'признает,',\n",
       " 'встреча',\n",
       " 'режима\",',\n",
       " 'строгий',\n",
       " 'объявить',\n",
       " 'наказание',\n",
       " 'судья',\n",
       " 'колония',\n",
       " 'екатерина',\n",
       " 'вид',\n",
       " 'пять',\n",
       " 'свобода',\n",
       " 'отбывание',\n",
       " 'лишение',\n",
       " 'передавать',\n",
       " 'дать',\n",
       " 'украины.',\n",
       " 'пресечение',\n",
       " 'постановить',\n",
       " 'обстоятельство',\n",
       " 'отношение',\n",
       " 'мера',\n",
       " 'приводить',\n",
       " 'подозревать',\n",
       " 'избрать',\n",
       " 'стража',\n",
       " '2017',\n",
       " 'апрель',\n",
       " '\"учитывать',\n",
       " 'орган',\n",
       " 'заинтересовать',\n",
       " 'свердловский',\n",
       " 'исход',\n",
       " 'область',\n",
       " 'польза',\n",
       " 'прокуратура',\n",
       " 'поисковый',\n",
       " 'соответствие',\n",
       " 'запрос',\n",
       " 'федеральный',\n",
       " 'пояснение',\n",
       " 'скрытый',\n",
       " 'закон',\n",
       " 'поиск',\n",
       " 'общество',\n",
       " 'формировать',\n",
       " 'образ',\n",
       " 'привлекательный',\n",
       " 'судьи,',\n",
       " 'заехать',\n",
       " 'ибрагим',\n",
       " 'сокрытие',\n",
       " 'сулейман',\n",
       " 'родитель',\n",
       " 'заявил,',\n",
       " 'преступления.',\n",
       " 'того,',\n",
       " 'кроме',\n",
       " 'протасевич',\n",
       " 'tut.by',\n",
       " 'отец',\n",
       " '\"у',\n",
       " 'блогера.',\n",
       " 'после',\n",
       " 'заявить',\n",
       " 'интервью',\n",
       " 'роман',\n",
       " 'только',\n",
       " 'организация',\n",
       " 'деятельности,',\n",
       " 'веровать',\n",
       " 'финансировании.',\n",
       " 'рф),',\n",
       " 'ингушетия',\n",
       " 'деятельность',\n",
       " '(статья',\n",
       " 'ссылка',\n",
       " '\"интерфакс\".',\n",
       " 'август',\n",
       " 'прохождение',\n",
       " 'осуществление',\n",
       " 'обучение',\n",
       " 'хмао.',\n",
       " 'малый',\n",
       " 'погибли,',\n",
       " 'десятилетия,',\n",
       " 'человека.',\n",
       " 'кипр',\n",
       " 'лето',\n",
       " 'самый',\n",
       " 'четыре',\n",
       " 'мере,',\n",
       " 'сильный',\n",
       " 'дома,',\n",
       " 'толчок',\n",
       " 'подземный',\n",
       " 'разрушить',\n",
       " 'провести',\n",
       " 'владимир',\n",
       " 'д.',\n",
       " 'обвинять',\n",
       " 'распространение',\n",
       " 'вымогательстве,',\n",
       " 'паблик',\n",
       " 'клевете,',\n",
       " '55',\n",
       " 'общий',\n",
       " 'пытали,',\n",
       " 'чтобы',\n",
       " 'два',\n",
       " 'рублей.',\n",
       " 'переписать',\n",
       " 'три',\n",
       " 'мавридти',\n",
       " 'стоимость',\n",
       " 'удерживать',\n",
       " 'москва',\n",
       " 'сообщник',\n",
       " 'квартира',\n",
       " 'европейский',\n",
       " 'беларусь',\n",
       " 'подчеркнул,',\n",
       " 'александр',\n",
       " 'союз',\n",
       " 'лукашенко',\n",
       " 'добрый',\n",
       " 'выстраивать',\n",
       " 'дверь',\n",
       " 'анонимности,',\n",
       " 'поздно',\n",
       " '\"ъ\"',\n",
       " 'ждать',\n",
       " 'квартиры.',\n",
       " 'форма',\n",
       " 'вечером',\n",
       " 'бабуров',\n",
       " 'еспча',\n",
       " 'приговор',\n",
       " 'осудить',\n",
       " 'потребовать',\n",
       " 'маркелов',\n",
       " 'пересмотреть',\n",
       " 'убийство',\n",
       " 'страна',\n",
       " 'старый',\n",
       " 'описывать',\n",
       " 'так',\n",
       " 'американский',\n",
       " 'журнал',\n",
       " 'агентство',\n",
       " 'афганский',\n",
       " '(с',\n",
       " 'проведение',\n",
       " 'утверждение',\n",
       " 'отзывный',\n",
       " 'возможность',\n",
       " 'массовый',\n",
       " 'кампания',\n",
       " 'повод',\n",
       " 'сайт',\n",
       " '\"ведомости\".',\n",
       " 'опубликовать',\n",
       " 'писать',\n",
       " 'пентагона,',\n",
       " 'тогда',\n",
       " 'губернатор',\n",
       " 'бывший',\n",
       " 'возбуждение',\n",
       " 'опровергнуть',\n",
       " 'искренне',\n",
       " '\"я',\n",
       " 'решений,',\n",
       " 'принять',\n",
       " 'множество',\n",
       " 'сказал:',\n",
       " 'дмитрий',\n",
       " 'история',\n",
       " 'исследователь',\n",
       " 'голос',\n",
       " 'источник:',\n",
       " 'глава',\n",
       " 'олег',\n",
       " 'регион',\n",
       " 'instagram',\n",
       " 'страница',\n",
       " 'чиновника,',\n",
       " 'online\".',\n",
       " '\"бизнес',\n",
       " 'раскаяться',\n",
       " '\"в',\n",
       " '13',\n",
       " 'причём',\n",
       " '2018',\n",
       " '11',\n",
       " 'губопик',\n",
       " 'арестованы.',\n",
       " 'алексей',\n",
       " 'запросить',\n",
       " 'подсудимый',\n",
       " 'колонии,',\n",
       " 'никулинский',\n",
       " 'кирсанов.',\n",
       " 'делить',\n",
       " 'скамья',\n",
       " 'предприниматель',\n",
       " 'вершинин',\n",
       " 'георгий',\n",
       " 'рбк',\n",
       " 'кейс',\n",
       " 'лариса',\n",
       " 'можно',\n",
       " 'сегодня',\n",
       " 'мельников.',\n",
       " 'маркус',\n",
       " 'актив',\n",
       " 'оценить',\n",
       " 'все,',\n",
       " 'целое',\n",
       " 'наслать',\n",
       " '$100',\n",
       " 'время',\n",
       " 'римская.',\n",
       " 'рублей\",',\n",
       " 'весь',\n",
       " '19,5',\n",
       " 'военный',\n",
       " 'контакт',\n",
       " 'когда',\n",
       " 'милль',\n",
       " 'беседа',\n",
       " 'целесообразность',\n",
       " 'характер',\n",
       " 'следовать',\n",
       " 'высказаться',\n",
       " 'финляндии.',\n",
       " 'ассошиэйтед',\n",
       " 'расширение',\n",
       " 'отказать',\n",
       " 'арест',\n",
       " 'вакса',\n",
       " 'янукович',\n",
       " 'расследование',\n",
       " 'нарушение',\n",
       " 'заочный',\n",
       " 'досудебный',\n",
       " 'присвоение',\n",
       " 'выручка',\n",
       " 'нет,',\n",
       " 'убыток',\n",
       " 'расти',\n",
       " 'постановление',\n",
       " 'девятый',\n",
       " '\"золотой',\n",
       " 'апелляционный',\n",
       " 'конкурсный',\n",
       " 'сообщает,',\n",
       " 'ооо',\n",
       " 'арбитражный',\n",
       " 'определение',\n",
       " 'управлять',\n",
       " 'территория',\n",
       " 'га',\n",
       " '3,1',\n",
       " '3,4',\n",
       " 'сейчас',\n",
       " 'якутия',\n",
       " 'гореть',\n",
       " 'охватить',\n",
       " 'краевой',\n",
       " 'вторник',\n",
       " 'ареста,',\n",
       " 'саха',\n",
       " 'якутия).',\n",
       " 'злоупотребление',\n",
       " 'бюро',\n",
       " 'средств,',\n",
       " 'директор',\n",
       " 'власть',\n",
       " 'профессиональный',\n",
       " 'колва',\n",
       " 'тонна',\n",
       " 'нефтепродуктов.',\n",
       " 'река',\n",
       " 'девять',\n",
       " 'разлив',\n",
       " 'командование',\n",
       " 'государство',\n",
       " 'россии),',\n",
       " 'операция',\n",
       " 'reuters.',\n",
       " 'вооружённый',\n",
       " 'сила',\n",
       " '\"исламский',\n",
       " 'источник',\n",
       " 'сей',\n",
       " 'forbes',\n",
       " 'пора',\n",
       " 'строительный',\n",
       " 'говорят,',\n",
       " 'сохранять',\n",
       " 'рынок',\n",
       " 'оправдательный',\n",
       " 'отменить',\n",
       " 'убийстве.',\n",
       " 'алёна',\n",
       " 'вс',\n",
       " 'крым,',\n",
       " 'администрация',\n",
       " 'город',\n",
       " 'белогорск',\n",
       " '18',\n",
       " 'студент',\n",
       " 'bloomberg',\n",
       " 'лет,',\n",
       " 'усман',\n",
       " 'звать',\n",
       " 'вменять',\n",
       " 'участок',\n",
       " 'взять',\n",
       " 'шахта',\n",
       " 'производственный',\n",
       " 'сергей',\n",
       " '27',\n",
       " 'андрей',\n",
       " 'ноября,',\n",
       " 'промышленный',\n",
       " 'объектов.',\n",
       " 'превратить',\n",
       " 'украинский',\n",
       " 'оппозиционный',\n",
       " 'заложников.',\n",
       " 'ранее',\n",
       " 'политик',\n",
       " 'опзж',\n",
       " 'жертва',\n",
       " 'наводнение',\n",
       " 'индонезийский',\n",
       " 'суммарный',\n",
       " 'сулавеси',\n",
       " 'землетрясение',\n",
       " 'число',\n",
       " 'остров',\n",
       " 'нет\",',\n",
       " 'гражданский',\n",
       " 'правоохранительный',\n",
       " 'население',\n",
       " 'фсб.',\n",
       " 'среди',\n",
       " 'города.',\n",
       " 'над',\n",
       " 'движение',\n",
       " 'штаб-квартира',\n",
       " 'флаг',\n",
       " 'сообщал,',\n",
       " 'установить',\n",
       " 'afp',\n",
       " 'герат',\n",
       " 'органах,',\n",
       " 'свидетель',\n",
       " 'оказать',\n",
       " 'уничтожить',\n",
       " 'давление',\n",
       " 'офицер',\n",
       " 'правосудия,',\n",
       " 'воспользоваться',\n",
       " 'доказательства.',\n",
       " 'указала,',\n",
       " 'скрыться',\n",
       " 'боевой',\n",
       " 'националист',\n",
       " 'русский',\n",
       " 'тихонов',\n",
       " 'евгения',\n",
       " 'журналистка',\n",
       " '\"новый',\n",
       " 'хасис',\n",
       " '2009',\n",
       " 'года.',\n",
       " 'январь',\n",
       " 'никита',\n",
       " 'анастасия',\n",
       " 'газеты\"',\n",
       " 'станислав',\n",
       " 'сми',\n",
       " 'человеку,',\n",
       " 'деловой',\n",
       " 'отсутствовать',\n",
       " 'значительный',\n",
       " 'контроль',\n",
       " 'медиа.',\n",
       " 'иметь',\n",
       " 'экономический',\n",
       " 'тоо',\n",
       " 'один',\n",
       " 'выручки,',\n",
       " 'отделение',\n",
       " 'представитель',\n",
       " 'сдавать',\n",
       " 'департамент',\n",
       " 'присвоить',\n",
       " 'счёт',\n",
       " 'сотрудница',\n",
       " 'предприятия.',\n",
       " 'вести',\n",
       " 'николай',\n",
       " 'дело,',\n",
       " 'набу,',\n",
       " 'конфликт',\n",
       " 'ведомство',\n",
       " 'чаус',\n",
       " 'видеообращение,',\n",
       " 'артём',\n",
       " 'указать',\n",
       " 'записать',\n",
       " 'ассанж',\n",
       " 'цру',\n",
       " 'оказаться',\n",
       " 'юстиция',\n",
       " 'всякий',\n",
       " 'формальный',\n",
       " 'чиновник',\n",
       " 'удалось,',\n",
       " 'него.',\n",
       " 'министерство',\n",
       " 'критерий',\n",
       " 'претендент',\n",
       " 'отбор',\n",
       " 'отказ',\n",
       " 'задолженность',\n",
       " 'была,',\n",
       " 'наличие',\n",
       " 'причина',\n",
       " 'отряд',\n",
       " 'акт',\n",
       " 'одесский',\n",
       " 'морской',\n",
       " 'delfi',\n",
       " 'украины).',\n",
       " 'приморский',\n",
       " 'окружный',\n",
       " 'факт',\n",
       " '(ч.',\n",
       " 'танкер',\n",
       " 'обвинительный',\n",
       " 'охрана',\n",
       " 'одесса',\n",
       " 'небрежный',\n",
       " 'направить',\n",
       " 'корабль',\n",
       " 'ст.',\n",
       " 'командир',\n",
       " 'максут',\n",
       " 'замыкание);',\n",
       " 'северный',\n",
       " 'площадь',\n",
       " '(короткий',\n",
       " 'с.',\n",
       " 'жилой',\n",
       " '90',\n",
       " 'недостаток',\n",
       " 'электрооборудование',\n",
       " 'кв.м.,',\n",
       " 'конструкция',\n",
       " 'изготовление',\n",
       " 'адресу:',\n",
       " 'возникновение',\n",
       " 'пожар,',\n",
       " 'послужить',\n",
       " 'пер.',\n",
       " 'основной',\n",
       " 'рассказывать',\n",
       " 'работают,',\n",
       " 'предоставить',\n",
       " 'пусть',\n",
       " 'всё',\n",
       " 'поймать',\n",
       " 'шпион',\n",
       " 'очередь,',\n",
       " 'диверсант',\n",
       " ...]"
      ]
     },
     "execution_count": 27,
     "metadata": {},
     "output_type": "execute_result"
    }
   ],
   "source": [
    "pop_words"
   ]
  },
  {
   "cell_type": "code",
   "execution_count": 28,
   "id": "00ecf5b8",
   "metadata": {
    "execution": {
     "iopub.execute_input": "2022-06-26T09:51:03.253649Z",
     "iopub.status.busy": "2022-06-26T09:51:03.253300Z",
     "iopub.status.idle": "2022-06-26T09:51:03.257841Z",
     "shell.execute_reply": "2022-06-26T09:51:03.257124Z"
    },
    "papermill": {
     "duration": 0.248166,
     "end_time": "2022-06-26T09:51:03.259597",
     "exception": false,
     "start_time": "2022-06-26T09:51:03.011431",
     "status": "completed"
    },
    "tags": []
   },
   "outputs": [],
   "source": [
    "def text_lem_set(x):\n",
    "    y = []\n",
    "    for w in x:\n",
    "        if w in pop_words:\n",
    "            y.append(w)\n",
    "        else:\n",
    "            pass\n",
    "    return y          \n",
    "            "
   ]
  },
  {
   "cell_type": "code",
   "execution_count": 29,
   "id": "77b75c4f",
   "metadata": {
    "execution": {
     "iopub.execute_input": "2022-06-26T09:51:03.747718Z",
     "iopub.status.busy": "2022-06-26T09:51:03.747380Z",
     "iopub.status.idle": "2022-06-26T09:53:28.638841Z",
     "shell.execute_reply": "2022-06-26T09:53:28.638097Z"
    },
    "papermill": {
     "duration": 145.138066,
     "end_time": "2022-06-26T09:53:28.642452",
     "exception": false,
     "start_time": "2022-06-26T09:51:03.504386",
     "status": "completed"
    },
    "tags": []
   },
   "outputs": [
    {
     "name": "stderr",
     "output_type": "stream",
     "text": [
      "100%|██████████| 60000/60000 [02:24<00:00, 414.13it/s]\n"
     ]
    }
   ],
   "source": [
    "train['text_lem_set'] = train['text_lem'].progress_apply(lambda x: text_lem_set(x))"
   ]
  },
  {
   "cell_type": "code",
   "execution_count": 30,
   "id": "2c4d7ea0",
   "metadata": {
    "execution": {
     "iopub.execute_input": "2022-06-26T09:53:29.283614Z",
     "iopub.status.busy": "2022-06-26T09:53:29.282777Z",
     "iopub.status.idle": "2022-06-26T09:53:29.307645Z",
     "shell.execute_reply": "2022-06-26T09:53:29.306900Z"
    },
    "papermill": {
     "duration": 0.347657,
     "end_time": "2022-06-26T09:53:29.309414",
     "exception": false,
     "start_time": "2022-06-26T09:53:28.961757",
     "status": "completed"
    },
    "tags": []
   },
   "outputs": [
    {
     "data": {
      "text/html": [
       "<div>\n",
       "<style scoped>\n",
       "    .dataframe tbody tr th:only-of-type {\n",
       "        vertical-align: middle;\n",
       "    }\n",
       "\n",
       "    .dataframe tbody tr th {\n",
       "        vertical-align: top;\n",
       "    }\n",
       "\n",
       "    .dataframe thead th {\n",
       "        text-align: right;\n",
       "    }\n",
       "</style>\n",
       "<table border=\"1\" class=\"dataframe\">\n",
       "  <thead>\n",
       "    <tr style=\"text-align: right;\">\n",
       "      <th></th>\n",
       "      <th>text</th>\n",
       "      <th>class</th>\n",
       "      <th>text_lem</th>\n",
       "      <th>text_lem_set</th>\n",
       "    </tr>\n",
       "  </thead>\n",
       "  <tbody>\n",
       "    <tr>\n",
       "      <th>16750</th>\n",
       "      <td>По словам регионального министра здравоохранен...</td>\n",
       "      <td>O</td>\n",
       "      <td>[по, слово, региональный, министр, здравоохран...</td>\n",
       "      <td>[по, слово, региональный, министр, здравоохран...</td>\n",
       "    </tr>\n",
       "  </tbody>\n",
       "</table>\n",
       "</div>"
      ],
      "text/plain": [
       "                                                    text class  \\\n",
       "16750  По словам регионального министра здравоохранен...     O   \n",
       "\n",
       "                                                text_lem  \\\n",
       "16750  [по, слово, региональный, министр, здравоохран...   \n",
       "\n",
       "                                            text_lem_set  \n",
       "16750  [по, слово, региональный, министр, здравоохран...  "
      ]
     },
     "execution_count": 30,
     "metadata": {},
     "output_type": "execute_result"
    }
   ],
   "source": [
    "train.sample()"
   ]
  },
  {
   "cell_type": "code",
   "execution_count": 31,
   "id": "be844f88",
   "metadata": {
    "execution": {
     "iopub.execute_input": "2022-06-26T09:53:29.989636Z",
     "iopub.status.busy": "2022-06-26T09:53:29.989289Z",
     "iopub.status.idle": "2022-06-26T09:53:30.026335Z",
     "shell.execute_reply": "2022-06-26T09:53:30.025525Z"
    },
    "papermill": {
     "duration": 0.400744,
     "end_time": "2022-06-26T09:53:30.028043",
     "exception": false,
     "start_time": "2022-06-26T09:53:29.627299",
     "status": "completed"
    },
    "tags": []
   },
   "outputs": [],
   "source": [
    "train['text_lem_set_len'] = train['text_lem_set'].apply(lambda x: len(x))"
   ]
  },
  {
   "cell_type": "code",
   "execution_count": 32,
   "id": "4cd7cf64",
   "metadata": {
    "execution": {
     "iopub.execute_input": "2022-06-26T09:53:30.665619Z",
     "iopub.status.busy": "2022-06-26T09:53:30.664853Z",
     "iopub.status.idle": "2022-06-26T09:53:30.874756Z",
     "shell.execute_reply": "2022-06-26T09:53:30.873910Z"
    },
    "papermill": {
     "duration": 0.5291,
     "end_time": "2022-06-26T09:53:30.876460",
     "exception": false,
     "start_time": "2022-06-26T09:53:30.347360",
     "status": "completed"
    },
    "tags": []
   },
   "outputs": [
    {
     "data": {
      "text/plain": [
       "<AxesSubplot:>"
      ]
     },
     "execution_count": 32,
     "metadata": {},
     "output_type": "execute_result"
    },
    {
     "data": {
      "image/png": "[encoded data removed]",
      "text/plain": [
       "<Figure size 720x360 with 1 Axes>"
      ]
     },
     "metadata": {
      "needs_background": "light"
     },
     "output_type": "display_data"
    }
   ],
   "source": [
    "train['text_lem_set_len'].value_counts(bins = 10).plot(kind = 'barh',figsize = (10, 5))"
   ]
  },
  {
   "cell_type": "code",
   "execution_count": 33,
   "id": "cc01788a",
   "metadata": {
    "execution": {
     "iopub.execute_input": "2022-06-26T09:53:31.565785Z",
     "iopub.status.busy": "2022-06-26T09:53:31.565418Z",
     "iopub.status.idle": "2022-06-26T09:53:31.570700Z",
     "shell.execute_reply": "2022-06-26T09:53:31.569961Z"
    },
    "papermill": {
     "duration": 0.369256,
     "end_time": "2022-06-26T09:53:31.572387",
     "exception": false,
     "start_time": "2022-06-26T09:53:31.203131",
     "status": "completed"
    },
    "tags": []
   },
   "outputs": [
    {
     "data": {
      "text/plain": [
       "20150"
      ]
     },
     "execution_count": 33,
     "metadata": {},
     "output_type": "execute_result"
    }
   ],
   "source": [
    "len(pop_words)"
   ]
  },
  {
   "cell_type": "markdown",
   "id": "3c83f263",
   "metadata": {
    "papermill": {
     "duration": 0.324871,
     "end_time": "2022-06-26T09:53:32.219611",
     "exception": false,
     "start_time": "2022-06-26T09:53:31.894740",
     "status": "completed"
    },
    "tags": []
   },
   "source": [
    "Количество уникальных слов 162 000 \\\n",
    "Лемматизированных уникальных слов 109 627"
   ]
  },
  {
   "cell_type": "markdown",
   "id": "1a73457a",
   "metadata": {
    "papermill": {
     "duration": 0.323092,
     "end_time": "2022-06-26T09:53:32.861636",
     "exception": false,
     "start_time": "2022-06-26T09:53:32.538544",
     "status": "completed"
    },
    "tags": []
   },
   "source": [
    "##  Попробую пойти по пути токенизации текста и моделей TesorFlow"
   ]
  },
  {
   "cell_type": "code",
   "execution_count": 34,
   "id": "ba20dfa1",
   "metadata": {
    "execution": {
     "iopub.execute_input": "2022-06-26T09:53:33.543121Z",
     "iopub.status.busy": "2022-06-26T09:53:33.542738Z",
     "iopub.status.idle": "2022-06-26T09:53:33.546953Z",
     "shell.execute_reply": "2022-06-26T09:53:33.546146Z"
    },
    "papermill": {
     "duration": 0.323699,
     "end_time": "2022-06-26T09:53:33.548616",
     "exception": false,
     "start_time": "2022-06-26T09:53:33.224917",
     "status": "completed"
    },
    "tags": []
   },
   "outputs": [],
   "source": [
    "# Максимальное количество слов \n",
    "num_words = len(pop_words)\n",
    "# Максимальная длина новости\n",
    "max_news_len = 29\n",
    "# Количество классов новостей\n",
    "nb_classes = 50"
   ]
  },
  {
   "cell_type": "code",
   "execution_count": 35,
   "id": "c8d229dd",
   "metadata": {
    "execution": {
     "iopub.execute_input": "2022-06-26T09:53:34.196798Z",
     "iopub.status.busy": "2022-06-26T09:53:34.195977Z",
     "iopub.status.idle": "2022-06-26T09:53:34.224319Z",
     "shell.execute_reply": "2022-06-26T09:53:34.223437Z"
    },
    "papermill": {
     "duration": 0.357123,
     "end_time": "2022-06-26T09:53:34.226333",
     "exception": false,
     "start_time": "2022-06-26T09:53:33.869210",
     "status": "completed"
    },
    "tags": []
   },
   "outputs": [
    {
     "data": {
      "text/html": [
       "<div>\n",
       "<style scoped>\n",
       "    .dataframe tbody tr th:only-of-type {\n",
       "        vertical-align: middle;\n",
       "    }\n",
       "\n",
       "    .dataframe tbody tr th {\n",
       "        vertical-align: top;\n",
       "    }\n",
       "\n",
       "    .dataframe thead th {\n",
       "        text-align: right;\n",
       "    }\n",
       "</style>\n",
       "<table border=\"1\" class=\"dataframe\">\n",
       "  <thead>\n",
       "    <tr style=\"text-align: right;\">\n",
       "      <th></th>\n",
       "      <th>text</th>\n",
       "      <th>class</th>\n",
       "      <th>text_lem</th>\n",
       "      <th>text_lem_set</th>\n",
       "      <th>text_lem_set_len</th>\n",
       "      <th>class_cat</th>\n",
       "    </tr>\n",
       "  </thead>\n",
       "  <tbody>\n",
       "    <tr>\n",
       "      <th>15096</th>\n",
       "      <td>Он уже год не член фракции\", - посетовал Корни...</td>\n",
       "      <td>O</td>\n",
       "      <td>[он, уже, год, не, член, фракции\",, -, посетов...</td>\n",
       "      <td>[он, уже, год, не, член, посетовать]</td>\n",
       "      <td>6</td>\n",
       "      <td>0</td>\n",
       "    </tr>\n",
       "    <tr>\n",
       "      <th>8784</th>\n",
       "      <td>Президент Украины утверждает, что нынешний кие...</td>\n",
       "      <td>O</td>\n",
       "      <td>[президент, украина, утверждает,, что, нынешни...</td>\n",
       "      <td>[президент, украина, утверждает,, что, нынешни...</td>\n",
       "      <td>12</td>\n",
       "      <td>0</td>\n",
       "    </tr>\n",
       "    <tr>\n",
       "      <th>51043</th>\n",
       "      <td>В ответ премьер-министр Израиля Биньямин Нетан...</td>\n",
       "      <td>O</td>\n",
       "      <td>[в, ответ, премьер-министр, израиль, биньямин,...</td>\n",
       "      <td>[ответ, премьер-министр, израиль, биньямин, не...</td>\n",
       "      <td>16</td>\n",
       "      <td>0</td>\n",
       "    </tr>\n",
       "  </tbody>\n",
       "</table>\n",
       "</div>"
      ],
      "text/plain": [
       "                                                    text class  \\\n",
       "15096  Он уже год не член фракции\", - посетовал Корни...     O   \n",
       "8784   Президент Украины утверждает, что нынешний кие...     O   \n",
       "51043  В ответ премьер-министр Израиля Биньямин Нетан...     O   \n",
       "\n",
       "                                                text_lem  \\\n",
       "15096  [он, уже, год, не, член, фракции\",, -, посетов...   \n",
       "8784   [президент, украина, утверждает,, что, нынешни...   \n",
       "51043  [в, ответ, премьер-министр, израиль, биньямин,...   \n",
       "\n",
       "                                            text_lem_set  text_lem_set_len  \\\n",
       "15096               [он, уже, год, не, член, посетовать]                 6   \n",
       "8784   [президент, украина, утверждает,, что, нынешни...                12   \n",
       "51043  [ответ, премьер-министр, израиль, биньямин, не...                16   \n",
       "\n",
       "       class_cat  \n",
       "15096          0  \n",
       "8784           0  \n",
       "51043          0  "
      ]
     },
     "execution_count": 35,
     "metadata": {},
     "output_type": "execute_result"
    }
   ],
   "source": [
    "train['class'] = train['class'].astype('category')\n",
    "train['class_cat'] = train['class'].cat.codes\n",
    "train.sample(3)"
   ]
  },
  {
   "cell_type": "code",
   "execution_count": 36,
   "id": "41090105",
   "metadata": {
    "execution": {
     "iopub.execute_input": "2022-06-26T09:53:35.031533Z",
     "iopub.status.busy": "2022-06-26T09:53:35.030445Z",
     "iopub.status.idle": "2022-06-26T09:53:35.035618Z",
     "shell.execute_reply": "2022-06-26T09:53:35.034765Z"
    },
    "papermill": {
     "duration": 0.494355,
     "end_time": "2022-06-26T09:53:35.041063",
     "exception": false,
     "start_time": "2022-06-26T09:53:34.546708",
     "status": "completed"
    },
    "tags": []
   },
   "outputs": [],
   "source": [
    "X = train['text_lem_set']\n",
    "y = train['class']"
   ]
  },
  {
   "cell_type": "code",
   "execution_count": 37,
   "id": "8267c0ce",
   "metadata": {
    "execution": {
     "iopub.execute_input": "2022-06-26T09:53:35.818930Z",
     "iopub.status.busy": "2022-06-26T09:53:35.818584Z",
     "iopub.status.idle": "2022-06-26T09:53:35.837982Z",
     "shell.execute_reply": "2022-06-26T09:53:35.837298Z"
    },
    "papermill": {
     "duration": 0.344078,
     "end_time": "2022-06-26T09:53:35.839886",
     "exception": false,
     "start_time": "2022-06-26T09:53:35.495808",
     "status": "completed"
    },
    "tags": []
   },
   "outputs": [],
   "source": [
    "y = pd.get_dummies(y)"
   ]
  },
  {
   "cell_type": "code",
   "execution_count": 38,
   "id": "7e09fa86",
   "metadata": {
    "execution": {
     "iopub.execute_input": "2022-06-26T09:53:36.487457Z",
     "iopub.status.busy": "2022-06-26T09:53:36.487104Z",
     "iopub.status.idle": "2022-06-26T09:53:36.508231Z",
     "shell.execute_reply": "2022-06-26T09:53:36.507396Z"
    },
    "papermill": {
     "duration": 0.348706,
     "end_time": "2022-06-26T09:53:36.509967",
     "exception": false,
     "start_time": "2022-06-26T09:53:36.161261",
     "status": "completed"
    },
    "tags": []
   },
   "outputs": [
    {
     "data": {
      "text/html": [
       "<div>\n",
       "<style scoped>\n",
       "    .dataframe tbody tr th:only-of-type {\n",
       "        vertical-align: middle;\n",
       "    }\n",
       "\n",
       "    .dataframe tbody tr th {\n",
       "        vertical-align: top;\n",
       "    }\n",
       "\n",
       "    .dataframe thead th {\n",
       "        text-align: right;\n",
       "    }\n",
       "</style>\n",
       "<table border=\"1\" class=\"dataframe\">\n",
       "  <thead>\n",
       "    <tr style=\"text-align: right;\">\n",
       "      <th></th>\n",
       "      <th>O</th>\n",
       "      <th>Авиакатастрофа</th>\n",
       "      <th>Акционерный конфликт</th>\n",
       "      <th>Беспорядки, конфликты и войны</th>\n",
       "      <th>Взрыв газа</th>\n",
       "      <th>Взятки</th>\n",
       "      <th>Возбуждение уголовного дела</th>\n",
       "      <th>Выемки</th>\n",
       "      <th>Жалобы потребителей</th>\n",
       "      <th>Заключение под стражу</th>\n",
       "      <th>...</th>\n",
       "      <th>Убийство</th>\n",
       "      <th>Убытки</th>\n",
       "      <th>Уголовное задержание</th>\n",
       "      <th>Уголовное обвинение</th>\n",
       "      <th>Утечка нефти</th>\n",
       "      <th>Финансовые затруднения</th>\n",
       "      <th>Чрезвычайные происшествия, чрезвычайные ситуации</th>\n",
       "      <th>Экономические преступления</th>\n",
       "      <th>Экстремизм</th>\n",
       "      <th>Ядерный взрыв</th>\n",
       "    </tr>\n",
       "  </thead>\n",
       "  <tbody>\n",
       "    <tr>\n",
       "      <th>9388</th>\n",
       "      <td>1</td>\n",
       "      <td>0</td>\n",
       "      <td>0</td>\n",
       "      <td>0</td>\n",
       "      <td>0</td>\n",
       "      <td>0</td>\n",
       "      <td>0</td>\n",
       "      <td>0</td>\n",
       "      <td>0</td>\n",
       "      <td>0</td>\n",
       "      <td>...</td>\n",
       "      <td>0</td>\n",
       "      <td>0</td>\n",
       "      <td>0</td>\n",
       "      <td>0</td>\n",
       "      <td>0</td>\n",
       "      <td>0</td>\n",
       "      <td>0</td>\n",
       "      <td>0</td>\n",
       "      <td>0</td>\n",
       "      <td>0</td>\n",
       "    </tr>\n",
       "  </tbody>\n",
       "</table>\n",
       "<p>1 rows × 50 columns</p>\n",
       "</div>"
      ],
      "text/plain": [
       "      O  Авиакатастрофа  Акционерный конфликт  Беспорядки, конфликты и войны  \\\n",
       "9388  1               0                     0                              0   \n",
       "\n",
       "      Взрыв газа  Взятки  Возбуждение уголовного дела  Выемки  \\\n",
       "9388           0       0                            0       0   \n",
       "\n",
       "      Жалобы потребителей  Заключение под стражу  ...  Убийство  Убытки  \\\n",
       "9388                    0                      0  ...         0       0   \n",
       "\n",
       "      Уголовное задержание  Уголовное обвинение  Утечка нефти  \\\n",
       "9388                     0                    0             0   \n",
       "\n",
       "      Финансовые затруднения  \\\n",
       "9388                       0   \n",
       "\n",
       "      Чрезвычайные происшествия, чрезвычайные ситуации  \\\n",
       "9388                                                 0   \n",
       "\n",
       "      Экономические преступления  Экстремизм  Ядерный взрыв  \n",
       "9388                           0           0              0  \n",
       "\n",
       "[1 rows x 50 columns]"
      ]
     },
     "execution_count": 38,
     "metadata": {},
     "output_type": "execute_result"
    }
   ],
   "source": [
    "y.sample()"
   ]
  },
  {
   "cell_type": "code",
   "execution_count": 39,
   "id": "85bc0438",
   "metadata": {
    "execution": {
     "iopub.execute_input": "2022-06-26T09:53:37.210565Z",
     "iopub.status.busy": "2022-06-26T09:53:37.209965Z",
     "iopub.status.idle": "2022-06-26T09:53:40.606954Z",
     "shell.execute_reply": "2022-06-26T09:53:40.606160Z"
    },
    "papermill": {
     "duration": 3.722145,
     "end_time": "2022-06-26T09:53:40.609000",
     "exception": false,
     "start_time": "2022-06-26T09:53:36.886855",
     "status": "completed"
    },
    "tags": []
   },
   "outputs": [],
   "source": [
    "#разделяем на трейн и тест с учётом неравномернойти классов\n",
    "\n",
    "from sklearn.model_selection import train_test_split\n",
    "X_train, X_test, y_train, y_test = train_test_split(X, y,\n",
    "                                                    stratify=y, \n",
    "                                                    test_size=0.2)"
   ]
  },
  {
   "cell_type": "code",
   "execution_count": 40,
   "id": "a15fea4c",
   "metadata": {
    "execution": {
     "iopub.execute_input": "2022-06-26T09:53:41.254250Z",
     "iopub.status.busy": "2022-06-26T09:53:41.253881Z",
     "iopub.status.idle": "2022-06-26T09:53:41.262681Z",
     "shell.execute_reply": "2022-06-26T09:53:41.261916Z"
    },
    "papermill": {
     "duration": 0.334301,
     "end_time": "2022-06-26T09:53:41.264673",
     "exception": false,
     "start_time": "2022-06-26T09:53:40.930372",
     "status": "completed"
    },
    "tags": []
   },
   "outputs": [
    {
     "data": {
      "text/plain": [
       "59770    [на, пальма, произойти, землетрясение,, сильны...\n",
       "8547     [это, год, на, территория, сахалинский, област...\n",
       "55964    [кроме, этого,, вчера, зафиксировать, восемь, ...\n",
       "24538    [как, сообщить, \"интерфакс\",, проверка, не, быть]\n",
       "44148    [он, сказать, корреспондент, \"кавказский, узла...\n",
       "                               ...                        \n",
       "16703    [котельничский, район,, д., произойти, пожар, ...\n",
       "26653    [американский, военный, вертолёт, потерпеть, к...\n",
       "13345    [лидер, \"нацкорпуса\", андрей, отметил,, что, с...\n",
       "11220    [февраль, 2004, год, военный, суд, кыргызстан,...\n",
       "14238    [который, произойти, за, три, день, до, печаль...\n",
       "Name: text_lem_set, Length: 48000, dtype: object"
      ]
     },
     "execution_count": 40,
     "metadata": {},
     "output_type": "execute_result"
    }
   ],
   "source": [
    "X_train"
   ]
  },
  {
   "cell_type": "markdown",
   "id": "bb4bf16a",
   "metadata": {
    "papermill": {
     "duration": 0.31906,
     "end_time": "2022-06-26T09:53:41.950949",
     "exception": false,
     "start_time": "2022-06-26T09:53:41.631889",
     "status": "completed"
    },
    "tags": []
   },
   "source": [
    "Преобразую номера классов в кагориальную матрицу "
   ]
  },
  {
   "cell_type": "code",
   "execution_count": 41,
   "id": "e7d28e15",
   "metadata": {
    "execution": {
     "iopub.execute_input": "2022-06-26T09:53:42.615028Z",
     "iopub.status.busy": "2022-06-26T09:53:42.614679Z",
     "iopub.status.idle": "2022-06-26T09:53:42.636399Z",
     "shell.execute_reply": "2022-06-26T09:53:42.635697Z"
    },
    "papermill": {
     "duration": 0.361522,
     "end_time": "2022-06-26T09:53:42.638035",
     "exception": false,
     "start_time": "2022-06-26T09:53:42.276513",
     "status": "completed"
    },
    "tags": []
   },
   "outputs": [
    {
     "data": {
      "text/html": [
       "<div>\n",
       "<style scoped>\n",
       "    .dataframe tbody tr th:only-of-type {\n",
       "        vertical-align: middle;\n",
       "    }\n",
       "\n",
       "    .dataframe tbody tr th {\n",
       "        vertical-align: top;\n",
       "    }\n",
       "\n",
       "    .dataframe thead th {\n",
       "        text-align: right;\n",
       "    }\n",
       "</style>\n",
       "<table border=\"1\" class=\"dataframe\">\n",
       "  <thead>\n",
       "    <tr style=\"text-align: right;\">\n",
       "      <th></th>\n",
       "      <th>O</th>\n",
       "      <th>Авиакатастрофа</th>\n",
       "      <th>Акционерный конфликт</th>\n",
       "      <th>Беспорядки, конфликты и войны</th>\n",
       "      <th>Взрыв газа</th>\n",
       "      <th>Взятки</th>\n",
       "      <th>Возбуждение уголовного дела</th>\n",
       "      <th>Выемки</th>\n",
       "      <th>Жалобы потребителей</th>\n",
       "      <th>Заключение под стражу</th>\n",
       "      <th>...</th>\n",
       "      <th>Убийство</th>\n",
       "      <th>Убытки</th>\n",
       "      <th>Уголовное задержание</th>\n",
       "      <th>Уголовное обвинение</th>\n",
       "      <th>Утечка нефти</th>\n",
       "      <th>Финансовые затруднения</th>\n",
       "      <th>Чрезвычайные происшествия, чрезвычайные ситуации</th>\n",
       "      <th>Экономические преступления</th>\n",
       "      <th>Экстремизм</th>\n",
       "      <th>Ядерный взрыв</th>\n",
       "    </tr>\n",
       "  </thead>\n",
       "  <tbody>\n",
       "    <tr>\n",
       "      <th>59770</th>\n",
       "      <td>0</td>\n",
       "      <td>0</td>\n",
       "      <td>0</td>\n",
       "      <td>0</td>\n",
       "      <td>0</td>\n",
       "      <td>0</td>\n",
       "      <td>0</td>\n",
       "      <td>0</td>\n",
       "      <td>0</td>\n",
       "      <td>0</td>\n",
       "      <td>...</td>\n",
       "      <td>0</td>\n",
       "      <td>0</td>\n",
       "      <td>0</td>\n",
       "      <td>0</td>\n",
       "      <td>0</td>\n",
       "      <td>0</td>\n",
       "      <td>0</td>\n",
       "      <td>0</td>\n",
       "      <td>0</td>\n",
       "      <td>0</td>\n",
       "    </tr>\n",
       "    <tr>\n",
       "      <th>8547</th>\n",
       "      <td>0</td>\n",
       "      <td>0</td>\n",
       "      <td>0</td>\n",
       "      <td>0</td>\n",
       "      <td>0</td>\n",
       "      <td>0</td>\n",
       "      <td>0</td>\n",
       "      <td>0</td>\n",
       "      <td>0</td>\n",
       "      <td>0</td>\n",
       "      <td>...</td>\n",
       "      <td>0</td>\n",
       "      <td>0</td>\n",
       "      <td>0</td>\n",
       "      <td>0</td>\n",
       "      <td>0</td>\n",
       "      <td>0</td>\n",
       "      <td>0</td>\n",
       "      <td>0</td>\n",
       "      <td>0</td>\n",
       "      <td>0</td>\n",
       "    </tr>\n",
       "    <tr>\n",
       "      <th>55964</th>\n",
       "      <td>0</td>\n",
       "      <td>0</td>\n",
       "      <td>0</td>\n",
       "      <td>0</td>\n",
       "      <td>0</td>\n",
       "      <td>0</td>\n",
       "      <td>0</td>\n",
       "      <td>0</td>\n",
       "      <td>0</td>\n",
       "      <td>0</td>\n",
       "      <td>...</td>\n",
       "      <td>0</td>\n",
       "      <td>0</td>\n",
       "      <td>0</td>\n",
       "      <td>0</td>\n",
       "      <td>0</td>\n",
       "      <td>0</td>\n",
       "      <td>0</td>\n",
       "      <td>0</td>\n",
       "      <td>0</td>\n",
       "      <td>0</td>\n",
       "    </tr>\n",
       "    <tr>\n",
       "      <th>24538</th>\n",
       "      <td>1</td>\n",
       "      <td>0</td>\n",
       "      <td>0</td>\n",
       "      <td>0</td>\n",
       "      <td>0</td>\n",
       "      <td>0</td>\n",
       "      <td>0</td>\n",
       "      <td>0</td>\n",
       "      <td>0</td>\n",
       "      <td>0</td>\n",
       "      <td>...</td>\n",
       "      <td>0</td>\n",
       "      <td>0</td>\n",
       "      <td>0</td>\n",
       "      <td>0</td>\n",
       "      <td>0</td>\n",
       "      <td>0</td>\n",
       "      <td>0</td>\n",
       "      <td>0</td>\n",
       "      <td>0</td>\n",
       "      <td>0</td>\n",
       "    </tr>\n",
       "    <tr>\n",
       "      <th>44148</th>\n",
       "      <td>1</td>\n",
       "      <td>0</td>\n",
       "      <td>0</td>\n",
       "      <td>0</td>\n",
       "      <td>0</td>\n",
       "      <td>0</td>\n",
       "      <td>0</td>\n",
       "      <td>0</td>\n",
       "      <td>0</td>\n",
       "      <td>0</td>\n",
       "      <td>...</td>\n",
       "      <td>0</td>\n",
       "      <td>0</td>\n",
       "      <td>0</td>\n",
       "      <td>0</td>\n",
       "      <td>0</td>\n",
       "      <td>0</td>\n",
       "      <td>0</td>\n",
       "      <td>0</td>\n",
       "      <td>0</td>\n",
       "      <td>0</td>\n",
       "    </tr>\n",
       "    <tr>\n",
       "      <th>...</th>\n",
       "      <td>...</td>\n",
       "      <td>...</td>\n",
       "      <td>...</td>\n",
       "      <td>...</td>\n",
       "      <td>...</td>\n",
       "      <td>...</td>\n",
       "      <td>...</td>\n",
       "      <td>...</td>\n",
       "      <td>...</td>\n",
       "      <td>...</td>\n",
       "      <td>...</td>\n",
       "      <td>...</td>\n",
       "      <td>...</td>\n",
       "      <td>...</td>\n",
       "      <td>...</td>\n",
       "      <td>...</td>\n",
       "      <td>...</td>\n",
       "      <td>...</td>\n",
       "      <td>...</td>\n",
       "      <td>...</td>\n",
       "      <td>...</td>\n",
       "    </tr>\n",
       "    <tr>\n",
       "      <th>16703</th>\n",
       "      <td>0</td>\n",
       "      <td>0</td>\n",
       "      <td>0</td>\n",
       "      <td>0</td>\n",
       "      <td>0</td>\n",
       "      <td>0</td>\n",
       "      <td>0</td>\n",
       "      <td>0</td>\n",
       "      <td>0</td>\n",
       "      <td>0</td>\n",
       "      <td>...</td>\n",
       "      <td>0</td>\n",
       "      <td>0</td>\n",
       "      <td>0</td>\n",
       "      <td>0</td>\n",
       "      <td>0</td>\n",
       "      <td>0</td>\n",
       "      <td>0</td>\n",
       "      <td>0</td>\n",
       "      <td>0</td>\n",
       "      <td>0</td>\n",
       "    </tr>\n",
       "    <tr>\n",
       "      <th>26653</th>\n",
       "      <td>0</td>\n",
       "      <td>1</td>\n",
       "      <td>0</td>\n",
       "      <td>0</td>\n",
       "      <td>0</td>\n",
       "      <td>0</td>\n",
       "      <td>0</td>\n",
       "      <td>0</td>\n",
       "      <td>0</td>\n",
       "      <td>0</td>\n",
       "      <td>...</td>\n",
       "      <td>0</td>\n",
       "      <td>0</td>\n",
       "      <td>0</td>\n",
       "      <td>0</td>\n",
       "      <td>0</td>\n",
       "      <td>0</td>\n",
       "      <td>0</td>\n",
       "      <td>0</td>\n",
       "      <td>0</td>\n",
       "      <td>0</td>\n",
       "    </tr>\n",
       "    <tr>\n",
       "      <th>13345</th>\n",
       "      <td>1</td>\n",
       "      <td>0</td>\n",
       "      <td>0</td>\n",
       "      <td>0</td>\n",
       "      <td>0</td>\n",
       "      <td>0</td>\n",
       "      <td>0</td>\n",
       "      <td>0</td>\n",
       "      <td>0</td>\n",
       "      <td>0</td>\n",
       "      <td>...</td>\n",
       "      <td>0</td>\n",
       "      <td>0</td>\n",
       "      <td>0</td>\n",
       "      <td>0</td>\n",
       "      <td>0</td>\n",
       "      <td>0</td>\n",
       "      <td>0</td>\n",
       "      <td>0</td>\n",
       "      <td>0</td>\n",
       "      <td>0</td>\n",
       "    </tr>\n",
       "    <tr>\n",
       "      <th>11220</th>\n",
       "      <td>0</td>\n",
       "      <td>0</td>\n",
       "      <td>0</td>\n",
       "      <td>0</td>\n",
       "      <td>0</td>\n",
       "      <td>0</td>\n",
       "      <td>0</td>\n",
       "      <td>0</td>\n",
       "      <td>0</td>\n",
       "      <td>0</td>\n",
       "      <td>...</td>\n",
       "      <td>0</td>\n",
       "      <td>0</td>\n",
       "      <td>0</td>\n",
       "      <td>0</td>\n",
       "      <td>0</td>\n",
       "      <td>0</td>\n",
       "      <td>0</td>\n",
       "      <td>0</td>\n",
       "      <td>0</td>\n",
       "      <td>0</td>\n",
       "    </tr>\n",
       "    <tr>\n",
       "      <th>14238</th>\n",
       "      <td>1</td>\n",
       "      <td>0</td>\n",
       "      <td>0</td>\n",
       "      <td>0</td>\n",
       "      <td>0</td>\n",
       "      <td>0</td>\n",
       "      <td>0</td>\n",
       "      <td>0</td>\n",
       "      <td>0</td>\n",
       "      <td>0</td>\n",
       "      <td>...</td>\n",
       "      <td>0</td>\n",
       "      <td>0</td>\n",
       "      <td>0</td>\n",
       "      <td>0</td>\n",
       "      <td>0</td>\n",
       "      <td>0</td>\n",
       "      <td>0</td>\n",
       "      <td>0</td>\n",
       "      <td>0</td>\n",
       "      <td>0</td>\n",
       "    </tr>\n",
       "  </tbody>\n",
       "</table>\n",
       "<p>48000 rows × 50 columns</p>\n",
       "</div>"
      ],
      "text/plain": [
       "       O  Авиакатастрофа  Акционерный конфликт  Беспорядки, конфликты и войны  \\\n",
       "59770  0               0                     0                              0   \n",
       "8547   0               0                     0                              0   \n",
       "55964  0               0                     0                              0   \n",
       "24538  1               0                     0                              0   \n",
       "44148  1               0                     0                              0   \n",
       "...   ..             ...                   ...                            ...   \n",
       "16703  0               0                     0                              0   \n",
       "26653  0               1                     0                              0   \n",
       "13345  1               0                     0                              0   \n",
       "11220  0               0                     0                              0   \n",
       "14238  1               0                     0                              0   \n",
       "\n",
       "       Взрыв газа  Взятки  Возбуждение уголовного дела  Выемки  \\\n",
       "59770           0       0                            0       0   \n",
       "8547            0       0                            0       0   \n",
       "55964           0       0                            0       0   \n",
       "24538           0       0                            0       0   \n",
       "44148           0       0                            0       0   \n",
       "...           ...     ...                          ...     ...   \n",
       "16703           0       0                            0       0   \n",
       "26653           0       0                            0       0   \n",
       "13345           0       0                            0       0   \n",
       "11220           0       0                            0       0   \n",
       "14238           0       0                            0       0   \n",
       "\n",
       "       Жалобы потребителей  Заключение под стражу  ...  Убийство  Убытки  \\\n",
       "59770                    0                      0  ...         0       0   \n",
       "8547                     0                      0  ...         0       0   \n",
       "55964                    0                      0  ...         0       0   \n",
       "24538                    0                      0  ...         0       0   \n",
       "44148                    0                      0  ...         0       0   \n",
       "...                    ...                    ...  ...       ...     ...   \n",
       "16703                    0                      0  ...         0       0   \n",
       "26653                    0                      0  ...         0       0   \n",
       "13345                    0                      0  ...         0       0   \n",
       "11220                    0                      0  ...         0       0   \n",
       "14238                    0                      0  ...         0       0   \n",
       "\n",
       "       Уголовное задержание  Уголовное обвинение  Утечка нефти  \\\n",
       "59770                     0                    0             0   \n",
       "8547                      0                    0             0   \n",
       "55964                     0                    0             0   \n",
       "24538                     0                    0             0   \n",
       "44148                     0                    0             0   \n",
       "...                     ...                  ...           ...   \n",
       "16703                     0                    0             0   \n",
       "26653                     0                    0             0   \n",
       "13345                     0                    0             0   \n",
       "11220                     0                    0             0   \n",
       "14238                     0                    0             0   \n",
       "\n",
       "       Финансовые затруднения  \\\n",
       "59770                       0   \n",
       "8547                        0   \n",
       "55964                       0   \n",
       "24538                       0   \n",
       "44148                       0   \n",
       "...                       ...   \n",
       "16703                       0   \n",
       "26653                       0   \n",
       "13345                       0   \n",
       "11220                       0   \n",
       "14238                       0   \n",
       "\n",
       "       Чрезвычайные происшествия, чрезвычайные ситуации  \\\n",
       "59770                                                 0   \n",
       "8547                                                  0   \n",
       "55964                                                 0   \n",
       "24538                                                 0   \n",
       "44148                                                 0   \n",
       "...                                                 ...   \n",
       "16703                                                 0   \n",
       "26653                                                 0   \n",
       "13345                                                 0   \n",
       "11220                                                 0   \n",
       "14238                                                 0   \n",
       "\n",
       "       Экономические преступления  Экстремизм  Ядерный взрыв  \n",
       "59770                           0           0              0  \n",
       "8547                            0           0              0  \n",
       "55964                           0           0              0  \n",
       "24538                           0           0              0  \n",
       "44148                           0           0              0  \n",
       "...                           ...         ...            ...  \n",
       "16703                           0           0              0  \n",
       "26653                           0           0              0  \n",
       "13345                           0           0              0  \n",
       "11220                           0           0              0  \n",
       "14238                           0           0              0  \n",
       "\n",
       "[48000 rows x 50 columns]"
      ]
     },
     "execution_count": 41,
     "metadata": {},
     "output_type": "execute_result"
    }
   ],
   "source": [
    "y_train"
   ]
  },
  {
   "cell_type": "code",
   "execution_count": 42,
   "id": "6c0b6f7d",
   "metadata": {
    "execution": {
     "iopub.execute_input": "2022-06-26T09:53:43.332364Z",
     "iopub.status.busy": "2022-06-26T09:53:43.331538Z",
     "iopub.status.idle": "2022-06-26T09:53:43.336428Z",
     "shell.execute_reply": "2022-06-26T09:53:43.335589Z"
    },
    "papermill": {
     "duration": 0.378076,
     "end_time": "2022-06-26T09:53:43.338100",
     "exception": false,
     "start_time": "2022-06-26T09:53:42.960024",
     "status": "completed"
    },
    "tags": []
   },
   "outputs": [],
   "source": [
    "y_train = np.array(y_train)"
   ]
  },
  {
   "cell_type": "code",
   "execution_count": 43,
   "id": "c640a991",
   "metadata": {
    "execution": {
     "iopub.execute_input": "2022-06-26T09:53:43.986443Z",
     "iopub.status.busy": "2022-06-26T09:53:43.986087Z",
     "iopub.status.idle": "2022-06-26T09:53:43.992299Z",
     "shell.execute_reply": "2022-06-26T09:53:43.991490Z"
    },
    "papermill": {
     "duration": 0.33205,
     "end_time": "2022-06-26T09:53:43.994461",
     "exception": false,
     "start_time": "2022-06-26T09:53:43.662411",
     "status": "completed"
    },
    "tags": []
   },
   "outputs": [
    {
     "data": {
      "text/plain": [
       "array([[0, 0, 0, ..., 0, 0, 0],\n",
       "       [0, 0, 0, ..., 0, 0, 0],\n",
       "       [0, 0, 0, ..., 0, 0, 0],\n",
       "       ...,\n",
       "       [1, 0, 0, ..., 0, 0, 0],\n",
       "       [0, 0, 0, ..., 0, 0, 0],\n",
       "       [1, 0, 0, ..., 0, 0, 0]], dtype=uint8)"
      ]
     },
     "execution_count": 43,
     "metadata": {},
     "output_type": "execute_result"
    }
   ],
   "source": [
    "y_train"
   ]
  },
  {
   "cell_type": "code",
   "execution_count": 44,
   "id": "e717ac25",
   "metadata": {
    "execution": {
     "iopub.execute_input": "2022-06-26T09:53:44.639683Z",
     "iopub.status.busy": "2022-06-26T09:53:44.639340Z",
     "iopub.status.idle": "2022-06-26T09:53:44.644099Z",
     "shell.execute_reply": "2022-06-26T09:53:44.643105Z"
    },
    "papermill": {
     "duration": 0.329943,
     "end_time": "2022-06-26T09:53:44.646178",
     "exception": false,
     "start_time": "2022-06-26T09:53:44.316235",
     "status": "completed"
    },
    "tags": []
   },
   "outputs": [],
   "source": [
    "y_test = np.array(y_test)"
   ]
  },
  {
   "cell_type": "code",
   "execution_count": 45,
   "id": "5d3003e1",
   "metadata": {
    "execution": {
     "iopub.execute_input": "2022-06-26T09:53:45.343817Z",
     "iopub.status.busy": "2022-06-26T09:53:45.343326Z",
     "iopub.status.idle": "2022-06-26T09:53:45.349803Z",
     "shell.execute_reply": "2022-06-26T09:53:45.349108Z"
    },
    "papermill": {
     "duration": 0.336327,
     "end_time": "2022-06-26T09:53:45.353226",
     "exception": false,
     "start_time": "2022-06-26T09:53:45.016899",
     "status": "completed"
    },
    "tags": []
   },
   "outputs": [
    {
     "data": {
      "text/plain": [
       "array([[1, 0, 0, ..., 0, 0, 0],\n",
       "       [0, 0, 0, ..., 0, 0, 0],\n",
       "       [1, 0, 0, ..., 0, 0, 0],\n",
       "       ...,\n",
       "       [1, 0, 0, ..., 0, 0, 0],\n",
       "       [1, 0, 0, ..., 0, 0, 0],\n",
       "       [0, 0, 0, ..., 0, 0, 0]], dtype=uint8)"
      ]
     },
     "execution_count": 45,
     "metadata": {},
     "output_type": "execute_result"
    }
   ],
   "source": [
    "y_test"
   ]
  },
  {
   "cell_type": "code",
   "execution_count": 46,
   "id": "cdc68f37",
   "metadata": {
    "execution": {
     "iopub.execute_input": "2022-06-26T09:53:46.873781Z",
     "iopub.status.busy": "2022-06-26T09:53:46.873357Z",
     "iopub.status.idle": "2022-06-26T09:53:46.877791Z",
     "shell.execute_reply": "2022-06-26T09:53:46.877107Z"
    },
    "papermill": {
     "duration": 0.936596,
     "end_time": "2022-06-26T09:53:46.882157",
     "exception": false,
     "start_time": "2022-06-26T09:53:45.945561",
     "status": "completed"
    },
    "tags": []
   },
   "outputs": [],
   "source": [
    "tokenizer = Tokenizer(num_words=num_words)"
   ]
  },
  {
   "cell_type": "code",
   "execution_count": 47,
   "id": "e8831668",
   "metadata": {
    "execution": {
     "iopub.execute_input": "2022-06-26T09:53:47.580155Z",
     "iopub.status.busy": "2022-06-26T09:53:47.579792Z",
     "iopub.status.idle": "2022-06-26T09:53:48.435436Z",
     "shell.execute_reply": "2022-06-26T09:53:48.434616Z"
    },
    "papermill": {
     "duration": 1.182663,
     "end_time": "2022-06-26T09:53:48.437818",
     "exception": false,
     "start_time": "2022-06-26T09:53:47.255155",
     "status": "completed"
    },
    "tags": []
   },
   "outputs": [],
   "source": [
    "tokenizer.fit_on_texts(train['text_lem_set'])"
   ]
  },
  {
   "cell_type": "code",
   "execution_count": 48,
   "id": "a001e63f",
   "metadata": {
    "execution": {
     "iopub.execute_input": "2022-06-26T09:53:49.087439Z",
     "iopub.status.busy": "2022-06-26T09:53:49.086906Z",
     "iopub.status.idle": "2022-06-26T09:53:50.058667Z",
     "shell.execute_reply": "2022-06-26T09:53:50.057844Z"
    },
    "papermill": {
     "duration": 1.29892,
     "end_time": "2022-06-26T09:53:50.060805",
     "exception": false,
     "start_time": "2022-06-26T09:53:48.761885",
     "status": "completed"
    },
    "tags": []
   },
   "outputs": [],
   "source": [
    "train_sequences = tokenizer.texts_to_sequences(X_train)\n",
    "\n",
    "x_train = pad_sequences(train_sequences, maxlen=max_news_len)\n",
    "\n",
    "test_sequences = tokenizer.texts_to_sequences(X_test)\n",
    "\n",
    "x_test = pad_sequences(test_sequences, maxlen=max_news_len)"
   ]
  },
  {
   "cell_type": "markdown",
   "id": "df3e338f",
   "metadata": {
    "papermill": {
     "duration": 0.321627,
     "end_time": "2022-06-26T09:53:50.705270",
     "exception": false,
     "start_time": "2022-06-26T09:53:50.383643",
     "status": "completed"
    },
    "tags": []
   },
   "source": [
    "## Сверточная нейронная сеть"
   ]
  },
  {
   "cell_type": "code",
   "execution_count": 49,
   "id": "1f4008b0",
   "metadata": {
    "execution": {
     "iopub.execute_input": "2022-06-26T09:53:51.399947Z",
     "iopub.status.busy": "2022-06-26T09:53:51.399586Z",
     "iopub.status.idle": "2022-06-26T09:53:55.782647Z",
     "shell.execute_reply": "2022-06-26T09:53:55.780761Z"
    },
    "papermill": {
     "duration": 4.709477,
     "end_time": "2022-06-26T09:53:55.785043",
     "exception": false,
     "start_time": "2022-06-26T09:53:51.075566",
     "status": "completed"
    },
    "tags": []
   },
   "outputs": [
    {
     "name": "stderr",
     "output_type": "stream",
     "text": [
      "2022-06-26 09:53:51.429597: I tensorflow/stream_executor/cuda/cuda_gpu_executor.cc:937] successful NUMA node read from SysFS had negative value (-1), but there must be at least one NUMA node, so returning NUMA node zero\n",
      "2022-06-26 09:53:51.434607: I tensorflow/stream_executor/cuda/cuda_gpu_executor.cc:937] successful NUMA node read from SysFS had negative value (-1), but there must be at least one NUMA node, so returning NUMA node zero\n",
      "2022-06-26 09:53:51.435752: I tensorflow/stream_executor/cuda/cuda_gpu_executor.cc:937] successful NUMA node read from SysFS had negative value (-1), but there must be at least one NUMA node, so returning NUMA node zero\n",
      "2022-06-26 09:53:51.437348: I tensorflow/core/platform/cpu_feature_guard.cc:142] This TensorFlow binary is optimized with oneAPI Deep Neural Network Library (oneDNN) to use the following CPU instructions in performance-critical operations:  AVX2 AVX512F FMA\n",
      "To enable them in other operations, rebuild TensorFlow with the appropriate compiler flags.\n",
      "2022-06-26 09:53:51.437655: I tensorflow/stream_executor/cuda/cuda_gpu_executor.cc:937] successful NUMA node read from SysFS had negative value (-1), but there must be at least one NUMA node, so returning NUMA node zero\n",
      "2022-06-26 09:53:51.438691: I tensorflow/stream_executor/cuda/cuda_gpu_executor.cc:937] successful NUMA node read from SysFS had negative value (-1), but there must be at least one NUMA node, so returning NUMA node zero\n",
      "2022-06-26 09:53:51.439776: I tensorflow/stream_executor/cuda/cuda_gpu_executor.cc:937] successful NUMA node read from SysFS had negative value (-1), but there must be at least one NUMA node, so returning NUMA node zero\n",
      "2022-06-26 09:53:55.398662: I tensorflow/stream_executor/cuda/cuda_gpu_executor.cc:937] successful NUMA node read from SysFS had negative value (-1), but there must be at least one NUMA node, so returning NUMA node zero\n",
      "2022-06-26 09:53:55.399835: I tensorflow/stream_executor/cuda/cuda_gpu_executor.cc:937] successful NUMA node read from SysFS had negative value (-1), but there must be at least one NUMA node, so returning NUMA node zero\n",
      "2022-06-26 09:53:55.400813: I tensorflow/stream_executor/cuda/cuda_gpu_executor.cc:937] successful NUMA node read from SysFS had negative value (-1), but there must be at least one NUMA node, so returning NUMA node zero\n",
      "2022-06-26 09:53:55.401841: I tensorflow/core/common_runtime/gpu/gpu_device.cc:1510] Created device /job:localhost/replica:0/task:0/device:GPU:0 with 15187 MB memory:  -> device: 0, name: Tesla P100-PCIE-16GB, pci bus id: 0000:00:04.0, compute capability: 6.0\n"
     ]
    }
   ],
   "source": [
    "model_cnn = Sequential()\n",
    "model_cnn.add(Embedding(num_words, 32, input_length=max_news_len))\n",
    "model_cnn.add(Conv1D(250, 5, padding='valid', activation='relu'))\n",
    "model_cnn.add(GlobalMaxPooling1D())\n",
    "model_cnn.add(Dense(128, activation='relu'))\n",
    "model_cnn.add(Dense(50, activation='softmax'))"
   ]
  },
  {
   "cell_type": "code",
   "execution_count": 50,
   "id": "e1d2d79a",
   "metadata": {
    "execution": {
     "iopub.execute_input": "2022-06-26T09:53:56.432679Z",
     "iopub.status.busy": "2022-06-26T09:53:56.432330Z",
     "iopub.status.idle": "2022-06-26T09:53:56.444792Z",
     "shell.execute_reply": "2022-06-26T09:53:56.444102Z"
    },
    "papermill": {
     "duration": 0.336581,
     "end_time": "2022-06-26T09:53:56.446445",
     "exception": false,
     "start_time": "2022-06-26T09:53:56.109864",
     "status": "completed"
    },
    "tags": []
   },
   "outputs": [],
   "source": [
    "model_cnn.compile(optimizer='adam', \n",
    "              loss='categorical_crossentropy', \n",
    "              metrics=['accuracy'])"
   ]
  },
  {
   "cell_type": "code",
   "execution_count": 51,
   "id": "d87c3852",
   "metadata": {
    "execution": {
     "iopub.execute_input": "2022-06-26T09:53:57.375050Z",
     "iopub.status.busy": "2022-06-26T09:53:57.374704Z",
     "iopub.status.idle": "2022-06-26T09:53:57.381672Z",
     "shell.execute_reply": "2022-06-26T09:53:57.379227Z"
    },
    "papermill": {
     "duration": 0.618673,
     "end_time": "2022-06-26T09:53:57.385759",
     "exception": false,
     "start_time": "2022-06-26T09:53:56.767086",
     "status": "completed"
    },
    "tags": []
   },
   "outputs": [
    {
     "name": "stdout",
     "output_type": "stream",
     "text": [
      "Model: \"sequential\"\n",
      "_________________________________________________________________\n",
      "Layer (type)                 Output Shape              Param #   \n",
      "=================================================================\n",
      "embedding (Embedding)        (None, 29, 32)            644800    \n",
      "_________________________________________________________________\n",
      "conv1d (Conv1D)              (None, 25, 250)           40250     \n",
      "_________________________________________________________________\n",
      "global_max_pooling1d (Global (None, 250)               0         \n",
      "_________________________________________________________________\n",
      "dense (Dense)                (None, 128)               32128     \n",
      "_________________________________________________________________\n",
      "dense_1 (Dense)              (None, 50)                6450      \n",
      "=================================================================\n",
      "Total params: 723,628\n",
      "Trainable params: 723,628\n",
      "Non-trainable params: 0\n",
      "_________________________________________________________________\n"
     ]
    }
   ],
   "source": [
    "model_cnn.summary()"
   ]
  },
  {
   "cell_type": "code",
   "execution_count": 52,
   "id": "528b5aec",
   "metadata": {
    "execution": {
     "iopub.execute_input": "2022-06-26T09:53:58.034315Z",
     "iopub.status.busy": "2022-06-26T09:53:58.033645Z",
     "iopub.status.idle": "2022-06-26T09:53:58.038025Z",
     "shell.execute_reply": "2022-06-26T09:53:58.037325Z"
    },
    "papermill": {
     "duration": 0.331071,
     "end_time": "2022-06-26T09:53:58.039713",
     "exception": false,
     "start_time": "2022-06-26T09:53:57.708642",
     "status": "completed"
    },
    "tags": []
   },
   "outputs": [],
   "source": [
    "model_cnn_save_path = './model_weights/best_model_cnn.h5'\n",
    "checkpoint_callback_cnn = ModelCheckpoint(model_cnn_save_path, \n",
    "                                      monitor='val_accuracy',\n",
    "                                      save_best_only=True,\n",
    "                                      verbose=1)"
   ]
  },
  {
   "cell_type": "code",
   "execution_count": 53,
   "id": "dc84ff57",
   "metadata": {
    "execution": {
     "iopub.execute_input": "2022-06-26T09:53:58.684037Z",
     "iopub.status.busy": "2022-06-26T09:53:58.683690Z",
     "iopub.status.idle": "2022-06-26T09:54:19.733150Z",
     "shell.execute_reply": "2022-06-26T09:54:19.732215Z"
    },
    "papermill": {
     "duration": 21.375598,
     "end_time": "2022-06-26T09:54:19.736030",
     "exception": false,
     "start_time": "2022-06-26T09:53:58.360432",
     "status": "completed"
    },
    "tags": []
   },
   "outputs": [
    {
     "name": "stderr",
     "output_type": "stream",
     "text": [
      "2022-06-26 09:53:58.756990: I tensorflow/compiler/mlir/mlir_graph_optimization_pass.cc:185] None of the MLIR Optimization Passes are enabled (registered 2)\n"
     ]
    },
    {
     "name": "stdout",
     "output_type": "stream",
     "text": [
      "Epoch 1/5\n"
     ]
    },
    {
     "name": "stderr",
     "output_type": "stream",
     "text": [
      "2022-06-26 09:54:00.044266: I tensorflow/stream_executor/cuda/cuda_dnn.cc:369] Loaded cuDNN version 8005\n"
     ]
    },
    {
     "name": "stdout",
     "output_type": "stream",
     "text": [
      "372/372 [==============================] - 9s 6ms/step - loss: 1.3760 - accuracy: 0.7067 - val_loss: 0.9140 - val_accuracy: 0.7896\n",
      "\n",
      "Epoch 00001: val_accuracy improved from -inf to 0.78958, saving model to ./model_weights/best_model_cnn.h5\n",
      "Epoch 2/5\n",
      "372/372 [==============================] - 2s 6ms/step - loss: 0.6323 - accuracy: 0.8360 - val_loss: 0.6005 - val_accuracy: 0.8417\n",
      "\n",
      "Epoch 00002: val_accuracy improved from 0.78958 to 0.84167, saving model to ./model_weights/best_model_cnn.h5\n",
      "Epoch 3/5\n",
      "372/372 [==============================] - 2s 5ms/step - loss: 0.3965 - accuracy: 0.8926 - val_loss: 0.4745 - val_accuracy: 0.8854\n",
      "\n",
      "Epoch 00003: val_accuracy improved from 0.84167 to 0.88542, saving model to ./model_weights/best_model_cnn.h5\n",
      "Epoch 4/5\n",
      "372/372 [==============================] - 2s 5ms/step - loss: 0.2562 - accuracy: 0.9248 - val_loss: 0.4477 - val_accuracy: 0.8833\n",
      "\n",
      "Epoch 00004: val_accuracy did not improve from 0.88542\n",
      "Epoch 5/5\n",
      "372/372 [==============================] - 2s 5ms/step - loss: 0.1751 - accuracy: 0.9465 - val_loss: 0.5086 - val_accuracy: 0.8792\n",
      "\n",
      "Epoch 00005: val_accuracy did not improve from 0.88542\n"
     ]
    }
   ],
   "source": [
    "history_cnn = model_cnn.fit(x_train, \n",
    "                            y_train, \n",
    "                            epochs=5,\n",
    "                            batch_size=128,\n",
    "                            validation_split=0.01,\n",
    "                            callbacks=[checkpoint_callback_cnn],\n",
    "                            use_multiprocessing=True)"
   ]
  },
  {
   "cell_type": "code",
   "execution_count": 54,
   "id": "4fdd531a",
   "metadata": {
    "execution": {
     "iopub.execute_input": "2022-06-26T09:54:20.529498Z",
     "iopub.status.busy": "2022-06-26T09:54:20.529016Z",
     "iopub.status.idle": "2022-06-26T09:54:20.756833Z",
     "shell.execute_reply": "2022-06-26T09:54:20.755946Z"
    },
    "papermill": {
     "duration": 0.597639,
     "end_time": "2022-06-26T09:54:20.758940",
     "exception": false,
     "start_time": "2022-06-26T09:54:20.161301",
     "status": "completed"
    },
    "tags": []
   },
   "outputs": [
    {
     "data": {
      "image/png": "[encoded data removed]",
      "text/plain": [
       "<Figure size 432x288 with 1 Axes>"
      ]
     },
     "metadata": {
      "needs_background": "light"
     },
     "output_type": "display_data"
    }
   ],
   "source": [
    "plt.plot(history_cnn.history['accuracy'], \n",
    "         label='Доля верных ответов на обучающем наборе')\n",
    "plt.plot(history_cnn.history['val_accuracy'], \n",
    "         label='Доля верных ответов на проверочном наборе')\n",
    "plt.xlabel('Эпоха обучения')\n",
    "plt.ylabel('Доля верных ответов')\n",
    "plt.legend()\n",
    "plt.show()"
   ]
  },
  {
   "cell_type": "markdown",
   "id": "36e4bb7d",
   "metadata": {
    "papermill": {
     "duration": 0.329442,
     "end_time": "2022-06-26T09:54:21.446721",
     "exception": false,
     "start_time": "2022-06-26T09:54:21.117279",
     "status": "completed"
    },
    "tags": []
   },
   "source": [
    "## Cеть LSTM"
   ]
  },
  {
   "cell_type": "code",
   "execution_count": 55,
   "id": "363887c8",
   "metadata": {
    "execution": {
     "iopub.execute_input": "2022-06-26T09:54:22.157209Z",
     "iopub.status.busy": "2022-06-26T09:54:22.156846Z",
     "iopub.status.idle": "2022-06-26T09:54:22.374816Z",
     "shell.execute_reply": "2022-06-26T09:54:22.374082Z"
    },
    "papermill": {
     "duration": 0.596287,
     "end_time": "2022-06-26T09:54:22.376758",
     "exception": false,
     "start_time": "2022-06-26T09:54:21.780471",
     "status": "completed"
    },
    "tags": []
   },
   "outputs": [],
   "source": [
    "model_lstm = Sequential()\n",
    "model_lstm.add(Embedding(num_words, 32, input_length=max_news_len))\n",
    "model_lstm.add(LSTM(16))\n",
    "model_lstm.add(Dense(50, activation='softmax'))"
   ]
  },
  {
   "cell_type": "code",
   "execution_count": 56,
   "id": "1ec2669f",
   "metadata": {
    "execution": {
     "iopub.execute_input": "2022-06-26T09:54:23.054510Z",
     "iopub.status.busy": "2022-06-26T09:54:23.054123Z",
     "iopub.status.idle": "2022-06-26T09:54:23.064499Z",
     "shell.execute_reply": "2022-06-26T09:54:23.063679Z"
    },
    "papermill": {
     "duration": 0.353461,
     "end_time": "2022-06-26T09:54:23.066416",
     "exception": false,
     "start_time": "2022-06-26T09:54:22.712955",
     "status": "completed"
    },
    "tags": []
   },
   "outputs": [],
   "source": [
    "model_lstm.compile(optimizer='adam', \n",
    "              loss='categorical_crossentropy', \n",
    "              metrics=['accuracy'])"
   ]
  },
  {
   "cell_type": "code",
   "execution_count": 57,
   "id": "7dfa6cd3",
   "metadata": {
    "execution": {
     "iopub.execute_input": "2022-06-26T09:54:23.756948Z",
     "iopub.status.busy": "2022-06-26T09:54:23.756562Z",
     "iopub.status.idle": "2022-06-26T09:54:23.763133Z",
     "shell.execute_reply": "2022-06-26T09:54:23.761994Z"
    },
    "papermill": {
     "duration": 0.341435,
     "end_time": "2022-06-26T09:54:23.765658",
     "exception": false,
     "start_time": "2022-06-26T09:54:23.424223",
     "status": "completed"
    },
    "tags": []
   },
   "outputs": [
    {
     "name": "stdout",
     "output_type": "stream",
     "text": [
      "Model: \"sequential_1\"\n",
      "_________________________________________________________________\n",
      "Layer (type)                 Output Shape              Param #   \n",
      "=================================================================\n",
      "embedding_1 (Embedding)      (None, 29, 32)            644800    \n",
      "_________________________________________________________________\n",
      "lstm (LSTM)                  (None, 16)                3136      \n",
      "_________________________________________________________________\n",
      "dense_2 (Dense)              (None, 50)                850       \n",
      "=================================================================\n",
      "Total params: 648,786\n",
      "Trainable params: 648,786\n",
      "Non-trainable params: 0\n",
      "_________________________________________________________________\n"
     ]
    }
   ],
   "source": [
    "model_lstm.summary()"
   ]
  },
  {
   "cell_type": "code",
   "execution_count": 58,
   "id": "760f9695",
   "metadata": {
    "execution": {
     "iopub.execute_input": "2022-06-26T09:54:24.478225Z",
     "iopub.status.busy": "2022-06-26T09:54:24.477857Z",
     "iopub.status.idle": "2022-06-26T09:54:24.482246Z",
     "shell.execute_reply": "2022-06-26T09:54:24.481520Z"
    },
    "papermill": {
     "duration": 0.343304,
     "end_time": "2022-06-26T09:54:24.484136",
     "exception": false,
     "start_time": "2022-06-26T09:54:24.140832",
     "status": "completed"
    },
    "tags": []
   },
   "outputs": [],
   "source": [
    "model_lstm_save_path = './model_weights/best_model_lstm.h5'\n",
    "checkpoint_callback_lstm = ModelCheckpoint(model_lstm_save_path, \n",
    "                                      monitor='val_accuracy',\n",
    "                                      save_best_only=True,\n",
    "                                      verbose=1)"
   ]
  },
  {
   "cell_type": "code",
   "execution_count": 59,
   "id": "70ada0fd",
   "metadata": {
    "execution": {
     "iopub.execute_input": "2022-06-26T09:54:25.153249Z",
     "iopub.status.busy": "2022-06-26T09:54:25.152877Z",
     "iopub.status.idle": "2022-06-26T09:54:47.174730Z",
     "shell.execute_reply": "2022-06-26T09:54:47.173912Z"
    },
    "papermill": {
     "duration": 22.361481,
     "end_time": "2022-06-26T09:54:47.176880",
     "exception": false,
     "start_time": "2022-06-26T09:54:24.815399",
     "status": "completed"
    },
    "tags": []
   },
   "outputs": [
    {
     "name": "stdout",
     "output_type": "stream",
     "text": [
      "Epoch 1/6\n",
      "372/372 [==============================] - 5s 8ms/step - loss: 1.9375 - accuracy: 0.6607 - val_loss: 1.5571 - val_accuracy: 0.6292\n",
      "\n",
      "Epoch 00001: val_accuracy improved from -inf to 0.62917, saving model to ./model_weights/best_model_lstm.h5\n",
      "Epoch 2/6\n",
      "372/372 [==============================] - 3s 7ms/step - loss: 1.2441 - accuracy: 0.6837 - val_loss: 1.2859 - val_accuracy: 0.6729\n",
      "\n",
      "Epoch 00002: val_accuracy improved from 0.62917 to 0.67292, saving model to ./model_weights/best_model_lstm.h5\n",
      "Epoch 3/6\n",
      "372/372 [==============================] - 2s 7ms/step - loss: 0.9875 - accuracy: 0.7501 - val_loss: 1.0408 - val_accuracy: 0.7646\n",
      "\n",
      "Epoch 00003: val_accuracy improved from 0.67292 to 0.76458, saving model to ./model_weights/best_model_lstm.h5\n",
      "Epoch 4/6\n",
      "372/372 [==============================] - 2s 7ms/step - loss: 0.7497 - accuracy: 0.8198 - val_loss: 0.8556 - val_accuracy: 0.8083\n",
      "\n",
      "Epoch 00004: val_accuracy improved from 0.76458 to 0.80833, saving model to ./model_weights/best_model_lstm.h5\n",
      "Epoch 5/6\n",
      "372/372 [==============================] - 2s 7ms/step - loss: 0.6040 - accuracy: 0.8479 - val_loss: 0.8017 - val_accuracy: 0.8250\n",
      "\n",
      "Epoch 00005: val_accuracy improved from 0.80833 to 0.82500, saving model to ./model_weights/best_model_lstm.h5\n",
      "Epoch 6/6\n",
      "372/372 [==============================] - 3s 7ms/step - loss: 0.5036 - accuracy: 0.8704 - val_loss: 0.7429 - val_accuracy: 0.8104\n",
      "\n",
      "Epoch 00006: val_accuracy did not improve from 0.82500\n"
     ]
    }
   ],
   "source": [
    "history_lstm = model_lstm.fit(x_train, \n",
    "                              y_train, \n",
    "                              epochs=6,\n",
    "                              batch_size=128,\n",
    "                              validation_split=0.01,\n",
    "                              callbacks=[checkpoint_callback_lstm],\n",
    "                              use_multiprocessing=True)"
   ]
  },
  {
   "cell_type": "code",
   "execution_count": 60,
   "id": "a0e540b6",
   "metadata": {
    "execution": {
     "iopub.execute_input": "2022-06-26T09:54:47.933647Z",
     "iopub.status.busy": "2022-06-26T09:54:47.933298Z",
     "iopub.status.idle": "2022-06-26T09:54:48.134615Z",
     "shell.execute_reply": "2022-06-26T09:54:48.133884Z"
    },
    "papermill": {
     "duration": 0.553468,
     "end_time": "2022-06-26T09:54:48.136293",
     "exception": false,
     "start_time": "2022-06-26T09:54:47.582825",
     "status": "completed"
    },
    "tags": []
   },
   "outputs": [
    {
     "data": {
      "image/png": "[encoded data removed]",
      "text/plain": [
       "<Figure size 432x288 with 1 Axes>"
      ]
     },
     "metadata": {
      "needs_background": "light"
     },
     "output_type": "display_data"
    }
   ],
   "source": [
    "plt.plot(history_lstm.history['accuracy'], \n",
    "         label='Доля верных ответов на обучающем наборе')\n",
    "plt.plot(history_lstm.history['val_accuracy'], \n",
    "         label='Доля верных ответов на проверочном наборе')\n",
    "plt.xlabel('Эпоха обучения')\n",
    "plt.ylabel('Доля верных ответов')\n",
    "plt.legend()\n",
    "plt.show()"
   ]
  },
  {
   "cell_type": "markdown",
   "id": "40ce1206",
   "metadata": {
    "papermill": {
     "duration": 0.349323,
     "end_time": "2022-06-26T09:54:48.838253",
     "exception": false,
     "start_time": "2022-06-26T09:54:48.488930",
     "status": "completed"
    },
    "tags": []
   },
   "source": [
    "## Cеть GRU"
   ]
  },
  {
   "cell_type": "code",
   "execution_count": 61,
   "id": "f2518a71",
   "metadata": {
    "execution": {
     "iopub.execute_input": "2022-06-26T09:54:49.594370Z",
     "iopub.status.busy": "2022-06-26T09:54:49.593996Z",
     "iopub.status.idle": "2022-06-26T09:54:49.773855Z",
     "shell.execute_reply": "2022-06-26T09:54:49.773101Z"
    },
    "papermill": {
     "duration": 0.581866,
     "end_time": "2022-06-26T09:54:49.775741",
     "exception": false,
     "start_time": "2022-06-26T09:54:49.193875",
     "status": "completed"
    },
    "tags": []
   },
   "outputs": [],
   "source": [
    "model_gru = Sequential()\n",
    "model_gru.add(Embedding(num_words, 32, input_length=max_news_len))\n",
    "model_gru.add(GRU(16))\n",
    "model_gru.add(Dense(50, activation='softmax'))"
   ]
  },
  {
   "cell_type": "code",
   "execution_count": 62,
   "id": "883e812c",
   "metadata": {
    "execution": {
     "iopub.execute_input": "2022-06-26T09:54:50.953252Z",
     "iopub.status.busy": "2022-06-26T09:54:50.952806Z",
     "iopub.status.idle": "2022-06-26T09:54:50.965411Z",
     "shell.execute_reply": "2022-06-26T09:54:50.964718Z"
    },
    "papermill": {
     "duration": 0.620766,
     "end_time": "2022-06-26T09:54:50.967712",
     "exception": false,
     "start_time": "2022-06-26T09:54:50.346946",
     "status": "completed"
    },
    "tags": []
   },
   "outputs": [],
   "source": [
    "model_gru.compile(optimizer='adam', \n",
    "              loss='categorical_crossentropy', \n",
    "              metrics=['accuracy'])"
   ]
  },
  {
   "cell_type": "code",
   "execution_count": 63,
   "id": "a34c6d55",
   "metadata": {
    "execution": {
     "iopub.execute_input": "2022-06-26T09:54:51.768583Z",
     "iopub.status.busy": "2022-06-26T09:54:51.768248Z",
     "iopub.status.idle": "2022-06-26T09:54:51.773412Z",
     "shell.execute_reply": "2022-06-26T09:54:51.772536Z"
    },
    "papermill": {
     "duration": 0.41315,
     "end_time": "2022-06-26T09:54:51.776910",
     "exception": false,
     "start_time": "2022-06-26T09:54:51.363760",
     "status": "completed"
    },
    "tags": []
   },
   "outputs": [
    {
     "name": "stdout",
     "output_type": "stream",
     "text": [
      "Model: \"sequential_2\"\n",
      "_________________________________________________________________\n",
      "Layer (type)                 Output Shape              Param #   \n",
      "=================================================================\n",
      "embedding_2 (Embedding)      (None, 29, 32)            644800    \n",
      "_________________________________________________________________\n",
      "gru (GRU)                    (None, 16)                2400      \n",
      "_________________________________________________________________\n",
      "dense_3 (Dense)              (None, 50)                850       \n",
      "=================================================================\n",
      "Total params: 648,050\n",
      "Trainable params: 648,050\n",
      "Non-trainable params: 0\n",
      "_________________________________________________________________\n"
     ]
    }
   ],
   "source": [
    "model_gru.summary()"
   ]
  },
  {
   "cell_type": "code",
   "execution_count": 64,
   "id": "21da3e2d",
   "metadata": {
    "execution": {
     "iopub.execute_input": "2022-06-26T09:54:52.742006Z",
     "iopub.status.busy": "2022-06-26T09:54:52.741667Z",
     "iopub.status.idle": "2022-06-26T09:54:52.746254Z",
     "shell.execute_reply": "2022-06-26T09:54:52.745555Z"
    },
    "papermill": {
     "duration": 0.35962,
     "end_time": "2022-06-26T09:54:52.747901",
     "exception": false,
     "start_time": "2022-06-26T09:54:52.388281",
     "status": "completed"
    },
    "tags": []
   },
   "outputs": [],
   "source": [
    "model_gru_save_path = './model_weights/best_model_gru.h5'\n",
    "checkpoint_callback_gru = ModelCheckpoint(model_gru_save_path, \n",
    "                                      monitor='val_accuracy',\n",
    "                                      save_best_only=True,\n",
    "                                      verbose=1)"
   ]
  },
  {
   "cell_type": "code",
   "execution_count": 65,
   "id": "c354413d",
   "metadata": {
    "execution": {
     "iopub.execute_input": "2022-06-26T09:54:53.507050Z",
     "iopub.status.busy": "2022-06-26T09:54:53.506697Z",
     "iopub.status.idle": "2022-06-26T09:55:10.042516Z",
     "shell.execute_reply": "2022-06-26T09:55:10.041709Z"
    },
    "papermill": {
     "duration": 16.942592,
     "end_time": "2022-06-26T09:55:10.044492",
     "exception": false,
     "start_time": "2022-06-26T09:54:53.101900",
     "status": "completed"
    },
    "tags": []
   },
   "outputs": [
    {
     "name": "stdout",
     "output_type": "stream",
     "text": [
      "Epoch 1/6\n",
      "372/372 [==============================] - 4s 7ms/step - loss: 1.8688 - accuracy: 0.6640 - val_loss: 1.5149 - val_accuracy: 0.6375\n",
      "\n",
      "Epoch 00001: val_accuracy improved from -inf to 0.63750, saving model to ./model_weights/best_model_gru.h5\n",
      "Epoch 2/6\n",
      "372/372 [==============================] - 2s 6ms/step - loss: 1.2057 - accuracy: 0.7081 - val_loss: 1.1609 - val_accuracy: 0.7375\n",
      "\n",
      "Epoch 00002: val_accuracy improved from 0.63750 to 0.73750, saving model to ./model_weights/best_model_gru.h5\n",
      "Epoch 3/6\n",
      "372/372 [==============================] - 2s 6ms/step - loss: 0.8911 - accuracy: 0.7985 - val_loss: 0.8794 - val_accuracy: 0.8021\n",
      "\n",
      "Epoch 00003: val_accuracy improved from 0.73750 to 0.80208, saving model to ./model_weights/best_model_gru.h5\n",
      "Epoch 4/6\n",
      "372/372 [==============================] - 3s 7ms/step - loss: 0.6775 - accuracy: 0.8408 - val_loss: 0.7842 - val_accuracy: 0.8250\n",
      "\n",
      "Epoch 00004: val_accuracy improved from 0.80208 to 0.82500, saving model to ./model_weights/best_model_gru.h5\n",
      "Epoch 5/6\n",
      "372/372 [==============================] - 2s 7ms/step - loss: 0.5469 - accuracy: 0.8657 - val_loss: 0.7229 - val_accuracy: 0.8250\n",
      "\n",
      "Epoch 00005: val_accuracy did not improve from 0.82500\n",
      "Epoch 6/6\n",
      "372/372 [==============================] - 2s 7ms/step - loss: 0.4552 - accuracy: 0.8859 - val_loss: 0.7089 - val_accuracy: 0.8271\n",
      "\n",
      "Epoch 00006: val_accuracy improved from 0.82500 to 0.82708, saving model to ./model_weights/best_model_gru.h5\n"
     ]
    }
   ],
   "source": [
    "history_gru = model_gru.fit(x_train, \n",
    "                              y_train, \n",
    "                              epochs=6,\n",
    "                              batch_size=128,\n",
    "                              validation_split=0.01,\n",
    "                              callbacks=[checkpoint_callback_gru],\n",
    "                              use_multiprocessing=True)"
   ]
  },
  {
   "cell_type": "code",
   "execution_count": 66,
   "id": "726b6d06",
   "metadata": {
    "execution": {
     "iopub.execute_input": "2022-06-26T09:55:10.791794Z",
     "iopub.status.busy": "2022-06-26T09:55:10.791447Z",
     "iopub.status.idle": "2022-06-26T09:55:10.977308Z",
     "shell.execute_reply": "2022-06-26T09:55:10.976591Z"
    },
    "papermill": {
     "duration": 0.56329,
     "end_time": "2022-06-26T09:55:10.979202",
     "exception": false,
     "start_time": "2022-06-26T09:55:10.415912",
     "status": "completed"
    },
    "tags": []
   },
   "outputs": [
    {
     "data": {
      "image/png": "[encoded data removed]",
      "text/plain": [
       "<Figure size 432x288 with 1 Axes>"
      ]
     },
     "metadata": {
      "needs_background": "light"
     },
     "output_type": "display_data"
    }
   ],
   "source": [
    "plt.plot(history_gru.history['accuracy'], \n",
    "         label='Доля верных ответов на обучающем наборе')\n",
    "plt.plot(history_gru.history['val_accuracy'], \n",
    "         label='Доля верных ответов на проверочном наборе')\n",
    "plt.xlabel('Эпоха обучения')\n",
    "plt.ylabel('Доля верных ответов')\n",
    "plt.legend()\n",
    "plt.show()"
   ]
  },
  {
   "cell_type": "markdown",
   "id": "d418fa5e",
   "metadata": {
    "papermill": {
     "duration": 0.414174,
     "end_time": "2022-06-26T09:55:11.763424",
     "exception": false,
     "start_time": "2022-06-26T09:55:11.349250",
     "status": "completed"
    },
    "tags": []
   },
   "source": [
    "## Оцениваем качество работы сети на тестовом наборе данных"
   ]
  },
  {
   "cell_type": "markdown",
   "id": "ffc9c23f",
   "metadata": {
    "papermill": {
     "duration": 0.416294,
     "end_time": "2022-06-26T09:55:12.562566",
     "exception": false,
     "start_time": "2022-06-26T09:55:12.146272",
     "status": "completed"
    },
    "tags": []
   },
   "source": [
    "### Одномерная сверточная сеть "
   ]
  },
  {
   "cell_type": "code",
   "execution_count": 67,
   "id": "4d67ae94",
   "metadata": {
    "execution": {
     "iopub.execute_input": "2022-06-26T09:55:13.383898Z",
     "iopub.status.busy": "2022-06-26T09:55:13.383428Z",
     "iopub.status.idle": "2022-06-26T09:55:13.399698Z",
     "shell.execute_reply": "2022-06-26T09:55:13.398855Z"
    },
    "papermill": {
     "duration": 0.42949,
     "end_time": "2022-06-26T09:55:13.401788",
     "exception": false,
     "start_time": "2022-06-26T09:55:12.972298",
     "status": "completed"
    },
    "tags": []
   },
   "outputs": [],
   "source": [
    "model_cnn.load_weights(model_cnn_save_path)"
   ]
  },
  {
   "cell_type": "code",
   "execution_count": 68,
   "id": "b8fdaae4",
   "metadata": {
    "execution": {
     "iopub.execute_input": "2022-06-26T09:55:14.449640Z",
     "iopub.status.busy": "2022-06-26T09:55:14.449296Z",
     "iopub.status.idle": "2022-06-26T09:55:15.850181Z",
     "shell.execute_reply": "2022-06-26T09:55:15.849402Z"
    },
    "papermill": {
     "duration": 1.964745,
     "end_time": "2022-06-26T09:55:15.851987",
     "exception": false,
     "start_time": "2022-06-26T09:55:13.887242",
     "status": "completed"
    },
    "tags": []
   },
   "outputs": [
    {
     "name": "stdout",
     "output_type": "stream",
     "text": [
      "375/375 [==============================] - 1s 3ms/step - loss: 0.4803 - accuracy: 0.8777\n"
     ]
    },
    {
     "data": {
      "text/plain": [
       "[0.4802940785884857, 0.8777499794960022]"
      ]
     },
     "execution_count": 68,
     "metadata": {},
     "output_type": "execute_result"
    }
   ],
   "source": [
    "model_cnn.evaluate(x_test, y_test, verbose=1)"
   ]
  },
  {
   "cell_type": "markdown",
   "id": "9344dad2",
   "metadata": {
    "papermill": {
     "duration": 0.371131,
     "end_time": "2022-06-26T09:55:16.602973",
     "exception": false,
     "start_time": "2022-06-26T09:55:16.231842",
     "status": "completed"
    },
    "tags": []
   },
   "source": [
    "### Сеть LSTM"
   ]
  },
  {
   "cell_type": "code",
   "execution_count": 69,
   "id": "7e884845",
   "metadata": {
    "execution": {
     "iopub.execute_input": "2022-06-26T09:55:17.396836Z",
     "iopub.status.busy": "2022-06-26T09:55:17.396480Z",
     "iopub.status.idle": "2022-06-26T09:55:17.410709Z",
     "shell.execute_reply": "2022-06-26T09:55:17.409960Z"
    },
    "papermill": {
     "duration": 0.431615,
     "end_time": "2022-06-26T09:55:17.412463",
     "exception": false,
     "start_time": "2022-06-26T09:55:16.980848",
     "status": "completed"
    },
    "tags": []
   },
   "outputs": [],
   "source": [
    "model_lstm.load_weights(model_lstm_save_path)"
   ]
  },
  {
   "cell_type": "code",
   "execution_count": 70,
   "id": "d7519384",
   "metadata": {
    "execution": {
     "iopub.execute_input": "2022-06-26T09:55:18.153636Z",
     "iopub.status.busy": "2022-06-26T09:55:18.153281Z",
     "iopub.status.idle": "2022-06-26T09:55:19.827102Z",
     "shell.execute_reply": "2022-06-26T09:55:19.826347Z"
    },
    "papermill": {
     "duration": 2.042919,
     "end_time": "2022-06-26T09:55:19.828854",
     "exception": false,
     "start_time": "2022-06-26T09:55:17.785935",
     "status": "completed"
    },
    "tags": []
   },
   "outputs": [
    {
     "name": "stdout",
     "output_type": "stream",
     "text": [
      "375/375 [==============================] - 2s 4ms/step - loss: 0.7432 - accuracy: 0.8269\n"
     ]
    },
    {
     "data": {
      "text/plain": [
       "[0.7431889772415161, 0.8269166946411133]"
      ]
     },
     "execution_count": 70,
     "metadata": {},
     "output_type": "execute_result"
    }
   ],
   "source": [
    "model_lstm.evaluate(x_test, y_test, verbose=1)"
   ]
  },
  {
   "cell_type": "markdown",
   "id": "89f0efa8",
   "metadata": {
    "execution": {
     "iopub.execute_input": "2022-06-12T08:39:20.945649Z",
     "iopub.status.busy": "2022-06-12T08:39:20.944996Z",
     "iopub.status.idle": "2022-06-12T08:39:20.949751Z",
     "shell.execute_reply": "2022-06-12T08:39:20.948786Z",
     "shell.execute_reply.started": "2022-06-12T08:39:20.945592Z"
    },
    "papermill": {
     "duration": 0.369636,
     "end_time": "2022-06-26T09:55:20.576401",
     "exception": false,
     "start_time": "2022-06-26T09:55:20.206765",
     "status": "completed"
    },
    "tags": []
   },
   "source": [
    "### Сеть GRU"
   ]
  },
  {
   "cell_type": "code",
   "execution_count": 71,
   "id": "6573c97b",
   "metadata": {
    "execution": {
     "iopub.execute_input": "2022-06-26T09:55:21.364602Z",
     "iopub.status.busy": "2022-06-26T09:55:21.364240Z",
     "iopub.status.idle": "2022-06-26T09:55:21.381796Z",
     "shell.execute_reply": "2022-06-26T09:55:21.380919Z"
    },
    "papermill": {
     "duration": 0.435321,
     "end_time": "2022-06-26T09:55:21.383748",
     "exception": false,
     "start_time": "2022-06-26T09:55:20.948427",
     "status": "completed"
    },
    "tags": []
   },
   "outputs": [],
   "source": [
    "model_gru.load_weights(model_gru_save_path)"
   ]
  },
  {
   "cell_type": "code",
   "execution_count": 72,
   "id": "634dc875",
   "metadata": {
    "execution": {
     "iopub.execute_input": "2022-06-26T09:55:22.124515Z",
     "iopub.status.busy": "2022-06-26T09:55:22.124165Z",
     "iopub.status.idle": "2022-06-26T09:55:24.073096Z",
     "shell.execute_reply": "2022-06-26T09:55:24.072304Z"
    },
    "papermill": {
     "duration": 2.321361,
     "end_time": "2022-06-26T09:55:24.074795",
     "exception": false,
     "start_time": "2022-06-26T09:55:21.753434",
     "status": "completed"
    },
    "tags": []
   },
   "outputs": [
    {
     "name": "stdout",
     "output_type": "stream",
     "text": [
      "375/375 [==============================] - 2s 4ms/step - loss: 0.5976 - accuracy: 0.8610\n"
     ]
    },
    {
     "data": {
      "text/plain": [
       "[0.5976331233978271, 0.8610000014305115]"
      ]
     },
     "execution_count": 72,
     "metadata": {},
     "output_type": "execute_result"
    }
   ],
   "source": [
    "model_gru.evaluate(x_test, y_test, verbose=1)"
   ]
  },
  {
   "cell_type": "markdown",
   "id": "09d8bdaf",
   "metadata": {
    "papermill": {
     "duration": 0.498807,
     "end_time": "2022-06-26T09:55:24.966783",
     "exception": false,
     "start_time": "2022-06-26T09:55:24.467976",
     "status": "completed"
    },
    "tags": []
   },
   "source": [
    "# Загружу тестовые данные и получу предсказание"
   ]
  },
  {
   "cell_type": "code",
   "execution_count": 73,
   "id": "3d9ada97",
   "metadata": {
    "execution": {
     "iopub.execute_input": "2022-06-26T09:55:25.864017Z",
     "iopub.status.busy": "2022-06-26T09:55:25.863669Z",
     "iopub.status.idle": "2022-06-26T09:55:26.215236Z",
     "shell.execute_reply": "2022-06-26T09:55:26.214421Z"
    },
    "papermill": {
     "duration": 0.72822,
     "end_time": "2022-06-26T09:55:26.217406",
     "exception": false,
     "start_time": "2022-06-26T09:55:25.489186",
     "status": "completed"
    },
    "tags": []
   },
   "outputs": [],
   "source": [
    "test = pd.read_csv(PATH + 'df_test.csv')\n",
    "test.drop(['Unnamed: 0'], axis = 1, inplace = True)"
   ]
  },
  {
   "cell_type": "code",
   "execution_count": 74,
   "id": "36dd2cbc",
   "metadata": {
    "execution": {
     "iopub.execute_input": "2022-06-26T09:55:27.020728Z",
     "iopub.status.busy": "2022-06-26T09:55:27.020385Z",
     "iopub.status.idle": "2022-06-26T09:55:27.031545Z",
     "shell.execute_reply": "2022-06-26T09:55:27.030694Z"
    },
    "papermill": {
     "duration": 0.396124,
     "end_time": "2022-06-26T09:55:27.033371",
     "exception": false,
     "start_time": "2022-06-26T09:55:26.637247",
     "status": "completed"
    },
    "tags": []
   },
   "outputs": [
    {
     "data": {
      "text/html": [
       "<div>\n",
       "<style scoped>\n",
       "    .dataframe tbody tr th:only-of-type {\n",
       "        vertical-align: middle;\n",
       "    }\n",
       "\n",
       "    .dataframe tbody tr th {\n",
       "        vertical-align: top;\n",
       "    }\n",
       "\n",
       "    .dataframe thead th {\n",
       "        text-align: right;\n",
       "    }\n",
       "</style>\n",
       "<table border=\"1\" class=\"dataframe\">\n",
       "  <thead>\n",
       "    <tr style=\"text-align: right;\">\n",
       "      <th></th>\n",
       "      <th>text</th>\n",
       "      <th>class</th>\n",
       "    </tr>\n",
       "  </thead>\n",
       "  <tbody>\n",
       "    <tr>\n",
       "      <th>25822</th>\n",
       "      <td>Так, об этом написано даже в Википедии, в 2016...</td>\n",
       "      <td>O</td>\n",
       "    </tr>\n",
       "    <tr>\n",
       "      <th>9663</th>\n",
       "      <td>В е-декларации за 2020 год заммэра Владимир Во...</td>\n",
       "      <td>O</td>\n",
       "    </tr>\n",
       "    <tr>\n",
       "      <th>22261</th>\n",
       "      <td>К талибам, по данным В.Я. Белокреницкого и Р.Р...</td>\n",
       "      <td>O</td>\n",
       "    </tr>\n",
       "  </tbody>\n",
       "</table>\n",
       "</div>"
      ],
      "text/plain": [
       "                                                    text class\n",
       "25822  Так, об этом написано даже в Википедии, в 2016...     O\n",
       "9663   В е-декларации за 2020 год заммэра Владимир Во...     O\n",
       "22261  К талибам, по данным В.Я. Белокреницкого и Р.Р...     O"
      ]
     },
     "execution_count": 74,
     "metadata": {},
     "output_type": "execute_result"
    }
   ],
   "source": [
    "test.sample(3)"
   ]
  },
  {
   "cell_type": "code",
   "execution_count": 75,
   "id": "4f0ae69b",
   "metadata": {
    "execution": {
     "iopub.execute_input": "2022-06-26T09:55:27.785004Z",
     "iopub.status.busy": "2022-06-26T09:55:27.784647Z",
     "iopub.status.idle": "2022-06-26T09:55:27.804817Z",
     "shell.execute_reply": "2022-06-26T09:55:27.803252Z"
    },
    "papermill": {
     "duration": 0.402338,
     "end_time": "2022-06-26T09:55:27.807412",
     "exception": false,
     "start_time": "2022-06-26T09:55:27.405074",
     "status": "completed"
    },
    "tags": []
   },
   "outputs": [
    {
     "name": "stdout",
     "output_type": "stream",
     "text": [
      "<class 'pandas.core.frame.DataFrame'>\n",
      "RangeIndex: 40000 entries, 0 to 39999\n",
      "Data columns (total 2 columns):\n",
      " #   Column  Non-Null Count  Dtype \n",
      "---  ------  --------------  ----- \n",
      " 0   text    40000 non-null  object\n",
      " 1   class   40000 non-null  object\n",
      "dtypes: object(2)\n",
      "memory usage: 625.1+ KB\n"
     ]
    }
   ],
   "source": [
    "test.info()"
   ]
  },
  {
   "cell_type": "code",
   "execution_count": 76,
   "id": "84b7ac85",
   "metadata": {
    "execution": {
     "iopub.execute_input": "2022-06-26T09:55:28.554154Z",
     "iopub.status.busy": "2022-06-26T09:55:28.553786Z",
     "iopub.status.idle": "2022-06-26T10:00:14.067647Z",
     "shell.execute_reply": "2022-06-26T10:00:14.065115Z"
    },
    "papermill": {
     "duration": 285.888254,
     "end_time": "2022-06-26T10:00:14.069399",
     "exception": false,
     "start_time": "2022-06-26T09:55:28.181145",
     "status": "completed"
    },
    "tags": []
   },
   "outputs": [
    {
     "name": "stderr",
     "output_type": "stream",
     "text": [
      "100%|██████████| 40000/40000 [04:45<00:00, 140.10it/s]\n"
     ]
    }
   ],
   "source": [
    "test['text_lem'] = test['text'].progress_apply(lem)"
   ]
  },
  {
   "cell_type": "code",
   "execution_count": 77,
   "id": "80b7ea07",
   "metadata": {
    "execution": {
     "iopub.execute_input": "2022-06-26T10:00:15.161191Z",
     "iopub.status.busy": "2022-06-26T10:00:15.160495Z",
     "iopub.status.idle": "2022-06-26T10:01:54.718798Z",
     "shell.execute_reply": "2022-06-26T10:01:54.717346Z"
    },
    "papermill": {
     "duration": 100.084237,
     "end_time": "2022-06-26T10:01:54.721713",
     "exception": false,
     "start_time": "2022-06-26T10:00:14.637476",
     "status": "completed"
    },
    "tags": []
   },
   "outputs": [
    {
     "name": "stderr",
     "output_type": "stream",
     "text": [
      "100%|██████████| 40000/40000 [01:39<00:00, 401.81it/s]\n"
     ]
    }
   ],
   "source": [
    "test['text_lem_set'] = test['text_lem'].progress_apply(lambda x: text_lem_set(x))"
   ]
  },
  {
   "cell_type": "code",
   "execution_count": 78,
   "id": "b9a706e1",
   "metadata": {
    "execution": {
     "iopub.execute_input": "2022-06-26T10:01:55.927686Z",
     "iopub.status.busy": "2022-06-26T10:01:55.927322Z",
     "iopub.status.idle": "2022-06-26T10:01:56.927258Z",
     "shell.execute_reply": "2022-06-26T10:01:56.926412Z"
    },
    "papermill": {
     "duration": 1.580945,
     "end_time": "2022-06-26T10:01:56.929614",
     "exception": false,
     "start_time": "2022-06-26T10:01:55.348669",
     "status": "completed"
    },
    "tags": []
   },
   "outputs": [],
   "source": [
    "test_2_sequences = tokenizer.texts_to_sequences(test['text_lem_set'])\n",
    "\n",
    "x_test_2 = pad_sequences(test_2_sequences, maxlen=max_news_len)"
   ]
  },
  {
   "cell_type": "code",
   "execution_count": 79,
   "id": "61e71329",
   "metadata": {
    "execution": {
     "iopub.execute_input": "2022-06-26T10:01:58.135995Z",
     "iopub.status.busy": "2022-06-26T10:01:58.135649Z",
     "iopub.status.idle": "2022-06-26T10:02:02.064847Z",
     "shell.execute_reply": "2022-06-26T10:02:02.064100Z"
    },
    "papermill": {
     "duration": 4.505612,
     "end_time": "2022-06-26T10:02:02.066466",
     "exception": false,
     "start_time": "2022-06-26T10:01:57.560854",
     "status": "completed"
    },
    "tags": []
   },
   "outputs": [
    {
     "name": "stdout",
     "output_type": "stream",
     "text": [
      "1250/1250 [==============================] - 1s 1ms/step\n",
      "1250/1250 [==============================] - 2s 2ms/step\n"
     ]
    }
   ],
   "source": [
    "y_test_pred_cnn = model_cnn.predict(x_test_2, verbose=1)\n",
    "#y_test_pred_lstm = model_lstm.predict(x_test_2, verbose=1)\n",
    "y_test_pred_gru = model_gru.predict(x_test_2, verbose=1)"
   ]
  },
  {
   "cell_type": "code",
   "execution_count": 80,
   "id": "8c64d564",
   "metadata": {
    "execution": {
     "iopub.execute_input": "2022-06-26T10:02:03.278936Z",
     "iopub.status.busy": "2022-06-26T10:02:03.278589Z",
     "iopub.status.idle": "2022-06-26T10:02:05.759638Z",
     "shell.execute_reply": "2022-06-26T10:02:05.758874Z"
    },
    "papermill": {
     "duration": 3.061606,
     "end_time": "2022-06-26T10:02:05.761314",
     "exception": false,
     "start_time": "2022-06-26T10:02:02.699708",
     "status": "completed"
    },
    "tags": []
   },
   "outputs": [
    {
     "name": "stderr",
     "output_type": "stream",
     "text": [
      "100%|██████████| 40000/40000 [00:02<00:00, 16224.52it/s]\n"
     ]
    },
    {
     "data": {
      "text/plain": [
       "(40000, 50)"
      ]
     },
     "execution_count": 80,
     "metadata": {},
     "output_type": "execute_result"
    }
   ],
   "source": [
    "test_pred = np.zeros(y_test_pred_cnn.shape)\n",
    "for i in tqdm(range(y_test_pred_cnn.shape[0])):\n",
    "    for j in range(y_test_pred_cnn.shape[1]):\n",
    "        test_pred[i,j] = max(y_test_pred_cnn[i,j], y_test_pred_gru[i,j])\n",
    "\n",
    "test_pred.shape\n"
   ]
  },
  {
   "cell_type": "code",
   "execution_count": 81,
   "id": "0b11e3e7",
   "metadata": {
    "execution": {
     "iopub.execute_input": "2022-06-26T10:02:07.008873Z",
     "iopub.status.busy": "2022-06-26T10:02:07.008102Z",
     "iopub.status.idle": "2022-06-26T10:02:07.013908Z",
     "shell.execute_reply": "2022-06-26T10:02:07.013099Z"
    },
    "papermill": {
     "duration": 0.670706,
     "end_time": "2022-06-26T10:02:07.016848",
     "exception": false,
     "start_time": "2022-06-26T10:02:06.346142",
     "status": "completed"
    },
    "tags": []
   },
   "outputs": [
    {
     "data": {
      "text/plain": [
       "0.7931530475616455"
      ]
     },
     "execution_count": 81,
     "metadata": {},
     "output_type": "execute_result"
    }
   ],
   "source": [
    "test_pred[1].max()"
   ]
  },
  {
   "cell_type": "code",
   "execution_count": 82,
   "id": "d89c8e62",
   "metadata": {
    "execution": {
     "iopub.execute_input": "2022-06-26T10:02:08.233032Z",
     "iopub.status.busy": "2022-06-26T10:02:08.232659Z",
     "iopub.status.idle": "2022-06-26T10:02:08.254606Z",
     "shell.execute_reply": "2022-06-26T10:02:08.253895Z"
    },
    "papermill": {
     "duration": 0.659509,
     "end_time": "2022-06-26T10:02:08.256358",
     "exception": false,
     "start_time": "2022-06-26T10:02:07.596849",
     "status": "completed"
    },
    "tags": []
   },
   "outputs": [
    {
     "data": {
      "text/html": [
       "<div>\n",
       "<style scoped>\n",
       "    .dataframe tbody tr th:only-of-type {\n",
       "        vertical-align: middle;\n",
       "    }\n",
       "\n",
       "    .dataframe tbody tr th {\n",
       "        vertical-align: top;\n",
       "    }\n",
       "\n",
       "    .dataframe thead th {\n",
       "        text-align: right;\n",
       "    }\n",
       "</style>\n",
       "<table border=\"1\" class=\"dataframe\">\n",
       "  <thead>\n",
       "    <tr style=\"text-align: right;\">\n",
       "      <th></th>\n",
       "      <th>text</th>\n",
       "      <th>class</th>\n",
       "      <th>text_lem</th>\n",
       "      <th>text_lem_set</th>\n",
       "    </tr>\n",
       "  </thead>\n",
       "  <tbody>\n",
       "    <tr>\n",
       "      <th>21856</th>\n",
       "      <td>По версии следствия, утром 7 июля 2016 года об...</td>\n",
       "      <td>O</td>\n",
       "      <td>[по, версия, следствия,, утром, 7, июль, 2016,...</td>\n",
       "      <td>[по, версия, следствия,, утром, июль, 2016, го...</td>\n",
       "    </tr>\n",
       "    <tr>\n",
       "      <th>35746</th>\n",
       "      <td>Официальный представитель политического офиса ...</td>\n",
       "      <td>O</td>\n",
       "      <td>[официальный, представитель, политический, офи...</td>\n",
       "      <td>[официальный, представитель, политический, офи...</td>\n",
       "    </tr>\n",
       "    <tr>\n",
       "      <th>8327</th>\n",
       "      <td>Его обвинили в получении взятки в особо крупно...</td>\n",
       "      <td>O</td>\n",
       "      <td>[он, обвинить, в, получение, взятка, в, особо,...</td>\n",
       "      <td>[он, обвинить, получение, взятка, особо, крупн...</td>\n",
       "    </tr>\n",
       "  </tbody>\n",
       "</table>\n",
       "</div>"
      ],
      "text/plain": [
       "                                                    text class  \\\n",
       "21856  По версии следствия, утром 7 июля 2016 года об...     O   \n",
       "35746  Официальный представитель политического офиса ...     O   \n",
       "8327   Его обвинили в получении взятки в особо крупно...     O   \n",
       "\n",
       "                                                text_lem  \\\n",
       "21856  [по, версия, следствия,, утром, 7, июль, 2016,...   \n",
       "35746  [официальный, представитель, политический, офи...   \n",
       "8327   [он, обвинить, в, получение, взятка, в, особо,...   \n",
       "\n",
       "                                            text_lem_set  \n",
       "21856  [по, версия, следствия,, утром, июль, 2016, го...  \n",
       "35746  [официальный, представитель, политический, офи...  \n",
       "8327   [он, обвинить, получение, взятка, особо, крупн...  "
      ]
     },
     "execution_count": 82,
     "metadata": {},
     "output_type": "execute_result"
    }
   ],
   "source": [
    "test.sample(3)"
   ]
  },
  {
   "cell_type": "code",
   "execution_count": 83,
   "id": "fc72ecdf",
   "metadata": {
    "execution": {
     "iopub.execute_input": "2022-06-26T10:02:09.419236Z",
     "iopub.status.busy": "2022-06-26T10:02:09.418683Z",
     "iopub.status.idle": "2022-06-26T10:02:09.930575Z",
     "shell.execute_reply": "2022-06-26T10:02:09.929744Z"
    },
    "papermill": {
     "duration": 1.097529,
     "end_time": "2022-06-26T10:02:09.932574",
     "exception": false,
     "start_time": "2022-06-26T10:02:08.835045",
     "status": "completed"
    },
    "tags": []
   },
   "outputs": [],
   "source": [
    "test_pred_class = []\n",
    "for i in range(len(test_pred)):\n",
    "    index, max_value = max(enumerate(test_pred[i]), key=lambda i_v: i_v[1])\n",
    "    test_pred_class.append((index))"
   ]
  },
  {
   "cell_type": "code",
   "execution_count": 84,
   "id": "e875a226",
   "metadata": {
    "execution": {
     "iopub.execute_input": "2022-06-26T10:02:11.160502Z",
     "iopub.status.busy": "2022-06-26T10:02:11.160158Z",
     "iopub.status.idle": "2022-06-26T10:02:11.165981Z",
     "shell.execute_reply": "2022-06-26T10:02:11.165103Z"
    },
    "papermill": {
     "duration": 0.595195,
     "end_time": "2022-06-26T10:02:11.168595",
     "exception": false,
     "start_time": "2022-06-26T10:02:10.573400",
     "status": "completed"
    },
    "tags": []
   },
   "outputs": [
    {
     "data": {
      "text/plain": [
       "(0, 40000)"
      ]
     },
     "execution_count": 84,
     "metadata": {},
     "output_type": "execute_result"
    }
   ],
   "source": [
    "test_pred_class[0], len(test_pred_class)"
   ]
  },
  {
   "cell_type": "code",
   "execution_count": 85,
   "id": "92fa66cf",
   "metadata": {
    "execution": {
     "iopub.execute_input": "2022-06-26T10:02:12.604597Z",
     "iopub.status.busy": "2022-06-26T10:02:12.604251Z",
     "iopub.status.idle": "2022-06-26T10:02:12.608721Z",
     "shell.execute_reply": "2022-06-26T10:02:12.607978Z"
    },
    "papermill": {
     "duration": 0.86374,
     "end_time": "2022-06-26T10:02:12.610405",
     "exception": false,
     "start_time": "2022-06-26T10:02:11.746665",
     "status": "completed"
    },
    "tags": []
   },
   "outputs": [],
   "source": [
    "test['class_cat'] = 0"
   ]
  },
  {
   "cell_type": "code",
   "execution_count": 86,
   "id": "25ff4758",
   "metadata": {
    "execution": {
     "iopub.execute_input": "2022-06-26T10:02:13.831022Z",
     "iopub.status.busy": "2022-06-26T10:02:13.830675Z",
     "iopub.status.idle": "2022-06-26T10:02:13.835929Z",
     "shell.execute_reply": "2022-06-26T10:02:13.835228Z"
    },
    "papermill": {
     "duration": 0.64558,
     "end_time": "2022-06-26T10:02:13.837964",
     "exception": false,
     "start_time": "2022-06-26T10:02:13.192384",
     "status": "completed"
    },
    "tags": []
   },
   "outputs": [
    {
     "data": {
      "text/plain": [
       "'O'"
      ]
     },
     "execution_count": 86,
     "metadata": {},
     "output_type": "execute_result"
    }
   ],
   "source": [
    "y.columns[0]"
   ]
  },
  {
   "cell_type": "code",
   "execution_count": 87,
   "id": "e971c987",
   "metadata": {
    "execution": {
     "iopub.execute_input": "2022-06-26T10:02:15.052829Z",
     "iopub.status.busy": "2022-06-26T10:02:15.052479Z",
     "iopub.status.idle": "2022-06-26T10:02:26.961479Z",
     "shell.execute_reply": "2022-06-26T10:02:26.960631Z"
    },
    "papermill": {
     "duration": 12.545969,
     "end_time": "2022-06-26T10:02:26.963466",
     "exception": false,
     "start_time": "2022-06-26T10:02:14.417497",
     "status": "completed"
    },
    "tags": []
   },
   "outputs": [
    {
     "name": "stderr",
     "output_type": "stream",
     "text": [
      "  0%|          | 0/40000 [00:00<?, ?it/s]/opt/conda/lib/python3.7/site-packages/pandas/core/indexing.py:1732: SettingWithCopyWarning: \n",
      "A value is trying to be set on a copy of a slice from a DataFrame\n",
      "\n",
      "See the caveats in the documentation: https://pandas.pydata.org/pandas-docs/stable/user_guide/indexing.html#returning-a-view-versus-a-copy\n",
      "  self._setitem_single_block(indexer, value, name)\n",
      "100%|██████████| 40000/40000 [00:11<00:00, 3360.79it/s]\n"
     ]
    }
   ],
   "source": [
    "for i in tqdm(test.index):\n",
    "    test['class_cat'].iloc[i] = test_pred_class[i]"
   ]
  },
  {
   "cell_type": "code",
   "execution_count": 88,
   "id": "02d28ba8",
   "metadata": {
    "execution": {
     "iopub.execute_input": "2022-06-26T10:02:28.142425Z",
     "iopub.status.busy": "2022-06-26T10:02:28.142050Z",
     "iopub.status.idle": "2022-06-26T10:02:28.563564Z",
     "shell.execute_reply": "2022-06-26T10:02:28.562531Z"
    },
    "papermill": {
     "duration": 1.008876,
     "end_time": "2022-06-26T10:02:28.565733",
     "exception": false,
     "start_time": "2022-06-26T10:02:27.556857",
     "status": "completed"
    },
    "tags": []
   },
   "outputs": [],
   "source": [
    "test['class'] = test['class_cat'].apply(lambda x: y.columns[x])"
   ]
  },
  {
   "cell_type": "code",
   "execution_count": 89,
   "id": "8a1d4e85",
   "metadata": {
    "execution": {
     "iopub.execute_input": "2022-06-26T10:02:29.781637Z",
     "iopub.status.busy": "2022-06-26T10:02:29.781295Z",
     "iopub.status.idle": "2022-06-26T10:02:29.795320Z",
     "shell.execute_reply": "2022-06-26T10:02:29.794462Z"
    },
    "papermill": {
     "duration": 0.60072,
     "end_time": "2022-06-26T10:02:29.798207",
     "exception": false,
     "start_time": "2022-06-26T10:02:29.197487",
     "status": "completed"
    },
    "tags": []
   },
   "outputs": [
    {
     "data": {
      "text/html": [
       "<div>\n",
       "<style scoped>\n",
       "    .dataframe tbody tr th:only-of-type {\n",
       "        vertical-align: middle;\n",
       "    }\n",
       "\n",
       "    .dataframe tbody tr th {\n",
       "        vertical-align: top;\n",
       "    }\n",
       "\n",
       "    .dataframe thead th {\n",
       "        text-align: right;\n",
       "    }\n",
       "</style>\n",
       "<table border=\"1\" class=\"dataframe\">\n",
       "  <thead>\n",
       "    <tr style=\"text-align: right;\">\n",
       "      <th></th>\n",
       "      <th>text</th>\n",
       "      <th>class</th>\n",
       "      <th>text_lem</th>\n",
       "      <th>text_lem_set</th>\n",
       "      <th>class_cat</th>\n",
       "    </tr>\n",
       "  </thead>\n",
       "  <tbody>\n",
       "    <tr>\n",
       "      <th>869</th>\n",
       "      <td>Об этом сообщил телеканал 1TV со ссылкой на ис...</td>\n",
       "      <td>O</td>\n",
       "      <td>[о, это, сообщить, телеканал, 1tv, с, ссылка, ...</td>\n",
       "      <td>[это, сообщить, телеканал, 1tv, ссылка, на, ис...</td>\n",
       "      <td>0</td>\n",
       "    </tr>\n",
       "    <tr>\n",
       "      <th>28051</th>\n",
       "      <td>Это настоящий бич похоронной отрасли, – говори...</td>\n",
       "      <td>O</td>\n",
       "      <td>[это, настоящий, бич, похоронный, отрасли,, –,...</td>\n",
       "      <td>[это, настоящий, похоронный, отрасли,, говорит...</td>\n",
       "      <td>0</td>\n",
       "    </tr>\n",
       "    <tr>\n",
       "      <th>4818</th>\n",
       "      <td>Постпред РФ при ООН заявил, что ситуация в Афг...</td>\n",
       "      <td>O</td>\n",
       "      <td>[постпред, рф, при, оон, заявил,, что, ситуаци...</td>\n",
       "      <td>[постпред, рф, при, оон, заявил,, что, ситуаци...</td>\n",
       "      <td>0</td>\n",
       "    </tr>\n",
       "  </tbody>\n",
       "</table>\n",
       "</div>"
      ],
      "text/plain": [
       "                                                    text class  \\\n",
       "869    Об этом сообщил телеканал 1TV со ссылкой на ис...     O   \n",
       "28051  Это настоящий бич похоронной отрасли, – говори...     O   \n",
       "4818   Постпред РФ при ООН заявил, что ситуация в Афг...     O   \n",
       "\n",
       "                                                text_lem  \\\n",
       "869    [о, это, сообщить, телеканал, 1tv, с, ссылка, ...   \n",
       "28051  [это, настоящий, бич, похоронный, отрасли,, –,...   \n",
       "4818   [постпред, рф, при, оон, заявил,, что, ситуаци...   \n",
       "\n",
       "                                            text_lem_set  class_cat  \n",
       "869    [это, сообщить, телеканал, 1tv, ссылка, на, ис...          0  \n",
       "28051  [это, настоящий, похоронный, отрасли,, говорит...          0  \n",
       "4818   [постпред, рф, при, оон, заявил,, что, ситуаци...          0  "
      ]
     },
     "execution_count": 89,
     "metadata": {},
     "output_type": "execute_result"
    }
   ],
   "source": [
    "test.sample(3)"
   ]
  },
  {
   "cell_type": "code",
   "execution_count": 90,
   "id": "3a22c216",
   "metadata": {
    "execution": {
     "iopub.execute_input": "2022-06-26T10:02:31.024887Z",
     "iopub.status.busy": "2022-06-26T10:02:31.024503Z",
     "iopub.status.idle": "2022-06-26T10:02:31.036554Z",
     "shell.execute_reply": "2022-06-26T10:02:31.035695Z"
    },
    "papermill": {
     "duration": 0.603859,
     "end_time": "2022-06-26T10:02:31.039309",
     "exception": false,
     "start_time": "2022-06-26T10:02:30.435450",
     "status": "completed"
    },
    "tags": []
   },
   "outputs": [
    {
     "data": {
      "text/plain": [
       "O                                                   28171\n",
       "Взятки                                               1423\n",
       "Экстремизм                                           1396\n",
       "Привлечение к уголовной ответственности              1237\n",
       "Теракт                                               1193\n",
       "Уголовное обвинение                                  1174\n",
       "Пожары                                               1099\n",
       "Землетрясение                                         661\n",
       "Утечка нефти                                          588\n",
       "Коррупция                                             350\n",
       "Наводнение                                            346\n",
       "Заключение под стражу                                 312\n",
       "Противодействие коррупции                             280\n",
       "Уголовное задержание                                  265\n",
       "Поддержка террористов                                 256\n",
       "Авиакатастрофа                                        219\n",
       "Кораблекрушение                                       209\n",
       "Техногенные катастрофы                                189\n",
       "Нарушение закона                                      162\n",
       "Убытки                                                114\n",
       "Падение продаж                                        104\n",
       "Извержение вулкана                                     98\n",
       "Падение прибыли                                        69\n",
       "Проблемы с активами                                    54\n",
       "Экономические преступления                             16\n",
       "Растрата денежных средств                               8\n",
       "Стихийные бедствия                                      4\n",
       "Закрытие предприятия или производства                   2\n",
       "Чрезвычайные происшествия, чрезвычайные ситуации        1\n",
       "Name: class, dtype: int64"
      ]
     },
     "execution_count": 90,
     "metadata": {},
     "output_type": "execute_result"
    }
   ],
   "source": [
    "test['class'].value_counts()"
   ]
  },
  {
   "cell_type": "code",
   "execution_count": 91,
   "id": "8554ccab",
   "metadata": {
    "execution": {
     "iopub.execute_input": "2022-06-26T10:02:32.259728Z",
     "iopub.status.busy": "2022-06-26T10:02:32.259382Z",
     "iopub.status.idle": "2022-06-26T10:02:32.291858Z",
     "shell.execute_reply": "2022-06-26T10:02:32.291107Z"
    },
    "papermill": {
     "duration": 0.669362,
     "end_time": "2022-06-26T10:02:32.293608",
     "exception": false,
     "start_time": "2022-06-26T10:02:31.624246",
     "status": "completed"
    },
    "tags": []
   },
   "outputs": [],
   "source": [
    "sub = pd.read_csv(PATH + 'sample_submission.csv')"
   ]
  },
  {
   "cell_type": "code",
   "execution_count": 92,
   "id": "c1e6556f",
   "metadata": {
    "execution": {
     "iopub.execute_input": "2022-06-26T10:02:33.528619Z",
     "iopub.status.busy": "2022-06-26T10:02:33.528265Z",
     "iopub.status.idle": "2022-06-26T10:02:33.538076Z",
     "shell.execute_reply": "2022-06-26T10:02:33.537230Z"
    },
    "papermill": {
     "duration": 0.652691,
     "end_time": "2022-06-26T10:02:33.540899",
     "exception": false,
     "start_time": "2022-06-26T10:02:32.888208",
     "status": "completed"
    },
    "tags": []
   },
   "outputs": [
    {
     "data": {
      "text/html": [
       "<div>\n",
       "<style scoped>\n",
       "    .dataframe tbody tr th:only-of-type {\n",
       "        vertical-align: middle;\n",
       "    }\n",
       "\n",
       "    .dataframe tbody tr th {\n",
       "        vertical-align: top;\n",
       "    }\n",
       "\n",
       "    .dataframe thead th {\n",
       "        text-align: right;\n",
       "    }\n",
       "</style>\n",
       "<table border=\"1\" class=\"dataframe\">\n",
       "  <thead>\n",
       "    <tr style=\"text-align: right;\">\n",
       "      <th></th>\n",
       "      <th>id</th>\n",
       "      <th>class</th>\n",
       "    </tr>\n",
       "  </thead>\n",
       "  <tbody>\n",
       "    <tr>\n",
       "      <th>4559</th>\n",
       "      <td>4559</td>\n",
       "      <td>O</td>\n",
       "    </tr>\n",
       "    <tr>\n",
       "      <th>37502</th>\n",
       "      <td>37502</td>\n",
       "      <td>O</td>\n",
       "    </tr>\n",
       "    <tr>\n",
       "      <th>7208</th>\n",
       "      <td>7208</td>\n",
       "      <td>O</td>\n",
       "    </tr>\n",
       "    <tr>\n",
       "      <th>31555</th>\n",
       "      <td>31555</td>\n",
       "      <td>O</td>\n",
       "    </tr>\n",
       "    <tr>\n",
       "      <th>1892</th>\n",
       "      <td>1892</td>\n",
       "      <td>O</td>\n",
       "    </tr>\n",
       "  </tbody>\n",
       "</table>\n",
       "</div>"
      ],
      "text/plain": [
       "          id class\n",
       "4559    4559     O\n",
       "37502  37502     O\n",
       "7208    7208     O\n",
       "31555  31555     O\n",
       "1892    1892     O"
      ]
     },
     "execution_count": 92,
     "metadata": {},
     "output_type": "execute_result"
    }
   ],
   "source": [
    "sub.sample(5)"
   ]
  },
  {
   "cell_type": "code",
   "execution_count": 93,
   "id": "108ab219",
   "metadata": {
    "execution": {
     "iopub.execute_input": "2022-06-26T10:02:35.029836Z",
     "iopub.status.busy": "2022-06-26T10:02:35.029491Z",
     "iopub.status.idle": "2022-06-26T10:02:35.034446Z",
     "shell.execute_reply": "2022-06-26T10:02:35.033694Z"
    },
    "papermill": {
     "duration": 0.642535,
     "end_time": "2022-06-26T10:02:35.036217",
     "exception": false,
     "start_time": "2022-06-26T10:02:34.393682",
     "status": "completed"
    },
    "tags": []
   },
   "outputs": [],
   "source": [
    "submission = pd.DataFrame({'id':test.index})"
   ]
  },
  {
   "cell_type": "code",
   "execution_count": 94,
   "id": "e0561d34",
   "metadata": {
    "execution": {
     "iopub.execute_input": "2022-06-26T10:02:36.214556Z",
     "iopub.status.busy": "2022-06-26T10:02:36.214211Z",
     "iopub.status.idle": "2022-06-26T10:02:36.219250Z",
     "shell.execute_reply": "2022-06-26T10:02:36.218393Z"
    },
    "papermill": {
     "duration": 0.595065,
     "end_time": "2022-06-26T10:02:36.221249",
     "exception": false,
     "start_time": "2022-06-26T10:02:35.626184",
     "status": "completed"
    },
    "tags": []
   },
   "outputs": [],
   "source": [
    "submission['class'] = test['class']"
   ]
  },
  {
   "cell_type": "code",
   "execution_count": 95,
   "id": "ab0df24f",
   "metadata": {
    "execution": {
     "iopub.execute_input": "2022-06-26T10:02:37.479044Z",
     "iopub.status.busy": "2022-06-26T10:02:37.478696Z",
     "iopub.status.idle": "2022-06-26T10:02:37.488760Z",
     "shell.execute_reply": "2022-06-26T10:02:37.488018Z"
    },
    "papermill": {
     "duration": 0.609049,
     "end_time": "2022-06-26T10:02:37.490368",
     "exception": false,
     "start_time": "2022-06-26T10:02:36.881319",
     "status": "completed"
    },
    "tags": []
   },
   "outputs": [
    {
     "data": {
      "text/html": [
       "<div>\n",
       "<style scoped>\n",
       "    .dataframe tbody tr th:only-of-type {\n",
       "        vertical-align: middle;\n",
       "    }\n",
       "\n",
       "    .dataframe tbody tr th {\n",
       "        vertical-align: top;\n",
       "    }\n",
       "\n",
       "    .dataframe thead th {\n",
       "        text-align: right;\n",
       "    }\n",
       "</style>\n",
       "<table border=\"1\" class=\"dataframe\">\n",
       "  <thead>\n",
       "    <tr style=\"text-align: right;\">\n",
       "      <th></th>\n",
       "      <th>id</th>\n",
       "      <th>class</th>\n",
       "    </tr>\n",
       "  </thead>\n",
       "  <tbody>\n",
       "    <tr>\n",
       "      <th>9103</th>\n",
       "      <td>9103</td>\n",
       "      <td>O</td>\n",
       "    </tr>\n",
       "    <tr>\n",
       "      <th>10731</th>\n",
       "      <td>10731</td>\n",
       "      <td>O</td>\n",
       "    </tr>\n",
       "    <tr>\n",
       "      <th>37195</th>\n",
       "      <td>37195</td>\n",
       "      <td>Пожары</td>\n",
       "    </tr>\n",
       "  </tbody>\n",
       "</table>\n",
       "</div>"
      ],
      "text/plain": [
       "          id   class\n",
       "9103    9103       O\n",
       "10731  10731       O\n",
       "37195  37195  Пожары"
      ]
     },
     "execution_count": 95,
     "metadata": {},
     "output_type": "execute_result"
    }
   ],
   "source": [
    "submission.sample(3)"
   ]
  },
  {
   "cell_type": "code",
   "execution_count": 96,
   "id": "ad2414d9",
   "metadata": {
    "execution": {
     "iopub.execute_input": "2022-06-26T10:02:38.742956Z",
     "iopub.status.busy": "2022-06-26T10:02:38.742618Z",
     "iopub.status.idle": "2022-06-26T10:02:38.758371Z",
     "shell.execute_reply": "2022-06-26T10:02:38.756616Z"
    },
    "papermill": {
     "duration": 0.625516,
     "end_time": "2022-06-26T10:02:38.760934",
     "exception": false,
     "start_time": "2022-06-26T10:02:38.135418",
     "status": "completed"
    },
    "tags": []
   },
   "outputs": [
    {
     "name": "stdout",
     "output_type": "stream",
     "text": [
      "<class 'pandas.core.frame.DataFrame'>\n",
      "RangeIndex: 40000 entries, 0 to 39999\n",
      "Data columns (total 2 columns):\n",
      " #   Column  Non-Null Count  Dtype \n",
      "---  ------  --------------  ----- \n",
      " 0   id      40000 non-null  int64 \n",
      " 1   class   40000 non-null  object\n",
      "dtypes: int64(1), object(1)\n",
      "memory usage: 625.1+ KB\n"
     ]
    }
   ],
   "source": [
    "submission.info()"
   ]
  },
  {
   "cell_type": "code",
   "execution_count": 97,
   "id": "a9f9b407",
   "metadata": {
    "execution": {
     "iopub.execute_input": "2022-06-26T10:02:40.006901Z",
     "iopub.status.busy": "2022-06-26T10:02:40.006557Z",
     "iopub.status.idle": "2022-06-26T10:02:40.010391Z",
     "shell.execute_reply": "2022-06-26T10:02:40.009537Z"
    },
    "papermill": {
     "duration": 0.602039,
     "end_time": "2022-06-26T10:02:40.012706",
     "exception": false,
     "start_time": "2022-06-26T10:02:39.410667",
     "status": "completed"
    },
    "tags": []
   },
   "outputs": [],
   "source": [
    "#!pip install pandas==1.3.5"
   ]
  },
  {
   "cell_type": "code",
   "execution_count": 98,
   "id": "2cc11a67",
   "metadata": {
    "execution": {
     "iopub.execute_input": "2022-06-26T10:02:41.267215Z",
     "iopub.status.busy": "2022-06-26T10:02:41.266843Z",
     "iopub.status.idle": "2022-06-26T10:02:41.335575Z",
     "shell.execute_reply": "2022-06-26T10:02:41.334840Z"
    },
    "papermill": {
     "duration": 0.725275,
     "end_time": "2022-06-26T10:02:41.337467",
     "exception": false,
     "start_time": "2022-06-26T10:02:40.612192",
     "status": "completed"
    },
    "tags": []
   },
   "outputs": [],
   "source": [
    "submission.to_csv('./submission.csv', index=False)"
   ]
  }
 ],
 "metadata": {
  "kernelspec": {
   "display_name": "Python 3",
   "language": "python",
   "name": "python3"
  },
  "language_info": {
   "codemirror_mode": {
    "name": "ipython",
    "version": 3
   },
   "file_extension": ".py",
   "mimetype": "text/x-python",
   "name": "python",
   "nbconvert_exporter": "python",
   "pygments_lexer": "ipython3",
   "version": "3.7.12"
  },
  "papermill": {
   "default_parameters": {},
   "duration": 1176.049199,
   "end_time": "2022-06-26T10:02:45.317154",
   "environment_variables": {},
   "exception": null,
   "input_path": "__notebook__.ipynb",
   "output_path": "__notebook__.ipynb",
   "parameters": {},
   "start_time": "2022-06-26T09:43:09.267955",
   "version": "2.3.4"
  }
 },
 "nbformat": 4,
 "nbformat_minor": 5
}
