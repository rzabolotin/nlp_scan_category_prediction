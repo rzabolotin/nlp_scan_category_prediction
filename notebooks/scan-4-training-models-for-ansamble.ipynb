{
 "cells": [
  {
   "cell_type": "markdown",
   "id": "76872bec",
   "metadata": {
    "papermill": {
     "duration": 0.008751,
     "end_time": "2022-06-20T14:24:15.274193",
     "exception": false,
     "start_time": "2022-06-20T14:24:15.265442",
     "status": "completed"
    },
    "tags": []
   },
   "source": [
    "# Ноутбук для обучения моделей transformer\n",
    "\n",
    "Идея обучить три модели на странифицированных фолдах трейна, чтобы сделать потом из них ансамбль"
   ]
  },
  {
   "cell_type": "markdown",
   "id": "6eaec037",
   "metadata": {
    "papermill": {
     "duration": 0.007421,
     "end_time": "2022-06-20T14:24:15.289641",
     "exception": false,
     "start_time": "2022-06-20T14:24:15.282220",
     "status": "completed"
    },
    "tags": []
   },
   "source": [
    "## Подготовка ноутбука"
   ]
  },
  {
   "cell_type": "code",
   "execution_count": 1,
   "id": "85b327ed",
   "metadata": {
    "execution": {
     "iopub.execute_input": "2022-06-20T14:24:15.306479Z",
     "iopub.status.busy": "2022-06-20T14:24:15.305724Z",
     "iopub.status.idle": "2022-06-20T14:24:15.978171Z",
     "shell.execute_reply": "2022-06-20T14:24:15.977178Z"
    },
    "papermill": {
     "duration": 0.683442,
     "end_time": "2022-06-20T14:24:15.980339",
     "exception": false,
     "start_time": "2022-06-20T14:24:15.296897",
     "status": "completed"
    },
    "tags": []
   },
   "outputs": [
    {
     "name": "stdout",
     "output_type": "stream",
     "text": [
      "GPU 0: Tesla P100-PCIE-16GB (UUID: GPU-bd73484b-7a93-5bb0-5769-9756e5d8fb5d)\r\n"
     ]
    }
   ],
   "source": [
    "!nvidia-smi -L"
   ]
  },
  {
   "cell_type": "code",
   "execution_count": 2,
   "id": "2562dfef",
   "metadata": {
    "_kg_hide-output": true,
    "execution": {
     "iopub.execute_input": "2022-06-20T14:24:15.997275Z",
     "iopub.status.busy": "2022-06-20T14:24:15.996929Z",
     "iopub.status.idle": "2022-06-20T14:24:38.586969Z",
     "shell.execute_reply": "2022-06-20T14:24:38.585913Z"
    },
    "papermill": {
     "duration": 22.600599,
     "end_time": "2022-06-20T14:24:38.589071",
     "exception": false,
     "start_time": "2022-06-20T14:24:15.988472",
     "status": "completed"
    },
    "tags": []
   },
   "outputs": [],
   "source": [
    "%%capture dev_null\n",
    "!pip install transformers\n",
    "!pip install GPUtil"
   ]
  },
  {
   "cell_type": "code",
   "execution_count": 3,
   "id": "34945471",
   "metadata": {
    "_cell_guid": "b1076dfc-b9ad-4769-8c92-a6c4dae69d19",
    "_uuid": "8f2839f25d086af736a60e9eeb907d3b93b6e0e5",
    "execution": {
     "iopub.execute_input": "2022-06-20T14:24:38.605518Z",
     "iopub.status.busy": "2022-06-20T14:24:38.605213Z",
     "iopub.status.idle": "2022-06-20T14:24:45.526770Z",
     "shell.execute_reply": "2022-06-20T14:24:45.525951Z"
    },
    "papermill": {
     "duration": 6.932115,
     "end_time": "2022-06-20T14:24:45.528847",
     "exception": false,
     "start_time": "2022-06-20T14:24:38.596732",
     "status": "completed"
    },
    "tags": []
   },
   "outputs": [],
   "source": [
    "import os\n",
    "\n",
    "# For data manipulation\n",
    "import numpy as np\n",
    "import pandas as pd\n",
    "import warnings\n",
    "import pickle\n",
    "\n",
    "from sklearn.model_selection import StratifiedKFold\n",
    "from sklearn.preprocessing import LabelEncoder\n",
    "\n",
    "import matplotlib.pyplot as plt\n",
    "from pylab import rcParams\n",
    "\n",
    "import torch\n",
    "import torch.nn as nn\n",
    "\n",
    "# For Transformer Models\n",
    "from transformers import (\n",
    "    AdamW,\n",
    "    AutoTokenizer, \n",
    "    AutoModelForSequenceClassification, \n",
    "    DataCollatorForLanguageModeling, \n",
    "    get_scheduler,\n",
    "    Trainer, \n",
    "    TrainingArguments\n",
    ")\n",
    "\n",
    "from tqdm.auto import tqdm\n",
    "import gc\n",
    "from GPUtil import showUtilization as gpu_usage"
   ]
  },
  {
   "cell_type": "code",
   "execution_count": 4,
   "id": "d85fed19",
   "metadata": {
    "execution": {
     "iopub.execute_input": "2022-06-20T14:24:45.546344Z",
     "iopub.status.busy": "2022-06-20T14:24:45.545777Z",
     "iopub.status.idle": "2022-06-20T14:24:45.563241Z",
     "shell.execute_reply": "2022-06-20T14:24:45.562502Z"
    },
    "papermill": {
     "duration": 0.028015,
     "end_time": "2022-06-20T14:24:45.565154",
     "exception": false,
     "start_time": "2022-06-20T14:24:45.537139",
     "status": "completed"
    },
    "tags": []
   },
   "outputs": [],
   "source": [
    "warnings.filterwarnings('ignore')\n",
    "\n",
    "rcParams['figure.figsize'] = 10, 5\n",
    "\n",
    "%config InlineBackend.figure_format = 'svg' \n",
    "%matplotlib inline\n"
   ]
  },
  {
   "cell_type": "markdown",
   "id": "29bdc757",
   "metadata": {
    "papermill": {
     "duration": 0.007228,
     "end_time": "2022-06-20T14:24:45.580046",
     "exception": false,
     "start_time": "2022-06-20T14:24:45.572818",
     "status": "completed"
    },
    "tags": []
   },
   "source": [
    "## Настройки ноутбука\n",
    "\n",
    "Здесь описываю настройки модели и параметры обучения"
   ]
  },
  {
   "cell_type": "code",
   "execution_count": 5,
   "id": "457f885b",
   "metadata": {
    "execution": {
     "iopub.execute_input": "2022-06-20T14:24:45.596261Z",
     "iopub.status.busy": "2022-06-20T14:24:45.595655Z",
     "iopub.status.idle": "2022-06-20T14:24:45.603504Z",
     "shell.execute_reply": "2022-06-20T14:24:45.602826Z"
    },
    "papermill": {
     "duration": 0.01802,
     "end_time": "2022-06-20T14:24:45.605401",
     "exception": false,
     "start_time": "2022-06-20T14:24:45.587381",
     "status": "completed"
    },
    "tags": []
   },
   "outputs": [],
   "source": [
    "MODEL_NAME = \"sberbank-ai/sbert_large_nlu_ru\"\n",
    "\n",
    "DATA_PATH = \"/kaggle/input/scan-classification-challange/\"\n",
    "MODEL_PATH = \"trained-models/\"\n",
    "ENCODER_PATH = \"label_encoder.pkl\"\n",
    "\n",
    "RANDOM_STATE = 13\n",
    "BATCH_SIZE = 32\n",
    "NUM_WORKERS = 2\n",
    "MAX_LEN = 100\n",
    "NUM_EPOCHS = 5\n",
    "NUM_FOLDS = 1\n",
    "\n",
    "DEBUG = False\n",
    "\n",
    "torch.manual_seed(RANDOM_STATE);\n",
    "if DEBUG:\n",
    "    os.environ[\"CUDA_LAUNCH_BLOCKING\"] = \"1\"\n",
    "    \n",
    "if not os.path.exists(MODEL_PATH):\n",
    "    os.makedirs(MODEL_PATH)"
   ]
  },
  {
   "cell_type": "markdown",
   "id": "e5baf28c",
   "metadata": {
    "papermill": {
     "duration": 0.007469,
     "end_time": "2022-06-20T14:24:45.620333",
     "exception": false,
     "start_time": "2022-06-20T14:24:45.612864",
     "status": "completed"
    },
    "tags": []
   },
   "source": [
    "## Подготваливаем обучающие наборы"
   ]
  },
  {
   "cell_type": "code",
   "execution_count": 6,
   "id": "a4aa18fe",
   "metadata": {
    "execution": {
     "iopub.execute_input": "2022-06-20T14:24:45.637619Z",
     "iopub.status.busy": "2022-06-20T14:24:45.636750Z",
     "iopub.status.idle": "2022-06-20T14:24:46.706416Z",
     "shell.execute_reply": "2022-06-20T14:24:46.705556Z"
    },
    "papermill": {
     "duration": 1.080618,
     "end_time": "2022-06-20T14:24:46.708522",
     "exception": false,
     "start_time": "2022-06-20T14:24:45.627904",
     "status": "completed"
    },
    "tags": []
   },
   "outputs": [],
   "source": [
    "train = pd.read_csv(DATA_PATH+'df_train.csv',)\n",
    "test = pd.read_csv(DATA_PATH+'df_test.csv',)\n"
   ]
  },
  {
   "cell_type": "code",
   "execution_count": 7,
   "id": "1ef5412b",
   "metadata": {
    "execution": {
     "iopub.execute_input": "2022-06-20T14:24:46.725694Z",
     "iopub.status.busy": "2022-06-20T14:24:46.725029Z",
     "iopub.status.idle": "2022-06-20T14:24:46.737267Z",
     "shell.execute_reply": "2022-06-20T14:24:46.736393Z"
    },
    "papermill": {
     "duration": 0.022302,
     "end_time": "2022-06-20T14:24:46.738936",
     "exception": false,
     "start_time": "2022-06-20T14:24:46.716634",
     "status": "completed"
    },
    "tags": []
   },
   "outputs": [],
   "source": [
    "if os.path.exists(ENCODER_PATH):\n",
    "    with open(ENCODER_PATH, \"rb\") as file_pickle:\n",
    "        label_encoder = pickle.load(file_pickle)\n",
    "else:\n",
    "    label_encoder = LabelEncoder().fit(train[\"class\"])\n",
    "    with open(ENCODER_PATH, \"wb\") as file_pickle:\n",
    "        pickle.dump(label_encoder, file_pickle)"
   ]
  },
  {
   "cell_type": "code",
   "execution_count": 8,
   "id": "4966ba9a",
   "metadata": {
    "execution": {
     "iopub.execute_input": "2022-06-20T14:24:46.754933Z",
     "iopub.status.busy": "2022-06-20T14:24:46.754637Z",
     "iopub.status.idle": "2022-06-20T14:24:46.762449Z",
     "shell.execute_reply": "2022-06-20T14:24:46.761746Z"
    },
    "papermill": {
     "duration": 0.017879,
     "end_time": "2022-06-20T14:24:46.764185",
     "exception": false,
     "start_time": "2022-06-20T14:24:46.746306",
     "status": "completed"
    },
    "tags": []
   },
   "outputs": [
    {
     "data": {
      "text/plain": [
       "(60000, 2)"
      ]
     },
     "execution_count": 8,
     "metadata": {},
     "output_type": "execute_result"
    }
   ],
   "source": [
    "if DEBUG:\n",
    "    valid = train.iloc[400:500]\n",
    "    train = train.iloc[:5000]\n",
    "    test = test.iloc[:100]\n",
    "    \n",
    "train.shape"
   ]
  },
  {
   "cell_type": "markdown",
   "id": "52976bc3",
   "metadata": {
    "papermill": {
     "duration": 0.00726,
     "end_time": "2022-06-20T14:24:46.778853",
     "exception": false,
     "start_time": "2022-06-20T14:24:46.771593",
     "status": "completed"
    },
    "tags": []
   },
   "source": [
    "## Класс помощник"
   ]
  },
  {
   "cell_type": "code",
   "execution_count": 9,
   "id": "da512c44",
   "metadata": {
    "execution": {
     "iopub.execute_input": "2022-06-20T14:24:46.795366Z",
     "iopub.status.busy": "2022-06-20T14:24:46.795069Z",
     "iopub.status.idle": "2022-06-20T14:24:46.820650Z",
     "shell.execute_reply": "2022-06-20T14:24:46.819887Z"
    },
    "papermill": {
     "duration": 0.036061,
     "end_time": "2022-06-20T14:24:46.822379",
     "exception": false,
     "start_time": "2022-06-20T14:24:46.786318",
     "status": "completed"
    },
    "tags": []
   },
   "outputs": [],
   "source": [
    "class ScanClassifier:\n",
    "    def __init__(self, model_name, label_encoder, max_len):\n",
    "        self._model_name = model_name\n",
    "        self._label_encoder = label_encoder\n",
    "        self._tokenizer = AutoTokenizer.from_pretrained(self._model_name)\n",
    "        self._model = AutoModelForSequenceClassification.from_pretrained(\n",
    "            self._model_name,\n",
    "            num_labels=len(self._label_encoder.classes_)\n",
    "        )\n",
    "        self._data_collator = DataCollatorForLanguageModeling(tokenizer=self._tokenizer);\n",
    "        self._max_len = max_len\n",
    "        self._is_trained = False\n",
    "        \n",
    "    def save(self, path):\n",
    "        print(f\"saving model to {path}\")\n",
    "        torch.save(self._model.state_dict(), path)\n",
    "    \n",
    "    def load(self, path):\n",
    "        print(f\"loading model from {path}\")\n",
    "        self._model.load_state_dict(torch.load(path))\n",
    "    \n",
    "    def train(self, train_dataset : pd.DataFrame, valid_dataset : pd.DataFrame, num_epochs=NUM_EPOCHS, batch_size=BATCH_SIZE):\n",
    "        train_data_loader = self._prepare_data_loader(train_dataset, batch_size)\n",
    "        valid_data_loader = self._prepare_data_loader(valid_dataset, batch_size)\n",
    "        \n",
    "        num_training_steps = NUM_EPOCHS * len(train_data_loader)\n",
    "        \n",
    "        optimizer = AdamW(self._model.parameters(), lr=5e-5)\n",
    "        \n",
    "        lr_scheduler = get_scheduler(\n",
    "            \"linear\",\n",
    "            optimizer=optimizer,\n",
    "            num_warmup_steps=0,\n",
    "            num_training_steps=num_training_steps,\n",
    "        )\n",
    "        \n",
    "        device = torch.device(\"cuda\") if torch.cuda.is_available() else torch.device(\"cpu\")\n",
    "        self._model.to(device)\n",
    "        \n",
    "        progress_bar = tqdm(range(num_training_steps))\n",
    "\n",
    "        for epoch in range(NUM_EPOCHS):\n",
    "            self._model.train()\n",
    "            train_loss = 0.0\n",
    "            min_valid_loss = np.inf\n",
    "            for batch in train_data_loader:\n",
    "                batch = {k: v.to(device) for k, v in batch.items()}\n",
    "                outputs = self._model(**batch)\n",
    "                loss = outputs.loss\n",
    "                loss.backward()\n",
    "                optimizer.step()\n",
    "                lr_scheduler.step()\n",
    "                optimizer.zero_grad()\n",
    "                progress_bar.update(1)\n",
    "                train_loss += loss.detach().item()\n",
    "            \n",
    "            valid_loss = 0.0\n",
    "#             self._model.eval()\n",
    "#             for batch in valid_data_loader:\n",
    "#                 batch = {k: v.to(device) for k, v in batch.items()}\n",
    "#                 outputs = self._model(**batch)\n",
    "#                 valid_loss += outputs.loss.detach().item()\n",
    "\n",
    "            print(f'Epoch {epoch+1} \\t\\t Training Loss: {train_loss / len(train_data_loader)} \\t\\t Validation Loss: {valid_loss / len(valid_data_loader)}')\n",
    "#             if min_valid_loss > valid_loss:\n",
    "#                 print(f'Validation Loss Decreased({min_valid_loss:.6f}--->{valid_loss:.6f}) \\t Saving The Model')\n",
    "#                 min_valid_loss = valid_loss\n",
    "                # Saving State Dict\n",
    "                # torch.save(model.state_dict(), 'saved_model.pth')\n",
    "    \n",
    "    \n",
    "    def predict_proba(self, dataset, batch_size=BATCH_SIZE):\n",
    "        self._model.eval()\n",
    "        \n",
    "        data_loader = self._prepare_data_loader(dataset, batch_size, for_train=False)\n",
    "        \n",
    "        device = torch.device(\"cuda\") if torch.cuda.is_available() else torch.device(\"cpu\")\n",
    "        self._model.to(device)\n",
    "        \n",
    "        results = []\n",
    "        for i,batch in enumerate(data_loader):\n",
    "            batch = {k: v.to(device) for k, v in batch.items()}\n",
    "            with torch.no_grad():\n",
    "                outputs = self._model(**batch)\n",
    "\n",
    "            predictions = outputs.logits\n",
    "            results.append(predictions)\n",
    "        \n",
    "        predictions = torch.cat(results,0).cpu().numpy()\n",
    "        \n",
    "        return(predictions)\n",
    "    \n",
    "    def predict(self, dataset, batch_size=BATCH_SIZE):\n",
    "        pred_proba = self.predict_proba(dataset, batch_size=batch_size)\n",
    "        pred_labels = np.argmax(pred_proba,1)\n",
    "        pred_class = self._label_encoder.inverse_transform(pred_labels)\n",
    "        return(pred_class)\n",
    "        \n",
    "    def _prepare_data_loader(self, dataset, batch_size, for_train=True):\n",
    "        if for_train:\n",
    "            labels = self._label_encoder.transform(dataset[\"class\"])\n",
    "        else:\n",
    "            labels = np.zeros(dataset.shape[0])\n",
    "        \n",
    "        torch_dataset = Dataset(\n",
    "            text=dataset.text.values, \n",
    "            target=labels, \n",
    "            tokenizer=self._tokenizer, \n",
    "            max_len=self._max_len,\n",
    "            num_labels=len(self._label_encoder.classes_)\n",
    "        )\n",
    "\n",
    "        data_loader = torch.utils.data.DataLoader(\n",
    "            torch_dataset, \n",
    "            batch_size=batch_size,\n",
    "            shuffle=for_train,\n",
    "            num_workers=NUM_WORKERS\n",
    "        )\n",
    "        \n",
    "        return data_loader\n",
    "\n",
    "        \n",
    "class Dataset:\n",
    "    def __init__(self, text, target, tokenizer, max_len, num_labels):\n",
    "        self.text = text\n",
    "        self.target = target\n",
    "        self.tokenizer = tokenizer\n",
    "        self.max_len = max_len\n",
    "\n",
    "\n",
    "    def __len__(self):\n",
    "        return len(self.text)\n",
    "\n",
    "    def __getitem__(self, item):\n",
    "        text = str(self.text[item])\n",
    "        inputs = self.tokenizer(\n",
    "            text, \n",
    "            max_length=self.max_len, \n",
    "            padding=\"max_length\", \n",
    "            truncation=True\n",
    "        )\n",
    "\n",
    "        ids = inputs[\"input_ids\"]\n",
    "        mask = inputs[\"attention_mask\"]\n",
    "        target = self.target[item]\n",
    "\n",
    "        return {\n",
    "            \"input_ids\": torch.tensor(ids, dtype=torch.long),\n",
    "            \"attention_mask\": torch.tensor(mask, dtype=torch.long),\n",
    "            \"labels\": torch.tensor(target, dtype=torch.long)\n",
    "        }\n",
    "        \n"
   ]
  },
  {
   "cell_type": "code",
   "execution_count": 10,
   "id": "c5beae90",
   "metadata": {
    "execution": {
     "iopub.execute_input": "2022-06-20T14:24:46.838663Z",
     "iopub.status.busy": "2022-06-20T14:24:46.838378Z",
     "iopub.status.idle": "2022-06-20T14:24:46.871841Z",
     "shell.execute_reply": "2022-06-20T14:24:46.870522Z"
    },
    "papermill": {
     "duration": 0.043715,
     "end_time": "2022-06-20T14:24:46.873779",
     "exception": false,
     "start_time": "2022-06-20T14:24:46.830064",
     "status": "completed"
    },
    "tags": []
   },
   "outputs": [
    {
     "name": "stdout",
     "output_type": "stream",
     "text": [
      "| ID | GPU | MEM |\n",
      "------------------\n",
      "|  0 |  0% |  0% |\n"
     ]
    }
   ],
   "source": [
    "gpu_usage()    "
   ]
  },
  {
   "cell_type": "code",
   "execution_count": 11,
   "id": "a16b4534",
   "metadata": {
    "execution": {
     "iopub.execute_input": "2022-06-20T14:24:46.890654Z",
     "iopub.status.busy": "2022-06-20T14:24:46.890322Z",
     "iopub.status.idle": "2022-06-20T14:24:46.894203Z",
     "shell.execute_reply": "2022-06-20T14:24:46.893341Z"
    },
    "papermill": {
     "duration": 0.014476,
     "end_time": "2022-06-20T14:24:46.896113",
     "exception": false,
     "start_time": "2022-06-20T14:24:46.881637",
     "status": "completed"
    },
    "tags": []
   },
   "outputs": [],
   "source": [
    "# del model\n",
    "# gc.collect()\n",
    "# torch.cuda.empty_cache()"
   ]
  },
  {
   "cell_type": "code",
   "execution_count": 12,
   "id": "2520a90b",
   "metadata": {
    "execution": {
     "iopub.execute_input": "2022-06-20T14:24:46.912822Z",
     "iopub.status.busy": "2022-06-20T14:24:46.912522Z",
     "iopub.status.idle": "2022-06-20T14:24:47.133765Z",
     "shell.execute_reply": "2022-06-20T14:24:47.132940Z"
    },
    "papermill": {
     "duration": 0.23169,
     "end_time": "2022-06-20T14:24:47.135509",
     "exception": false,
     "start_time": "2022-06-20T14:24:46.903819",
     "status": "completed"
    },
    "tags": []
   },
   "outputs": [],
   "source": [
    "gc.collect()\n",
    "torch.cuda.empty_cache()"
   ]
  },
  {
   "cell_type": "code",
   "execution_count": 13,
   "id": "4ee23447",
   "metadata": {
    "execution": {
     "iopub.execute_input": "2022-06-20T14:24:47.153135Z",
     "iopub.status.busy": "2022-06-20T14:24:47.152749Z",
     "iopub.status.idle": "2022-06-20T14:24:47.185077Z",
     "shell.execute_reply": "2022-06-20T14:24:47.183784Z"
    },
    "papermill": {
     "duration": 0.043782,
     "end_time": "2022-06-20T14:24:47.187475",
     "exception": false,
     "start_time": "2022-06-20T14:24:47.143693",
     "status": "completed"
    },
    "tags": []
   },
   "outputs": [
    {
     "name": "stdout",
     "output_type": "stream",
     "text": [
      "| ID | GPU | MEM |\n",
      "------------------\n",
      "|  0 |  0% |  0% |\n"
     ]
    }
   ],
   "source": [
    "gpu_usage()   "
   ]
  },
  {
   "cell_type": "code",
   "execution_count": null,
   "id": "c7e7a3d7",
   "metadata": {
    "papermill": {
     "duration": 0.0075,
     "end_time": "2022-06-20T14:24:47.203170",
     "exception": false,
     "start_time": "2022-06-20T14:24:47.195670",
     "status": "completed"
    },
    "tags": []
   },
   "outputs": [],
   "source": []
  },
  {
   "cell_type": "code",
   "execution_count": 14,
   "id": "00d00214",
   "metadata": {
    "execution": {
     "iopub.execute_input": "2022-06-20T14:24:47.220403Z",
     "iopub.status.busy": "2022-06-20T14:24:47.220050Z",
     "iopub.status.idle": "2022-06-20T14:24:47.224137Z",
     "shell.execute_reply": "2022-06-20T14:24:47.223392Z"
    },
    "papermill": {
     "duration": 0.014965,
     "end_time": "2022-06-20T14:24:47.225778",
     "exception": false,
     "start_time": "2022-06-20T14:24:47.210813",
     "status": "completed"
    },
    "tags": []
   },
   "outputs": [],
   "source": [
    "# skf = StratifiedKFold(n_splits=NUM_FOLDS)"
   ]
  },
  {
   "cell_type": "code",
   "execution_count": 15,
   "id": "33ece49b",
   "metadata": {
    "execution": {
     "iopub.execute_input": "2022-06-20T14:24:47.242807Z",
     "iopub.status.busy": "2022-06-20T14:24:47.242107Z",
     "iopub.status.idle": "2022-06-20T14:24:47.246225Z",
     "shell.execute_reply": "2022-06-20T14:24:47.245383Z"
    },
    "papermill": {
     "duration": 0.014439,
     "end_time": "2022-06-20T14:24:47.247899",
     "exception": false,
     "start_time": "2022-06-20T14:24:47.233460",
     "status": "completed"
    },
    "tags": []
   },
   "outputs": [],
   "source": [
    "# for i, (train_index, valid_index) in enumerate(skf.split(train, train[\"class\"])):\n",
    "#     model = ScanClassifier(\n",
    "#         model_name=MODEL_NAME, \n",
    "#         label_encoder=label_encoder,\n",
    "#         max_len=MAX_LEN\n",
    "#     )\n",
    "    \n",
    "#     model.train(\n",
    "#         train_dataset=train.iloc[train_index],\n",
    "#         valid_dataset=train.iloc[valid_index],\n",
    "#     )\n",
    "    \n",
    "#     test[\"pred\"] = model.predict(test)\n",
    "#     display(test.head())\n",
    "    \n",
    "# #     model_path = f\"{MODEL_PATH}model_{i}_fold.h5\"\n",
    "#     model.save(model_path)\n",
    "    \n",
    "    \n"
   ]
  },
  {
   "cell_type": "code",
   "execution_count": 16,
   "id": "0490100c",
   "metadata": {
    "execution": {
     "iopub.execute_input": "2022-06-20T14:24:47.264882Z",
     "iopub.status.busy": "2022-06-20T14:24:47.264080Z",
     "iopub.status.idle": "2022-06-20T16:56:44.424079Z",
     "shell.execute_reply": "2022-06-20T16:56:44.422588Z"
    },
    "papermill": {
     "duration": 9117.172272,
     "end_time": "2022-06-20T16:56:44.427875",
     "exception": false,
     "start_time": "2022-06-20T14:24:47.255603",
     "status": "completed"
    },
    "tags": []
   },
   "outputs": [
    {
     "data": {
      "application/vnd.jupyter.widget-view+json": {
       "model_id": "bc6e60d6418d4a11bbd04443fc26121d",
       "version_major": 2,
       "version_minor": 0
      },
      "text/plain": [
       "Downloading:   0%|          | 0.00/323 [00:00<?, ?B/s]"
      ]
     },
     "metadata": {},
     "output_type": "display_data"
    },
    {
     "data": {
      "application/vnd.jupyter.widget-view+json": {
       "model_id": "c36e99a0dcb24f0b98cce0dc0a8435a0",
       "version_major": 2,
       "version_minor": 0
      },
      "text/plain": [
       "Downloading:   0%|          | 0.00/655 [00:00<?, ?B/s]"
      ]
     },
     "metadata": {},
     "output_type": "display_data"
    },
    {
     "data": {
      "application/vnd.jupyter.widget-view+json": {
       "model_id": "3b3b08c9bb7e49b69c470693d68c1896",
       "version_major": 2,
       "version_minor": 0
      },
      "text/plain": [
       "Downloading:   0%|          | 0.00/1.70M [00:00<?, ?B/s]"
      ]
     },
     "metadata": {},
     "output_type": "display_data"
    },
    {
     "data": {
      "application/vnd.jupyter.widget-view+json": {
       "model_id": "a5de8644c7dc40d98fac2cfa0c4d1e2f",
       "version_major": 2,
       "version_minor": 0
      },
      "text/plain": [
       "Downloading:   0%|          | 0.00/112 [00:00<?, ?B/s]"
      ]
     },
     "metadata": {},
     "output_type": "display_data"
    },
    {
     "data": {
      "application/vnd.jupyter.widget-view+json": {
       "model_id": "2efffc8aebdc4a14ad917945726b4058",
       "version_major": 2,
       "version_minor": 0
      },
      "text/plain": [
       "Downloading:   0%|          | 0.00/1.59G [00:00<?, ?B/s]"
      ]
     },
     "metadata": {},
     "output_type": "display_data"
    },
    {
     "name": "stderr",
     "output_type": "stream",
     "text": [
      "Some weights of BertForSequenceClassification were not initialized from the model checkpoint at sberbank-ai/sbert_large_nlu_ru and are newly initialized: ['classifier.bias', 'classifier.weight']\n",
      "You should probably TRAIN this model on a down-stream task to be able to use it for predictions and inference.\n"
     ]
    },
    {
     "data": {
      "application/vnd.jupyter.widget-view+json": {
       "model_id": "690d3173841d462884f99b3b3084bce9",
       "version_major": 2,
       "version_minor": 0
      },
      "text/plain": [
       "  0%|          | 0/9375 [00:00<?, ?it/s]"
      ]
     },
     "metadata": {},
     "output_type": "display_data"
    },
    {
     "name": "stdout",
     "output_type": "stream",
     "text": [
      "Epoch 1 \t\t Training Loss: 0.3989200198630492 \t\t Validation Loss: 0.0\n",
      "Epoch 2 \t\t Training Loss: 0.1913813027198116 \t\t Validation Loss: 0.0\n",
      "Epoch 3 \t\t Training Loss: 0.1305583148173988 \t\t Validation Loss: 0.0\n",
      "Epoch 4 \t\t Training Loss: 0.09981405398802211 \t\t Validation Loss: 0.0\n",
      "Epoch 5 \t\t Training Loss: 0.06161518390754548 \t\t Validation Loss: 0.0\n",
      "saving model to trained-models/model_overall.h5\n"
     ]
    }
   ],
   "source": [
    "model = ScanClassifier(\n",
    "        model_name=MODEL_NAME, \n",
    "        label_encoder=label_encoder,\n",
    "        max_len=MAX_LEN\n",
    "    )\n",
    "model.train(train,train.iloc[0:1])\n",
    "\n",
    "model_path = f\"{MODEL_PATH}model_overall.h5\"\n",
    "model.save(model_path)"
   ]
  },
  {
   "cell_type": "code",
   "execution_count": 17,
   "id": "fb0b93c8",
   "metadata": {
    "execution": {
     "iopub.execute_input": "2022-06-20T16:56:44.518959Z",
     "iopub.status.busy": "2022-06-20T16:56:44.517875Z",
     "iopub.status.idle": "2022-06-20T16:56:44.522818Z",
     "shell.execute_reply": "2022-06-20T16:56:44.521945Z"
    },
    "papermill": {
     "duration": 0.060476,
     "end_time": "2022-06-20T16:56:44.524723",
     "exception": false,
     "start_time": "2022-06-20T16:56:44.464247",
     "status": "completed"
    },
    "tags": []
   },
   "outputs": [],
   "source": [
    "# test[\"pred\"] = model.predict(test)"
   ]
  },
  {
   "cell_type": "code",
   "execution_count": 18,
   "id": "54024f22",
   "metadata": {
    "execution": {
     "iopub.execute_input": "2022-06-20T16:56:44.562031Z",
     "iopub.status.busy": "2022-06-20T16:56:44.561420Z",
     "iopub.status.idle": "2022-06-20T16:56:44.567872Z",
     "shell.execute_reply": "2022-06-20T16:56:44.566832Z"
    },
    "papermill": {
     "duration": 0.040399,
     "end_time": "2022-06-20T16:56:44.575122",
     "exception": false,
     "start_time": "2022-06-20T16:56:44.534723",
     "status": "completed"
    },
    "tags": []
   },
   "outputs": [],
   "source": [
    "# test.head()"
   ]
  },
  {
   "cell_type": "code",
   "execution_count": 19,
   "id": "aaf6eaac",
   "metadata": {
    "execution": {
     "iopub.execute_input": "2022-06-20T16:56:44.621051Z",
     "iopub.status.busy": "2022-06-20T16:56:44.620604Z",
     "iopub.status.idle": "2022-06-20T16:56:44.626183Z",
     "shell.execute_reply": "2022-06-20T16:56:44.623646Z"
    },
    "papermill": {
     "duration": 0.032833,
     "end_time": "2022-06-20T16:56:44.628047",
     "exception": false,
     "start_time": "2022-06-20T16:56:44.595214",
     "status": "completed"
    },
    "tags": []
   },
   "outputs": [],
   "source": [
    "# gpu_usage()   "
   ]
  },
  {
   "cell_type": "code",
   "execution_count": 20,
   "id": "c30f8aec",
   "metadata": {
    "execution": {
     "iopub.execute_input": "2022-06-20T16:56:44.649085Z",
     "iopub.status.busy": "2022-06-20T16:56:44.648628Z",
     "iopub.status.idle": "2022-06-20T16:56:44.653782Z",
     "shell.execute_reply": "2022-06-20T16:56:44.652960Z"
    },
    "papermill": {
     "duration": 0.017934,
     "end_time": "2022-06-20T16:56:44.655757",
     "exception": false,
     "start_time": "2022-06-20T16:56:44.637823",
     "status": "completed"
    },
    "tags": []
   },
   "outputs": [],
   "source": [
    "# # del model\n",
    "# gc.collect()\n",
    "# torch.cuda.empty_cache()"
   ]
  },
  {
   "cell_type": "code",
   "execution_count": 21,
   "id": "4c038a4b",
   "metadata": {
    "execution": {
     "iopub.execute_input": "2022-06-20T16:56:44.676313Z",
     "iopub.status.busy": "2022-06-20T16:56:44.675958Z",
     "iopub.status.idle": "2022-06-20T16:56:44.679942Z",
     "shell.execute_reply": "2022-06-20T16:56:44.679046Z"
    },
    "papermill": {
     "duration": 0.016595,
     "end_time": "2022-06-20T16:56:44.682162",
     "exception": false,
     "start_time": "2022-06-20T16:56:44.665567",
     "status": "completed"
    },
    "tags": []
   },
   "outputs": [],
   "source": [
    "# gpu_usage()   "
   ]
  },
  {
   "cell_type": "code",
   "execution_count": 22,
   "id": "ddbda799",
   "metadata": {
    "execution": {
     "iopub.execute_input": "2022-06-20T16:56:44.703217Z",
     "iopub.status.busy": "2022-06-20T16:56:44.702448Z",
     "iopub.status.idle": "2022-06-20T16:56:44.709795Z",
     "shell.execute_reply": "2022-06-20T16:56:44.706679Z"
    },
    "papermill": {
     "duration": 0.020147,
     "end_time": "2022-06-20T16:56:44.711755",
     "exception": false,
     "start_time": "2022-06-20T16:56:44.691608",
     "status": "completed"
    },
    "tags": []
   },
   "outputs": [],
   "source": [
    "# model = ScanClassifier(\n",
    "#     model_name=MODEL_NAME, \n",
    "#     label_encoder=label_encoder,\n",
    "#     max_len=100\n",
    "# )"
   ]
  },
  {
   "cell_type": "code",
   "execution_count": 23,
   "id": "6dc4d59f",
   "metadata": {
    "execution": {
     "iopub.execute_input": "2022-06-20T16:56:44.734096Z",
     "iopub.status.busy": "2022-06-20T16:56:44.733771Z",
     "iopub.status.idle": "2022-06-20T16:56:44.737929Z",
     "shell.execute_reply": "2022-06-20T16:56:44.736897Z"
    },
    "papermill": {
     "duration": 0.017086,
     "end_time": "2022-06-20T16:56:44.739898",
     "exception": false,
     "start_time": "2022-06-20T16:56:44.722812",
     "status": "completed"
    },
    "tags": []
   },
   "outputs": [],
   "source": [
    "# model.train(train,valid)"
   ]
  },
  {
   "cell_type": "code",
   "execution_count": 24,
   "id": "5ce4e020",
   "metadata": {
    "execution": {
     "iopub.execute_input": "2022-06-20T16:56:44.760572Z",
     "iopub.status.busy": "2022-06-20T16:56:44.760286Z",
     "iopub.status.idle": "2022-06-20T16:56:44.764149Z",
     "shell.execute_reply": "2022-06-20T16:56:44.763215Z"
    },
    "papermill": {
     "duration": 0.016497,
     "end_time": "2022-06-20T16:56:44.766295",
     "exception": false,
     "start_time": "2022-06-20T16:56:44.749798",
     "status": "completed"
    },
    "tags": []
   },
   "outputs": [],
   "source": [
    "# gpu_usage()   "
   ]
  },
  {
   "cell_type": "code",
   "execution_count": 25,
   "id": "22c7b885",
   "metadata": {
    "execution": {
     "iopub.execute_input": "2022-06-20T16:56:44.787447Z",
     "iopub.status.busy": "2022-06-20T16:56:44.787179Z",
     "iopub.status.idle": "2022-06-20T16:56:44.981568Z",
     "shell.execute_reply": "2022-06-20T16:56:44.980735Z"
    },
    "papermill": {
     "duration": 0.207941,
     "end_time": "2022-06-20T16:56:44.983991",
     "exception": false,
     "start_time": "2022-06-20T16:56:44.776050",
     "status": "completed"
    },
    "tags": []
   },
   "outputs": [],
   "source": [
    "test = pd.read_csv(DATA_PATH+'df_test.csv',)"
   ]
  },
  {
   "cell_type": "code",
   "execution_count": 26,
   "id": "b709db52",
   "metadata": {
    "execution": {
     "iopub.execute_input": "2022-06-20T16:56:45.003727Z",
     "iopub.status.busy": "2022-06-20T16:56:45.003372Z",
     "iopub.status.idle": "2022-06-20T17:02:53.447067Z",
     "shell.execute_reply": "2022-06-20T17:02:53.446076Z"
    },
    "papermill": {
     "duration": 368.456331,
     "end_time": "2022-06-20T17:02:53.449482",
     "exception": false,
     "start_time": "2022-06-20T16:56:44.993151",
     "status": "completed"
    },
    "tags": []
   },
   "outputs": [
    {
     "name": "stdout",
     "output_type": "stream",
     "text": [
      "Predicting for last model\n"
     ]
    }
   ],
   "source": [
    "print(\"Predicting for last model\")\n",
    "\n",
    "pred = model.predict(test)"
   ]
  },
  {
   "cell_type": "code",
   "execution_count": 27,
   "id": "60169820",
   "metadata": {
    "execution": {
     "iopub.execute_input": "2022-06-20T17:02:53.468943Z",
     "iopub.status.busy": "2022-06-20T17:02:53.468613Z",
     "iopub.status.idle": "2022-06-20T17:02:53.553651Z",
     "shell.execute_reply": "2022-06-20T17:02:53.552853Z"
    },
    "papermill": {
     "duration": 0.096484,
     "end_time": "2022-06-20T17:02:53.555267",
     "exception": false,
     "start_time": "2022-06-20T17:02:53.458783",
     "status": "completed"
    },
    "tags": []
   },
   "outputs": [
    {
     "data": {
      "text/html": [
       "<div>\n",
       "<style scoped>\n",
       "    .dataframe tbody tr th:only-of-type {\n",
       "        vertical-align: middle;\n",
       "    }\n",
       "\n",
       "    .dataframe tbody tr th {\n",
       "        vertical-align: top;\n",
       "    }\n",
       "\n",
       "    .dataframe thead th {\n",
       "        text-align: right;\n",
       "    }\n",
       "</style>\n",
       "<table border=\"1\" class=\"dataframe\">\n",
       "  <thead>\n",
       "    <tr style=\"text-align: right;\">\n",
       "      <th></th>\n",
       "      <th>id</th>\n",
       "      <th>class</th>\n",
       "    </tr>\n",
       "  </thead>\n",
       "  <tbody>\n",
       "    <tr>\n",
       "      <th>0</th>\n",
       "      <td>0</td>\n",
       "      <td>O</td>\n",
       "    </tr>\n",
       "    <tr>\n",
       "      <th>1</th>\n",
       "      <td>1</td>\n",
       "      <td>Утечка нефти</td>\n",
       "    </tr>\n",
       "    <tr>\n",
       "      <th>2</th>\n",
       "      <td>2</td>\n",
       "      <td>O</td>\n",
       "    </tr>\n",
       "    <tr>\n",
       "      <th>3</th>\n",
       "      <td>3</td>\n",
       "      <td>O</td>\n",
       "    </tr>\n",
       "    <tr>\n",
       "      <th>4</th>\n",
       "      <td>4</td>\n",
       "      <td>O</td>\n",
       "    </tr>\n",
       "    <tr>\n",
       "      <th>5</th>\n",
       "      <td>5</td>\n",
       "      <td>Утечка нефти</td>\n",
       "    </tr>\n",
       "    <tr>\n",
       "      <th>6</th>\n",
       "      <td>6</td>\n",
       "      <td>O</td>\n",
       "    </tr>\n",
       "    <tr>\n",
       "      <th>7</th>\n",
       "      <td>7</td>\n",
       "      <td>Уголовное обвинение</td>\n",
       "    </tr>\n",
       "    <tr>\n",
       "      <th>8</th>\n",
       "      <td>8</td>\n",
       "      <td>O</td>\n",
       "    </tr>\n",
       "    <tr>\n",
       "      <th>9</th>\n",
       "      <td>9</td>\n",
       "      <td>Экстремизм</td>\n",
       "    </tr>\n",
       "    <tr>\n",
       "      <th>10</th>\n",
       "      <td>10</td>\n",
       "      <td>O</td>\n",
       "    </tr>\n",
       "    <tr>\n",
       "      <th>11</th>\n",
       "      <td>11</td>\n",
       "      <td>O</td>\n",
       "    </tr>\n",
       "    <tr>\n",
       "      <th>12</th>\n",
       "      <td>12</td>\n",
       "      <td>O</td>\n",
       "    </tr>\n",
       "    <tr>\n",
       "      <th>13</th>\n",
       "      <td>13</td>\n",
       "      <td>O</td>\n",
       "    </tr>\n",
       "    <tr>\n",
       "      <th>14</th>\n",
       "      <td>14</td>\n",
       "      <td>O</td>\n",
       "    </tr>\n",
       "    <tr>\n",
       "      <th>15</th>\n",
       "      <td>15</td>\n",
       "      <td>O</td>\n",
       "    </tr>\n",
       "    <tr>\n",
       "      <th>16</th>\n",
       "      <td>16</td>\n",
       "      <td>O</td>\n",
       "    </tr>\n",
       "    <tr>\n",
       "      <th>17</th>\n",
       "      <td>17</td>\n",
       "      <td>O</td>\n",
       "    </tr>\n",
       "    <tr>\n",
       "      <th>18</th>\n",
       "      <td>18</td>\n",
       "      <td>O</td>\n",
       "    </tr>\n",
       "    <tr>\n",
       "      <th>19</th>\n",
       "      <td>19</td>\n",
       "      <td>O</td>\n",
       "    </tr>\n",
       "  </tbody>\n",
       "</table>\n",
       "</div>"
      ],
      "text/plain": [
       "    id                class\n",
       "0    0                    O\n",
       "1    1         Утечка нефти\n",
       "2    2                    O\n",
       "3    3                    O\n",
       "4    4                    O\n",
       "5    5         Утечка нефти\n",
       "6    6                    O\n",
       "7    7  Уголовное обвинение\n",
       "8    8                    O\n",
       "9    9           Экстремизм\n",
       "10  10                    O\n",
       "11  11                    O\n",
       "12  12                    O\n",
       "13  13                    O\n",
       "14  14                    O\n",
       "15  15                    O\n",
       "16  16                    O\n",
       "17  17                    O\n",
       "18  18                    O\n",
       "19  19                    O"
      ]
     },
     "execution_count": 27,
     "metadata": {},
     "output_type": "execute_result"
    }
   ],
   "source": [
    "submission = pd.DataFrame({'id':range(pred.shape[0]),\n",
    "                           'class':pred},\n",
    "                          columns=['id', 'class'])\n",
    "submission.to_csv('submission.csv', index=False)\n",
    "submission.head(20)"
   ]
  },
  {
   "cell_type": "code",
   "execution_count": null,
   "id": "87e439a3",
   "metadata": {
    "papermill": {
     "duration": 0.008697,
     "end_time": "2022-06-20T17:02:53.573116",
     "exception": false,
     "start_time": "2022-06-20T17:02:53.564419",
     "status": "completed"
    },
    "tags": []
   },
   "outputs": [],
   "source": []
  }
 ],
 "metadata": {
  "kernelspec": {
   "display_name": "Python 3",
   "language": "python",
   "name": "python3"
  },
  "language_info": {
   "codemirror_mode": {
    "name": "ipython",
    "version": 3
   },
   "file_extension": ".py",
   "mimetype": "text/x-python",
   "name": "python",
   "nbconvert_exporter": "python",
   "pygments_lexer": "ipython3",
   "version": "3.7.12"
  },
  "papermill": {
   "default_parameters": {},
   "duration": 9529.931591,
   "end_time": "2022-06-20T17:02:56.955391",
   "environment_variables": {},
   "exception": null,
   "input_path": "__notebook__.ipynb",
   "output_path": "__notebook__.ipynb",
   "parameters": {},
   "start_time": "2022-06-20T14:24:07.023800",
   "version": "2.3.4"
  },
  "widgets": {
   "application/vnd.jupyter.widget-state+json": {
    "state": {
     "07d718f4c30547adb6351f0cac4b1c4f": {
      "model_module": "@jupyter-widgets/base",
      "model_module_version": "1.2.0",
      "model_name": "LayoutModel",
      "state": {
       "_model_module": "@jupyter-widgets/base",
       "_model_module_version": "1.2.0",
       "_model_name": "LayoutModel",
       "_view_count": null,
       "_view_module": "@jupyter-widgets/base",
       "_view_module_version": "1.2.0",
       "_view_name": "LayoutView",
       "align_content": null,
       "align_items": null,
       "align_self": null,
       "border": null,
       "bottom": null,
       "display": null,
       "flex": null,
       "flex_flow": null,
       "grid_area": null,
       "grid_auto_columns": null,
       "grid_auto_flow": null,
       "grid_auto_rows": null,
       "grid_column": null,
       "grid_gap": null,
       "grid_row": null,
       "grid_template_areas": null,
       "grid_template_columns": null,
       "grid_template_rows": null,
       "height": null,
       "justify_content": null,
       "justify_items": null,
       "left": null,
       "margin": null,
       "max_height": null,
       "max_width": null,
       "min_height": null,
       "min_width": null,
       "object_fit": null,
       "object_position": null,
       "order": null,
       "overflow": null,
       "overflow_x": null,
       "overflow_y": null,
       "padding": null,
       "right": null,
       "top": null,
       "visibility": null,
       "width": null
      }
     },
     "085e3b0fd7794b2ea422d3e49dc699ec": {
      "model_module": "@jupyter-widgets/controls",
      "model_module_version": "1.5.0",
      "model_name": "HTMLModel",
      "state": {
       "_dom_classes": [],
       "_model_module": "@jupyter-widgets/controls",
       "_model_module_version": "1.5.0",
       "_model_name": "HTMLModel",
       "_view_count": null,
       "_view_module": "@jupyter-widgets/controls",
       "_view_module_version": "1.5.0",
       "_view_name": "HTMLView",
       "description": "",
       "description_tooltip": null,
       "layout": "IPY_MODEL_09fb0cd314a84ea0960a3cbeb3498632",
       "placeholder": "​",
       "style": "IPY_MODEL_81fce0ed1f6c47a7acf94649a2794dea",
       "value": " 323/323 [00:00&lt;00:00, 11.8kB/s]"
      }
     },
     "09fb0cd314a84ea0960a3cbeb3498632": {
      "model_module": "@jupyter-widgets/base",
      "model_module_version": "1.2.0",
      "model_name": "LayoutModel",
      "state": {
       "_model_module": "@jupyter-widgets/base",
       "_model_module_version": "1.2.0",
       "_model_name": "LayoutModel",
       "_view_count": null,
       "_view_module": "@jupyter-widgets/base",
       "_view_module_version": "1.2.0",
       "_view_name": "LayoutView",
       "align_content": null,
       "align_items": null,
       "align_self": null,
       "border": null,
       "bottom": null,
       "display": null,
       "flex": null,
       "flex_flow": null,
       "grid_area": null,
       "grid_auto_columns": null,
       "grid_auto_flow": null,
       "grid_auto_rows": null,
       "grid_column": null,
       "grid_gap": null,
       "grid_row": null,
       "grid_template_areas": null,
       "grid_template_columns": null,
       "grid_template_rows": null,
       "height": null,
       "justify_content": null,
       "justify_items": null,
       "left": null,
       "margin": null,
       "max_height": null,
       "max_width": null,
       "min_height": null,
       "min_width": null,
       "object_fit": null,
       "object_position": null,
       "order": null,
       "overflow": null,
       "overflow_x": null,
       "overflow_y": null,
       "padding": null,
       "right": null,
       "top": null,
       "visibility": null,
       "width": null
      }
     },
     "17c1baa71b3d4604b54b3da2c51ab323": {
      "model_module": "@jupyter-widgets/controls",
      "model_module_version": "1.5.0",
      "model_name": "ProgressStyleModel",
      "state": {
       "_model_module": "@jupyter-widgets/controls",
       "_model_module_version": "1.5.0",
       "_model_name": "ProgressStyleModel",
       "_view_count": null,
       "_view_module": "@jupyter-widgets/base",
       "_view_module_version": "1.2.0",
       "_view_name": "StyleView",
       "bar_color": null,
       "description_width": ""
      }
     },
     "190abefbe8014e3d8c52518a704813e6": {
      "model_module": "@jupyter-widgets/base",
      "model_module_version": "1.2.0",
      "model_name": "LayoutModel",
      "state": {
       "_model_module": "@jupyter-widgets/base",
       "_model_module_version": "1.2.0",
       "_model_name": "LayoutModel",
       "_view_count": null,
       "_view_module": "@jupyter-widgets/base",
       "_view_module_version": "1.2.0",
       "_view_name": "LayoutView",
       "align_content": null,
       "align_items": null,
       "align_self": null,
       "border": null,
       "bottom": null,
       "display": null,
       "flex": null,
       "flex_flow": null,
       "grid_area": null,
       "grid_auto_columns": null,
       "grid_auto_flow": null,
       "grid_auto_rows": null,
       "grid_column": null,
       "grid_gap": null,
       "grid_row": null,
       "grid_template_areas": null,
       "grid_template_columns": null,
       "grid_template_rows": null,
       "height": null,
       "justify_content": null,
       "justify_items": null,
       "left": null,
       "margin": null,
       "max_height": null,
       "max_width": null,
       "min_height": null,
       "min_width": null,
       "object_fit": null,
       "object_position": null,
       "order": null,
       "overflow": null,
       "overflow_x": null,
       "overflow_y": null,
       "padding": null,
       "right": null,
       "top": null,
       "visibility": null,
       "width": null
      }
     },
     "20812bc342054d329d188af9aaf35b17": {
      "model_module": "@jupyter-widgets/base",
      "model_module_version": "1.2.0",
      "model_name": "LayoutModel",
      "state": {
       "_model_module": "@jupyter-widgets/base",
       "_model_module_version": "1.2.0",
       "_model_name": "LayoutModel",
       "_view_count": null,
       "_view_module": "@jupyter-widgets/base",
       "_view_module_version": "1.2.0",
       "_view_name": "LayoutView",
       "align_content": null,
       "align_items": null,
       "align_self": null,
       "border": null,
       "bottom": null,
       "display": null,
       "flex": null,
       "flex_flow": null,
       "grid_area": null,
       "grid_auto_columns": null,
       "grid_auto_flow": null,
       "grid_auto_rows": null,
       "grid_column": null,
       "grid_gap": null,
       "grid_row": null,
       "grid_template_areas": null,
       "grid_template_columns": null,
       "grid_template_rows": null,
       "height": null,
       "justify_content": null,
       "justify_items": null,
       "left": null,
       "margin": null,
       "max_height": null,
       "max_width": null,
       "min_height": null,
       "min_width": null,
       "object_fit": null,
       "object_position": null,
       "order": null,
       "overflow": null,
       "overflow_x": null,
       "overflow_y": null,
       "padding": null,
       "right": null,
       "top": null,
       "visibility": null,
       "width": null
      }
     },
     "21c1a72b9c694268aa038de10b8f2cec": {
      "model_module": "@jupyter-widgets/base",
      "model_module_version": "1.2.0",
      "model_name": "LayoutModel",
      "state": {
       "_model_module": "@jupyter-widgets/base",
       "_model_module_version": "1.2.0",
       "_model_name": "LayoutModel",
       "_view_count": null,
       "_view_module": "@jupyter-widgets/base",
       "_view_module_version": "1.2.0",
       "_view_name": "LayoutView",
       "align_content": null,
       "align_items": null,
       "align_self": null,
       "border": null,
       "bottom": null,
       "display": null,
       "flex": null,
       "flex_flow": null,
       "grid_area": null,
       "grid_auto_columns": null,
       "grid_auto_flow": null,
       "grid_auto_rows": null,
       "grid_column": null,
       "grid_gap": null,
       "grid_row": null,
       "grid_template_areas": null,
       "grid_template_columns": null,
       "grid_template_rows": null,
       "height": null,
       "justify_content": null,
       "justify_items": null,
       "left": null,
       "margin": null,
       "max_height": null,
       "max_width": null,
       "min_height": null,
       "min_width": null,
       "object_fit": null,
       "object_position": null,
       "order": null,
       "overflow": null,
       "overflow_x": null,
       "overflow_y": null,
       "padding": null,
       "right": null,
       "top": null,
       "visibility": null,
       "width": null
      }
     },
     "22b5658d5553453d878c77d074b6e982": {
      "model_module": "@jupyter-widgets/controls",
      "model_module_version": "1.5.0",
      "model_name": "HTMLModel",
      "state": {
       "_dom_classes": [],
       "_model_module": "@jupyter-widgets/controls",
       "_model_module_version": "1.5.0",
       "_model_name": "HTMLModel",
       "_view_count": null,
       "_view_module": "@jupyter-widgets/controls",
       "_view_module_version": "1.5.0",
       "_view_name": "HTMLView",
       "description": "",
       "description_tooltip": null,
       "layout": "IPY_MODEL_ee2ef11e7c6441aabe5ee34156625b3a",
       "placeholder": "​",
       "style": "IPY_MODEL_9a1c2aa431ea4feca348e3dff5114145",
       "value": "Downloading: 100%"
      }
     },
     "25601b7cdcb64358b3c0f3e5feb02573": {
      "model_module": "@jupyter-widgets/controls",
      "model_module_version": "1.5.0",
      "model_name": "HTMLModel",
      "state": {
       "_dom_classes": [],
       "_model_module": "@jupyter-widgets/controls",
       "_model_module_version": "1.5.0",
       "_model_name": "HTMLModel",
       "_view_count": null,
       "_view_module": "@jupyter-widgets/controls",
       "_view_module_version": "1.5.0",
       "_view_name": "HTMLView",
       "description": "",
       "description_tooltip": null,
       "layout": "IPY_MODEL_82ef2e98eb0e4f27898eee8d21310416",
       "placeholder": "​",
       "style": "IPY_MODEL_9d1278253b404fa6a180ca4c4046a98b",
       "value": " 1.59G/1.59G [02:31&lt;00:00, 12.0MB/s]"
      }
     },
     "25edfda8c2d64d67b445c317a4fc598d": {
      "model_module": "@jupyter-widgets/controls",
      "model_module_version": "1.5.0",
      "model_name": "HTMLModel",
      "state": {
       "_dom_classes": [],
       "_model_module": "@jupyter-widgets/controls",
       "_model_module_version": "1.5.0",
       "_model_name": "HTMLModel",
       "_view_count": null,
       "_view_module": "@jupyter-widgets/controls",
       "_view_module_version": "1.5.0",
       "_view_name": "HTMLView",
       "description": "",
       "description_tooltip": null,
       "layout": "IPY_MODEL_badb053840314e64986f0933264422fd",
       "placeholder": "​",
       "style": "IPY_MODEL_2ab4b896a002455db771a8c55fa9b82e",
       "value": "Downloading: 100%"
      }
     },
     "297a27e1f98e4fafbcb8e76756ccf077": {
      "model_module": "@jupyter-widgets/base",
      "model_module_version": "1.2.0",
      "model_name": "LayoutModel",
      "state": {
       "_model_module": "@jupyter-widgets/base",
       "_model_module_version": "1.2.0",
       "_model_name": "LayoutModel",
       "_view_count": null,
       "_view_module": "@jupyter-widgets/base",
       "_view_module_version": "1.2.0",
       "_view_name": "LayoutView",
       "align_content": null,
       "align_items": null,
       "align_self": null,
       "border": null,
       "bottom": null,
       "display": null,
       "flex": null,
       "flex_flow": null,
       "grid_area": null,
       "grid_auto_columns": null,
       "grid_auto_flow": null,
       "grid_auto_rows": null,
       "grid_column": null,
       "grid_gap": null,
       "grid_row": null,
       "grid_template_areas": null,
       "grid_template_columns": null,
       "grid_template_rows": null,
       "height": null,
       "justify_content": null,
       "justify_items": null,
       "left": null,
       "margin": null,
       "max_height": null,
       "max_width": null,
       "min_height": null,
       "min_width": null,
       "object_fit": null,
       "object_position": null,
       "order": null,
       "overflow": null,
       "overflow_x": null,
       "overflow_y": null,
       "padding": null,
       "right": null,
       "top": null,
       "visibility": null,
       "width": null
      }
     },
     "2ab4b896a002455db771a8c55fa9b82e": {
      "model_module": "@jupyter-widgets/controls",
      "model_module_version": "1.5.0",
      "model_name": "DescriptionStyleModel",
      "state": {
       "_model_module": "@jupyter-widgets/controls",
       "_model_module_version": "1.5.0",
       "_model_name": "DescriptionStyleModel",
       "_view_count": null,
       "_view_module": "@jupyter-widgets/base",
       "_view_module_version": "1.2.0",
       "_view_name": "StyleView",
       "description_width": ""
      }
     },
     "2efffc8aebdc4a14ad917945726b4058": {
      "model_module": "@jupyter-widgets/controls",
      "model_module_version": "1.5.0",
      "model_name": "HBoxModel",
      "state": {
       "_dom_classes": [],
       "_model_module": "@jupyter-widgets/controls",
       "_model_module_version": "1.5.0",
       "_model_name": "HBoxModel",
       "_view_count": null,
       "_view_module": "@jupyter-widgets/controls",
       "_view_module_version": "1.5.0",
       "_view_name": "HBoxView",
       "box_style": "",
       "children": [
        "IPY_MODEL_a3d4d17833494e0d902377ad44552511",
        "IPY_MODEL_bd78eb651e534e789cc9ec8ddac4da96",
        "IPY_MODEL_25601b7cdcb64358b3c0f3e5feb02573"
       ],
       "layout": "IPY_MODEL_21c1a72b9c694268aa038de10b8f2cec"
      }
     },
     "30ca1c07ee984f619b149d7475b7c1ff": {
      "model_module": "@jupyter-widgets/base",
      "model_module_version": "1.2.0",
      "model_name": "LayoutModel",
      "state": {
       "_model_module": "@jupyter-widgets/base",
       "_model_module_version": "1.2.0",
       "_model_name": "LayoutModel",
       "_view_count": null,
       "_view_module": "@jupyter-widgets/base",
       "_view_module_version": "1.2.0",
       "_view_name": "LayoutView",
       "align_content": null,
       "align_items": null,
       "align_self": null,
       "border": null,
       "bottom": null,
       "display": null,
       "flex": null,
       "flex_flow": null,
       "grid_area": null,
       "grid_auto_columns": null,
       "grid_auto_flow": null,
       "grid_auto_rows": null,
       "grid_column": null,
       "grid_gap": null,
       "grid_row": null,
       "grid_template_areas": null,
       "grid_template_columns": null,
       "grid_template_rows": null,
       "height": null,
       "justify_content": null,
       "justify_items": null,
       "left": null,
       "margin": null,
       "max_height": null,
       "max_width": null,
       "min_height": null,
       "min_width": null,
       "object_fit": null,
       "object_position": null,
       "order": null,
       "overflow": null,
       "overflow_x": null,
       "overflow_y": null,
       "padding": null,
       "right": null,
       "top": null,
       "visibility": null,
       "width": null
      }
     },
     "322064d4aa4b4a679d4045e306ae7850": {
      "model_module": "@jupyter-widgets/controls",
      "model_module_version": "1.5.0",
      "model_name": "ProgressStyleModel",
      "state": {
       "_model_module": "@jupyter-widgets/controls",
       "_model_module_version": "1.5.0",
       "_model_name": "ProgressStyleModel",
       "_view_count": null,
       "_view_module": "@jupyter-widgets/base",
       "_view_module_version": "1.2.0",
       "_view_name": "StyleView",
       "bar_color": null,
       "description_width": ""
      }
     },
     "3230473b13f1499c997226e96371d5a1": {
      "model_module": "@jupyter-widgets/controls",
      "model_module_version": "1.5.0",
      "model_name": "HTMLModel",
      "state": {
       "_dom_classes": [],
       "_model_module": "@jupyter-widgets/controls",
       "_model_module_version": "1.5.0",
       "_model_name": "HTMLModel",
       "_view_count": null,
       "_view_module": "@jupyter-widgets/controls",
       "_view_module_version": "1.5.0",
       "_view_name": "HTMLView",
       "description": "",
       "description_tooltip": null,
       "layout": "IPY_MODEL_e2f266b316cf438b851d652a37c1e8a7",
       "placeholder": "​",
       "style": "IPY_MODEL_8b07c8dd7e244a41b9d549a5ea88a391",
       "value": " 112/112 [00:00&lt;00:00, 4.25kB/s]"
      }
     },
     "37459d0e73a7455d81640bf5b5a3c93d": {
      "model_module": "@jupyter-widgets/controls",
      "model_module_version": "1.5.0",
      "model_name": "DescriptionStyleModel",
      "state": {
       "_model_module": "@jupyter-widgets/controls",
       "_model_module_version": "1.5.0",
       "_model_name": "DescriptionStyleModel",
       "_view_count": null,
       "_view_module": "@jupyter-widgets/base",
       "_view_module_version": "1.2.0",
       "_view_name": "StyleView",
       "description_width": ""
      }
     },
     "38e61643a8554054901fdf7567d66273": {
      "model_module": "@jupyter-widgets/controls",
      "model_module_version": "1.5.0",
      "model_name": "ProgressStyleModel",
      "state": {
       "_model_module": "@jupyter-widgets/controls",
       "_model_module_version": "1.5.0",
       "_model_name": "ProgressStyleModel",
       "_view_count": null,
       "_view_module": "@jupyter-widgets/base",
       "_view_module_version": "1.2.0",
       "_view_name": "StyleView",
       "bar_color": null,
       "description_width": ""
      }
     },
     "3a3a4381fe0942bdb81a57579f05c2a3": {
      "model_module": "@jupyter-widgets/controls",
      "model_module_version": "1.5.0",
      "model_name": "HTMLModel",
      "state": {
       "_dom_classes": [],
       "_model_module": "@jupyter-widgets/controls",
       "_model_module_version": "1.5.0",
       "_model_name": "HTMLModel",
       "_view_count": null,
       "_view_module": "@jupyter-widgets/controls",
       "_view_module_version": "1.5.0",
       "_view_name": "HTMLView",
       "description": "",
       "description_tooltip": null,
       "layout": "IPY_MODEL_07d718f4c30547adb6351f0cac4b1c4f",
       "placeholder": "​",
       "style": "IPY_MODEL_f9c5e22afd064b87b855403ed5bc2f41",
       "value": " 655/655 [00:00&lt;00:00, 15.9kB/s]"
      }
     },
     "3b3b08c9bb7e49b69c470693d68c1896": {
      "model_module": "@jupyter-widgets/controls",
      "model_module_version": "1.5.0",
      "model_name": "HBoxModel",
      "state": {
       "_dom_classes": [],
       "_model_module": "@jupyter-widgets/controls",
       "_model_module_version": "1.5.0",
       "_model_name": "HBoxModel",
       "_view_count": null,
       "_view_module": "@jupyter-widgets/controls",
       "_view_module_version": "1.5.0",
       "_view_name": "HBoxView",
       "box_style": "",
       "children": [
        "IPY_MODEL_25edfda8c2d64d67b445c317a4fc598d",
        "IPY_MODEL_f85698f546d9492694f64859199f6554",
        "IPY_MODEL_8850ee07ea834d1ba7ef2147dc9c9149"
       ],
       "layout": "IPY_MODEL_87305b1b39db42a3ac8130593564c09e"
      }
     },
     "44322125101b472cb13d20a2392d3a5e": {
      "model_module": "@jupyter-widgets/base",
      "model_module_version": "1.2.0",
      "model_name": "LayoutModel",
      "state": {
       "_model_module": "@jupyter-widgets/base",
       "_model_module_version": "1.2.0",
       "_model_name": "LayoutModel",
       "_view_count": null,
       "_view_module": "@jupyter-widgets/base",
       "_view_module_version": "1.2.0",
       "_view_name": "LayoutView",
       "align_content": null,
       "align_items": null,
       "align_self": null,
       "border": null,
       "bottom": null,
       "display": null,
       "flex": null,
       "flex_flow": null,
       "grid_area": null,
       "grid_auto_columns": null,
       "grid_auto_flow": null,
       "grid_auto_rows": null,
       "grid_column": null,
       "grid_gap": null,
       "grid_row": null,
       "grid_template_areas": null,
       "grid_template_columns": null,
       "grid_template_rows": null,
       "height": null,
       "justify_content": null,
       "justify_items": null,
       "left": null,
       "margin": null,
       "max_height": null,
       "max_width": null,
       "min_height": null,
       "min_width": null,
       "object_fit": null,
       "object_position": null,
       "order": null,
       "overflow": null,
       "overflow_x": null,
       "overflow_y": null,
       "padding": null,
       "right": null,
       "top": null,
       "visibility": null,
       "width": null
      }
     },
     "510fea25eff44521aabcbbe2d2acea48": {
      "model_module": "@jupyter-widgets/controls",
      "model_module_version": "1.5.0",
      "model_name": "DescriptionStyleModel",
      "state": {
       "_model_module": "@jupyter-widgets/controls",
       "_model_module_version": "1.5.0",
       "_model_name": "DescriptionStyleModel",
       "_view_count": null,
       "_view_module": "@jupyter-widgets/base",
       "_view_module_version": "1.2.0",
       "_view_name": "StyleView",
       "description_width": ""
      }
     },
     "690d3173841d462884f99b3b3084bce9": {
      "model_module": "@jupyter-widgets/controls",
      "model_module_version": "1.5.0",
      "model_name": "HBoxModel",
      "state": {
       "_dom_classes": [],
       "_model_module": "@jupyter-widgets/controls",
       "_model_module_version": "1.5.0",
       "_model_name": "HBoxModel",
       "_view_count": null,
       "_view_module": "@jupyter-widgets/controls",
       "_view_module_version": "1.5.0",
       "_view_name": "HBoxView",
       "box_style": "",
       "children": [
        "IPY_MODEL_875ba02573aa4a4b8806cd0cab50d222",
        "IPY_MODEL_a6c01e1646134ed4828a8ec5cde437ab",
        "IPY_MODEL_f55af6dc0a4d4fc78b1b8cfcda651fff"
       ],
       "layout": "IPY_MODEL_c1587392a2d441f8af845e333e5e0dda"
      }
     },
     "69f47897b660485697458c963d20eb2c": {
      "model_module": "@jupyter-widgets/base",
      "model_module_version": "1.2.0",
      "model_name": "LayoutModel",
      "state": {
       "_model_module": "@jupyter-widgets/base",
       "_model_module_version": "1.2.0",
       "_model_name": "LayoutModel",
       "_view_count": null,
       "_view_module": "@jupyter-widgets/base",
       "_view_module_version": "1.2.0",
       "_view_name": "LayoutView",
       "align_content": null,
       "align_items": null,
       "align_self": null,
       "border": null,
       "bottom": null,
       "display": null,
       "flex": null,
       "flex_flow": null,
       "grid_area": null,
       "grid_auto_columns": null,
       "grid_auto_flow": null,
       "grid_auto_rows": null,
       "grid_column": null,
       "grid_gap": null,
       "grid_row": null,
       "grid_template_areas": null,
       "grid_template_columns": null,
       "grid_template_rows": null,
       "height": null,
       "justify_content": null,
       "justify_items": null,
       "left": null,
       "margin": null,
       "max_height": null,
       "max_width": null,
       "min_height": null,
       "min_width": null,
       "object_fit": null,
       "object_position": null,
       "order": null,
       "overflow": null,
       "overflow_x": null,
       "overflow_y": null,
       "padding": null,
       "right": null,
       "top": null,
       "visibility": null,
       "width": null
      }
     },
     "6bfca210625941cf89ff54fd2710dd09": {
      "model_module": "@jupyter-widgets/base",
      "model_module_version": "1.2.0",
      "model_name": "LayoutModel",
      "state": {
       "_model_module": "@jupyter-widgets/base",
       "_model_module_version": "1.2.0",
       "_model_name": "LayoutModel",
       "_view_count": null,
       "_view_module": "@jupyter-widgets/base",
       "_view_module_version": "1.2.0",
       "_view_name": "LayoutView",
       "align_content": null,
       "align_items": null,
       "align_self": null,
       "border": null,
       "bottom": null,
       "display": null,
       "flex": null,
       "flex_flow": null,
       "grid_area": null,
       "grid_auto_columns": null,
       "grid_auto_flow": null,
       "grid_auto_rows": null,
       "grid_column": null,
       "grid_gap": null,
       "grid_row": null,
       "grid_template_areas": null,
       "grid_template_columns": null,
       "grid_template_rows": null,
       "height": null,
       "justify_content": null,
       "justify_items": null,
       "left": null,
       "margin": null,
       "max_height": null,
       "max_width": null,
       "min_height": null,
       "min_width": null,
       "object_fit": null,
       "object_position": null,
       "order": null,
       "overflow": null,
       "overflow_x": null,
       "overflow_y": null,
       "padding": null,
       "right": null,
       "top": null,
       "visibility": null,
       "width": null
      }
     },
     "75972831daec4a66b5de91c7e6e425d2": {
      "model_module": "@jupyter-widgets/controls",
      "model_module_version": "1.5.0",
      "model_name": "ProgressStyleModel",
      "state": {
       "_model_module": "@jupyter-widgets/controls",
       "_model_module_version": "1.5.0",
       "_model_name": "ProgressStyleModel",
       "_view_count": null,
       "_view_module": "@jupyter-widgets/base",
       "_view_module_version": "1.2.0",
       "_view_name": "StyleView",
       "bar_color": null,
       "description_width": ""
      }
     },
     "77daa9f988994ba1aab957a949d5cc96": {
      "model_module": "@jupyter-widgets/controls",
      "model_module_version": "1.5.0",
      "model_name": "ProgressStyleModel",
      "state": {
       "_model_module": "@jupyter-widgets/controls",
       "_model_module_version": "1.5.0",
       "_model_name": "ProgressStyleModel",
       "_view_count": null,
       "_view_module": "@jupyter-widgets/base",
       "_view_module_version": "1.2.0",
       "_view_name": "StyleView",
       "bar_color": null,
       "description_width": ""
      }
     },
     "77f5e3bb6de0419ba271f4c12e905ae8": {
      "model_module": "@jupyter-widgets/controls",
      "model_module_version": "1.5.0",
      "model_name": "DescriptionStyleModel",
      "state": {
       "_model_module": "@jupyter-widgets/controls",
       "_model_module_version": "1.5.0",
       "_model_name": "DescriptionStyleModel",
       "_view_count": null,
       "_view_module": "@jupyter-widgets/base",
       "_view_module_version": "1.2.0",
       "_view_name": "StyleView",
       "description_width": ""
      }
     },
     "81fce0ed1f6c47a7acf94649a2794dea": {
      "model_module": "@jupyter-widgets/controls",
      "model_module_version": "1.5.0",
      "model_name": "DescriptionStyleModel",
      "state": {
       "_model_module": "@jupyter-widgets/controls",
       "_model_module_version": "1.5.0",
       "_model_name": "DescriptionStyleModel",
       "_view_count": null,
       "_view_module": "@jupyter-widgets/base",
       "_view_module_version": "1.2.0",
       "_view_name": "StyleView",
       "description_width": ""
      }
     },
     "82ef2e98eb0e4f27898eee8d21310416": {
      "model_module": "@jupyter-widgets/base",
      "model_module_version": "1.2.0",
      "model_name": "LayoutModel",
      "state": {
       "_model_module": "@jupyter-widgets/base",
       "_model_module_version": "1.2.0",
       "_model_name": "LayoutModel",
       "_view_count": null,
       "_view_module": "@jupyter-widgets/base",
       "_view_module_version": "1.2.0",
       "_view_name": "LayoutView",
       "align_content": null,
       "align_items": null,
       "align_self": null,
       "border": null,
       "bottom": null,
       "display": null,
       "flex": null,
       "flex_flow": null,
       "grid_area": null,
       "grid_auto_columns": null,
       "grid_auto_flow": null,
       "grid_auto_rows": null,
       "grid_column": null,
       "grid_gap": null,
       "grid_row": null,
       "grid_template_areas": null,
       "grid_template_columns": null,
       "grid_template_rows": null,
       "height": null,
       "justify_content": null,
       "justify_items": null,
       "left": null,
       "margin": null,
       "max_height": null,
       "max_width": null,
       "min_height": null,
       "min_width": null,
       "object_fit": null,
       "object_position": null,
       "order": null,
       "overflow": null,
       "overflow_x": null,
       "overflow_y": null,
       "padding": null,
       "right": null,
       "top": null,
       "visibility": null,
       "width": null
      }
     },
     "845f7bccfbb547d0b4d6e18fc1b69424": {
      "model_module": "@jupyter-widgets/controls",
      "model_module_version": "1.5.0",
      "model_name": "DescriptionStyleModel",
      "state": {
       "_model_module": "@jupyter-widgets/controls",
       "_model_module_version": "1.5.0",
       "_model_name": "DescriptionStyleModel",
       "_view_count": null,
       "_view_module": "@jupyter-widgets/base",
       "_view_module_version": "1.2.0",
       "_view_name": "StyleView",
       "description_width": ""
      }
     },
     "87305b1b39db42a3ac8130593564c09e": {
      "model_module": "@jupyter-widgets/base",
      "model_module_version": "1.2.0",
      "model_name": "LayoutModel",
      "state": {
       "_model_module": "@jupyter-widgets/base",
       "_model_module_version": "1.2.0",
       "_model_name": "LayoutModel",
       "_view_count": null,
       "_view_module": "@jupyter-widgets/base",
       "_view_module_version": "1.2.0",
       "_view_name": "LayoutView",
       "align_content": null,
       "align_items": null,
       "align_self": null,
       "border": null,
       "bottom": null,
       "display": null,
       "flex": null,
       "flex_flow": null,
       "grid_area": null,
       "grid_auto_columns": null,
       "grid_auto_flow": null,
       "grid_auto_rows": null,
       "grid_column": null,
       "grid_gap": null,
       "grid_row": null,
       "grid_template_areas": null,
       "grid_template_columns": null,
       "grid_template_rows": null,
       "height": null,
       "justify_content": null,
       "justify_items": null,
       "left": null,
       "margin": null,
       "max_height": null,
       "max_width": null,
       "min_height": null,
       "min_width": null,
       "object_fit": null,
       "object_position": null,
       "order": null,
       "overflow": null,
       "overflow_x": null,
       "overflow_y": null,
       "padding": null,
       "right": null,
       "top": null,
       "visibility": null,
       "width": null
      }
     },
     "875ba02573aa4a4b8806cd0cab50d222": {
      "model_module": "@jupyter-widgets/controls",
      "model_module_version": "1.5.0",
      "model_name": "HTMLModel",
      "state": {
       "_dom_classes": [],
       "_model_module": "@jupyter-widgets/controls",
       "_model_module_version": "1.5.0",
       "_model_name": "HTMLModel",
       "_view_count": null,
       "_view_module": "@jupyter-widgets/controls",
       "_view_module_version": "1.5.0",
       "_view_name": "HTMLView",
       "description": "",
       "description_tooltip": null,
       "layout": "IPY_MODEL_94ff24ad4c144e20902795ca9e6048aa",
       "placeholder": "​",
       "style": "IPY_MODEL_845f7bccfbb547d0b4d6e18fc1b69424",
       "value": "100%"
      }
     },
     "884394d98c5a400ba62f615d40398906": {
      "model_module": "@jupyter-widgets/controls",
      "model_module_version": "1.5.0",
      "model_name": "DescriptionStyleModel",
      "state": {
       "_model_module": "@jupyter-widgets/controls",
       "_model_module_version": "1.5.0",
       "_model_name": "DescriptionStyleModel",
       "_view_count": null,
       "_view_module": "@jupyter-widgets/base",
       "_view_module_version": "1.2.0",
       "_view_name": "StyleView",
       "description_width": ""
      }
     },
     "8850ee07ea834d1ba7ef2147dc9c9149": {
      "model_module": "@jupyter-widgets/controls",
      "model_module_version": "1.5.0",
      "model_name": "HTMLModel",
      "state": {
       "_dom_classes": [],
       "_model_module": "@jupyter-widgets/controls",
       "_model_module_version": "1.5.0",
       "_model_name": "HTMLModel",
       "_view_count": null,
       "_view_module": "@jupyter-widgets/controls",
       "_view_module_version": "1.5.0",
       "_view_name": "HTMLView",
       "description": "",
       "description_tooltip": null,
       "layout": "IPY_MODEL_190abefbe8014e3d8c52518a704813e6",
       "placeholder": "​",
       "style": "IPY_MODEL_884394d98c5a400ba62f615d40398906",
       "value": " 1.70M/1.70M [00:01&lt;00:00, 1.50MB/s]"
      }
     },
     "8ac8b2caee7640ac8ee014e475e86001": {
      "model_module": "@jupyter-widgets/controls",
      "model_module_version": "1.5.0",
      "model_name": "HTMLModel",
      "state": {
       "_dom_classes": [],
       "_model_module": "@jupyter-widgets/controls",
       "_model_module_version": "1.5.0",
       "_model_name": "HTMLModel",
       "_view_count": null,
       "_view_module": "@jupyter-widgets/controls",
       "_view_module_version": "1.5.0",
       "_view_name": "HTMLView",
       "description": "",
       "description_tooltip": null,
       "layout": "IPY_MODEL_cf8410e800854bbeb46ccf1828ca51d8",
       "placeholder": "​",
       "style": "IPY_MODEL_dde1a1907b8a4cc1874781362121f082",
       "value": "Downloading: 100%"
      }
     },
     "8aec7c8d21fc411f8814b06cff8b9e95": {
      "model_module": "@jupyter-widgets/controls",
      "model_module_version": "1.5.0",
      "model_name": "FloatProgressModel",
      "state": {
       "_dom_classes": [],
       "_model_module": "@jupyter-widgets/controls",
       "_model_module_version": "1.5.0",
       "_model_name": "FloatProgressModel",
       "_view_count": null,
       "_view_module": "@jupyter-widgets/controls",
       "_view_module_version": "1.5.0",
       "_view_name": "ProgressView",
       "bar_style": "success",
       "description": "",
       "description_tooltip": null,
       "layout": "IPY_MODEL_44322125101b472cb13d20a2392d3a5e",
       "max": 112.0,
       "min": 0.0,
       "orientation": "horizontal",
       "style": "IPY_MODEL_77daa9f988994ba1aab957a949d5cc96",
       "value": 112.0
      }
     },
     "8b07c8dd7e244a41b9d549a5ea88a391": {
      "model_module": "@jupyter-widgets/controls",
      "model_module_version": "1.5.0",
      "model_name": "DescriptionStyleModel",
      "state": {
       "_model_module": "@jupyter-widgets/controls",
       "_model_module_version": "1.5.0",
       "_model_name": "DescriptionStyleModel",
       "_view_count": null,
       "_view_module": "@jupyter-widgets/base",
       "_view_module_version": "1.2.0",
       "_view_name": "StyleView",
       "description_width": ""
      }
     },
     "902fe82d28df43eb9eefd7d98c1ac51e": {
      "model_module": "@jupyter-widgets/base",
      "model_module_version": "1.2.0",
      "model_name": "LayoutModel",
      "state": {
       "_model_module": "@jupyter-widgets/base",
       "_model_module_version": "1.2.0",
       "_model_name": "LayoutModel",
       "_view_count": null,
       "_view_module": "@jupyter-widgets/base",
       "_view_module_version": "1.2.0",
       "_view_name": "LayoutView",
       "align_content": null,
       "align_items": null,
       "align_self": null,
       "border": null,
       "bottom": null,
       "display": null,
       "flex": null,
       "flex_flow": null,
       "grid_area": null,
       "grid_auto_columns": null,
       "grid_auto_flow": null,
       "grid_auto_rows": null,
       "grid_column": null,
       "grid_gap": null,
       "grid_row": null,
       "grid_template_areas": null,
       "grid_template_columns": null,
       "grid_template_rows": null,
       "height": null,
       "justify_content": null,
       "justify_items": null,
       "left": null,
       "margin": null,
       "max_height": null,
       "max_width": null,
       "min_height": null,
       "min_width": null,
       "object_fit": null,
       "object_position": null,
       "order": null,
       "overflow": null,
       "overflow_x": null,
       "overflow_y": null,
       "padding": null,
       "right": null,
       "top": null,
       "visibility": null,
       "width": null
      }
     },
     "94ff24ad4c144e20902795ca9e6048aa": {
      "model_module": "@jupyter-widgets/base",
      "model_module_version": "1.2.0",
      "model_name": "LayoutModel",
      "state": {
       "_model_module": "@jupyter-widgets/base",
       "_model_module_version": "1.2.0",
       "_model_name": "LayoutModel",
       "_view_count": null,
       "_view_module": "@jupyter-widgets/base",
       "_view_module_version": "1.2.0",
       "_view_name": "LayoutView",
       "align_content": null,
       "align_items": null,
       "align_self": null,
       "border": null,
       "bottom": null,
       "display": null,
       "flex": null,
       "flex_flow": null,
       "grid_area": null,
       "grid_auto_columns": null,
       "grid_auto_flow": null,
       "grid_auto_rows": null,
       "grid_column": null,
       "grid_gap": null,
       "grid_row": null,
       "grid_template_areas": null,
       "grid_template_columns": null,
       "grid_template_rows": null,
       "height": null,
       "justify_content": null,
       "justify_items": null,
       "left": null,
       "margin": null,
       "max_height": null,
       "max_width": null,
       "min_height": null,
       "min_width": null,
       "object_fit": null,
       "object_position": null,
       "order": null,
       "overflow": null,
       "overflow_x": null,
       "overflow_y": null,
       "padding": null,
       "right": null,
       "top": null,
       "visibility": null,
       "width": null
      }
     },
     "9a1c2aa431ea4feca348e3dff5114145": {
      "model_module": "@jupyter-widgets/controls",
      "model_module_version": "1.5.0",
      "model_name": "DescriptionStyleModel",
      "state": {
       "_model_module": "@jupyter-widgets/controls",
       "_model_module_version": "1.5.0",
       "_model_name": "DescriptionStyleModel",
       "_view_count": null,
       "_view_module": "@jupyter-widgets/base",
       "_view_module_version": "1.2.0",
       "_view_name": "StyleView",
       "description_width": ""
      }
     },
     "9d1278253b404fa6a180ca4c4046a98b": {
      "model_module": "@jupyter-widgets/controls",
      "model_module_version": "1.5.0",
      "model_name": "DescriptionStyleModel",
      "state": {
       "_model_module": "@jupyter-widgets/controls",
       "_model_module_version": "1.5.0",
       "_model_name": "DescriptionStyleModel",
       "_view_count": null,
       "_view_module": "@jupyter-widgets/base",
       "_view_module_version": "1.2.0",
       "_view_name": "StyleView",
       "description_width": ""
      }
     },
     "9ebfb7d5fcd84712a76ba77dd6603124": {
      "model_module": "@jupyter-widgets/base",
      "model_module_version": "1.2.0",
      "model_name": "LayoutModel",
      "state": {
       "_model_module": "@jupyter-widgets/base",
       "_model_module_version": "1.2.0",
       "_model_name": "LayoutModel",
       "_view_count": null,
       "_view_module": "@jupyter-widgets/base",
       "_view_module_version": "1.2.0",
       "_view_name": "LayoutView",
       "align_content": null,
       "align_items": null,
       "align_self": null,
       "border": null,
       "bottom": null,
       "display": null,
       "flex": null,
       "flex_flow": null,
       "grid_area": null,
       "grid_auto_columns": null,
       "grid_auto_flow": null,
       "grid_auto_rows": null,
       "grid_column": null,
       "grid_gap": null,
       "grid_row": null,
       "grid_template_areas": null,
       "grid_template_columns": null,
       "grid_template_rows": null,
       "height": null,
       "justify_content": null,
       "justify_items": null,
       "left": null,
       "margin": null,
       "max_height": null,
       "max_width": null,
       "min_height": null,
       "min_width": null,
       "object_fit": null,
       "object_position": null,
       "order": null,
       "overflow": null,
       "overflow_x": null,
       "overflow_y": null,
       "padding": null,
       "right": null,
       "top": null,
       "visibility": null,
       "width": null
      }
     },
     "a17535103b2c4278b79922767741565d": {
      "model_module": "@jupyter-widgets/controls",
      "model_module_version": "1.5.0",
      "model_name": "HTMLModel",
      "state": {
       "_dom_classes": [],
       "_model_module": "@jupyter-widgets/controls",
       "_model_module_version": "1.5.0",
       "_model_name": "HTMLModel",
       "_view_count": null,
       "_view_module": "@jupyter-widgets/controls",
       "_view_module_version": "1.5.0",
       "_view_name": "HTMLView",
       "description": "",
       "description_tooltip": null,
       "layout": "IPY_MODEL_9ebfb7d5fcd84712a76ba77dd6603124",
       "placeholder": "​",
       "style": "IPY_MODEL_37459d0e73a7455d81640bf5b5a3c93d",
       "value": "Downloading: 100%"
      }
     },
     "a3d4d17833494e0d902377ad44552511": {
      "model_module": "@jupyter-widgets/controls",
      "model_module_version": "1.5.0",
      "model_name": "HTMLModel",
      "state": {
       "_dom_classes": [],
       "_model_module": "@jupyter-widgets/controls",
       "_model_module_version": "1.5.0",
       "_model_name": "HTMLModel",
       "_view_count": null,
       "_view_module": "@jupyter-widgets/controls",
       "_view_module_version": "1.5.0",
       "_view_name": "HTMLView",
       "description": "",
       "description_tooltip": null,
       "layout": "IPY_MODEL_d055b338f04f45fd80aa1a1abb0f1ea4",
       "placeholder": "​",
       "style": "IPY_MODEL_510fea25eff44521aabcbbe2d2acea48",
       "value": "Downloading: 100%"
      }
     },
     "a5de8644c7dc40d98fac2cfa0c4d1e2f": {
      "model_module": "@jupyter-widgets/controls",
      "model_module_version": "1.5.0",
      "model_name": "HBoxModel",
      "state": {
       "_dom_classes": [],
       "_model_module": "@jupyter-widgets/controls",
       "_model_module_version": "1.5.0",
       "_model_name": "HBoxModel",
       "_view_count": null,
       "_view_module": "@jupyter-widgets/controls",
       "_view_module_version": "1.5.0",
       "_view_name": "HBoxView",
       "box_style": "",
       "children": [
        "IPY_MODEL_22b5658d5553453d878c77d074b6e982",
        "IPY_MODEL_8aec7c8d21fc411f8814b06cff8b9e95",
        "IPY_MODEL_3230473b13f1499c997226e96371d5a1"
       ],
       "layout": "IPY_MODEL_6bfca210625941cf89ff54fd2710dd09"
      }
     },
     "a6c01e1646134ed4828a8ec5cde437ab": {
      "model_module": "@jupyter-widgets/controls",
      "model_module_version": "1.5.0",
      "model_name": "FloatProgressModel",
      "state": {
       "_dom_classes": [],
       "_model_module": "@jupyter-widgets/controls",
       "_model_module_version": "1.5.0",
       "_model_name": "FloatProgressModel",
       "_view_count": null,
       "_view_module": "@jupyter-widgets/controls",
       "_view_module_version": "1.5.0",
       "_view_name": "ProgressView",
       "bar_style": "",
       "description": "",
       "description_tooltip": null,
       "layout": "IPY_MODEL_30ca1c07ee984f619b149d7475b7c1ff",
       "max": 9375.0,
       "min": 0.0,
       "orientation": "horizontal",
       "style": "IPY_MODEL_c0a391aae4b442f69ec81b323f77dd54",
       "value": 9375.0
      }
     },
     "a9f680672d7b42188dad4e917914f444": {
      "model_module": "@jupyter-widgets/base",
      "model_module_version": "1.2.0",
      "model_name": "LayoutModel",
      "state": {
       "_model_module": "@jupyter-widgets/base",
       "_model_module_version": "1.2.0",
       "_model_name": "LayoutModel",
       "_view_count": null,
       "_view_module": "@jupyter-widgets/base",
       "_view_module_version": "1.2.0",
       "_view_name": "LayoutView",
       "align_content": null,
       "align_items": null,
       "align_self": null,
       "border": null,
       "bottom": null,
       "display": null,
       "flex": null,
       "flex_flow": null,
       "grid_area": null,
       "grid_auto_columns": null,
       "grid_auto_flow": null,
       "grid_auto_rows": null,
       "grid_column": null,
       "grid_gap": null,
       "grid_row": null,
       "grid_template_areas": null,
       "grid_template_columns": null,
       "grid_template_rows": null,
       "height": null,
       "justify_content": null,
       "justify_items": null,
       "left": null,
       "margin": null,
       "max_height": null,
       "max_width": null,
       "min_height": null,
       "min_width": null,
       "object_fit": null,
       "object_position": null,
       "order": null,
       "overflow": null,
       "overflow_x": null,
       "overflow_y": null,
       "padding": null,
       "right": null,
       "top": null,
       "visibility": null,
       "width": null
      }
     },
     "badb053840314e64986f0933264422fd": {
      "model_module": "@jupyter-widgets/base",
      "model_module_version": "1.2.0",
      "model_name": "LayoutModel",
      "state": {
       "_model_module": "@jupyter-widgets/base",
       "_model_module_version": "1.2.0",
       "_model_name": "LayoutModel",
       "_view_count": null,
       "_view_module": "@jupyter-widgets/base",
       "_view_module_version": "1.2.0",
       "_view_name": "LayoutView",
       "align_content": null,
       "align_items": null,
       "align_self": null,
       "border": null,
       "bottom": null,
       "display": null,
       "flex": null,
       "flex_flow": null,
       "grid_area": null,
       "grid_auto_columns": null,
       "grid_auto_flow": null,
       "grid_auto_rows": null,
       "grid_column": null,
       "grid_gap": null,
       "grid_row": null,
       "grid_template_areas": null,
       "grid_template_columns": null,
       "grid_template_rows": null,
       "height": null,
       "justify_content": null,
       "justify_items": null,
       "left": null,
       "margin": null,
       "max_height": null,
       "max_width": null,
       "min_height": null,
       "min_width": null,
       "object_fit": null,
       "object_position": null,
       "order": null,
       "overflow": null,
       "overflow_x": null,
       "overflow_y": null,
       "padding": null,
       "right": null,
       "top": null,
       "visibility": null,
       "width": null
      }
     },
     "bc6e60d6418d4a11bbd04443fc26121d": {
      "model_module": "@jupyter-widgets/controls",
      "model_module_version": "1.5.0",
      "model_name": "HBoxModel",
      "state": {
       "_dom_classes": [],
       "_model_module": "@jupyter-widgets/controls",
       "_model_module_version": "1.5.0",
       "_model_name": "HBoxModel",
       "_view_count": null,
       "_view_module": "@jupyter-widgets/controls",
       "_view_module_version": "1.5.0",
       "_view_name": "HBoxView",
       "box_style": "",
       "children": [
        "IPY_MODEL_8ac8b2caee7640ac8ee014e475e86001",
        "IPY_MODEL_d59cc829aae84333b749e2cd77ade15b",
        "IPY_MODEL_085e3b0fd7794b2ea422d3e49dc699ec"
       ],
       "layout": "IPY_MODEL_a9f680672d7b42188dad4e917914f444"
      }
     },
     "bd78eb651e534e789cc9ec8ddac4da96": {
      "model_module": "@jupyter-widgets/controls",
      "model_module_version": "1.5.0",
      "model_name": "FloatProgressModel",
      "state": {
       "_dom_classes": [],
       "_model_module": "@jupyter-widgets/controls",
       "_model_module_version": "1.5.0",
       "_model_name": "FloatProgressModel",
       "_view_count": null,
       "_view_module": "@jupyter-widgets/controls",
       "_view_module_version": "1.5.0",
       "_view_name": "ProgressView",
       "bar_style": "success",
       "description": "",
       "description_tooltip": null,
       "layout": "IPY_MODEL_902fe82d28df43eb9eefd7d98c1ac51e",
       "max": 1707791567.0,
       "min": 0.0,
       "orientation": "horizontal",
       "style": "IPY_MODEL_38e61643a8554054901fdf7567d66273",
       "value": 1707791567.0
      }
     },
     "c0a391aae4b442f69ec81b323f77dd54": {
      "model_module": "@jupyter-widgets/controls",
      "model_module_version": "1.5.0",
      "model_name": "ProgressStyleModel",
      "state": {
       "_model_module": "@jupyter-widgets/controls",
       "_model_module_version": "1.5.0",
       "_model_name": "ProgressStyleModel",
       "_view_count": null,
       "_view_module": "@jupyter-widgets/base",
       "_view_module_version": "1.2.0",
       "_view_name": "StyleView",
       "bar_color": null,
       "description_width": ""
      }
     },
     "c1587392a2d441f8af845e333e5e0dda": {
      "model_module": "@jupyter-widgets/base",
      "model_module_version": "1.2.0",
      "model_name": "LayoutModel",
      "state": {
       "_model_module": "@jupyter-widgets/base",
       "_model_module_version": "1.2.0",
       "_model_name": "LayoutModel",
       "_view_count": null,
       "_view_module": "@jupyter-widgets/base",
       "_view_module_version": "1.2.0",
       "_view_name": "LayoutView",
       "align_content": null,
       "align_items": null,
       "align_self": null,
       "border": null,
       "bottom": null,
       "display": null,
       "flex": null,
       "flex_flow": null,
       "grid_area": null,
       "grid_auto_columns": null,
       "grid_auto_flow": null,
       "grid_auto_rows": null,
       "grid_column": null,
       "grid_gap": null,
       "grid_row": null,
       "grid_template_areas": null,
       "grid_template_columns": null,
       "grid_template_rows": null,
       "height": null,
       "justify_content": null,
       "justify_items": null,
       "left": null,
       "margin": null,
       "max_height": null,
       "max_width": null,
       "min_height": null,
       "min_width": null,
       "object_fit": null,
       "object_position": null,
       "order": null,
       "overflow": null,
       "overflow_x": null,
       "overflow_y": null,
       "padding": null,
       "right": null,
       "top": null,
       "visibility": null,
       "width": null
      }
     },
     "c36e99a0dcb24f0b98cce0dc0a8435a0": {
      "model_module": "@jupyter-widgets/controls",
      "model_module_version": "1.5.0",
      "model_name": "HBoxModel",
      "state": {
       "_dom_classes": [],
       "_model_module": "@jupyter-widgets/controls",
       "_model_module_version": "1.5.0",
       "_model_name": "HBoxModel",
       "_view_count": null,
       "_view_module": "@jupyter-widgets/controls",
       "_view_module_version": "1.5.0",
       "_view_name": "HBoxView",
       "box_style": "",
       "children": [
        "IPY_MODEL_a17535103b2c4278b79922767741565d",
        "IPY_MODEL_ee1c65ec63144b25be22cf15e2eab96c",
        "IPY_MODEL_3a3a4381fe0942bdb81a57579f05c2a3"
       ],
       "layout": "IPY_MODEL_fa784ea5826b49f7918e14233218b4b0"
      }
     },
     "cf8410e800854bbeb46ccf1828ca51d8": {
      "model_module": "@jupyter-widgets/base",
      "model_module_version": "1.2.0",
      "model_name": "LayoutModel",
      "state": {
       "_model_module": "@jupyter-widgets/base",
       "_model_module_version": "1.2.0",
       "_model_name": "LayoutModel",
       "_view_count": null,
       "_view_module": "@jupyter-widgets/base",
       "_view_module_version": "1.2.0",
       "_view_name": "LayoutView",
       "align_content": null,
       "align_items": null,
       "align_self": null,
       "border": null,
       "bottom": null,
       "display": null,
       "flex": null,
       "flex_flow": null,
       "grid_area": null,
       "grid_auto_columns": null,
       "grid_auto_flow": null,
       "grid_auto_rows": null,
       "grid_column": null,
       "grid_gap": null,
       "grid_row": null,
       "grid_template_areas": null,
       "grid_template_columns": null,
       "grid_template_rows": null,
       "height": null,
       "justify_content": null,
       "justify_items": null,
       "left": null,
       "margin": null,
       "max_height": null,
       "max_width": null,
       "min_height": null,
       "min_width": null,
       "object_fit": null,
       "object_position": null,
       "order": null,
       "overflow": null,
       "overflow_x": null,
       "overflow_y": null,
       "padding": null,
       "right": null,
       "top": null,
       "visibility": null,
       "width": null
      }
     },
     "d055b338f04f45fd80aa1a1abb0f1ea4": {
      "model_module": "@jupyter-widgets/base",
      "model_module_version": "1.2.0",
      "model_name": "LayoutModel",
      "state": {
       "_model_module": "@jupyter-widgets/base",
       "_model_module_version": "1.2.0",
       "_model_name": "LayoutModel",
       "_view_count": null,
       "_view_module": "@jupyter-widgets/base",
       "_view_module_version": "1.2.0",
       "_view_name": "LayoutView",
       "align_content": null,
       "align_items": null,
       "align_self": null,
       "border": null,
       "bottom": null,
       "display": null,
       "flex": null,
       "flex_flow": null,
       "grid_area": null,
       "grid_auto_columns": null,
       "grid_auto_flow": null,
       "grid_auto_rows": null,
       "grid_column": null,
       "grid_gap": null,
       "grid_row": null,
       "grid_template_areas": null,
       "grid_template_columns": null,
       "grid_template_rows": null,
       "height": null,
       "justify_content": null,
       "justify_items": null,
       "left": null,
       "margin": null,
       "max_height": null,
       "max_width": null,
       "min_height": null,
       "min_width": null,
       "object_fit": null,
       "object_position": null,
       "order": null,
       "overflow": null,
       "overflow_x": null,
       "overflow_y": null,
       "padding": null,
       "right": null,
       "top": null,
       "visibility": null,
       "width": null
      }
     },
     "d59cc829aae84333b749e2cd77ade15b": {
      "model_module": "@jupyter-widgets/controls",
      "model_module_version": "1.5.0",
      "model_name": "FloatProgressModel",
      "state": {
       "_dom_classes": [],
       "_model_module": "@jupyter-widgets/controls",
       "_model_module_version": "1.5.0",
       "_model_name": "FloatProgressModel",
       "_view_count": null,
       "_view_module": "@jupyter-widgets/controls",
       "_view_module_version": "1.5.0",
       "_view_name": "ProgressView",
       "bar_style": "success",
       "description": "",
       "description_tooltip": null,
       "layout": "IPY_MODEL_20812bc342054d329d188af9aaf35b17",
       "max": 323.0,
       "min": 0.0,
       "orientation": "horizontal",
       "style": "IPY_MODEL_322064d4aa4b4a679d4045e306ae7850",
       "value": 323.0
      }
     },
     "dde1a1907b8a4cc1874781362121f082": {
      "model_module": "@jupyter-widgets/controls",
      "model_module_version": "1.5.0",
      "model_name": "DescriptionStyleModel",
      "state": {
       "_model_module": "@jupyter-widgets/controls",
       "_model_module_version": "1.5.0",
       "_model_name": "DescriptionStyleModel",
       "_view_count": null,
       "_view_module": "@jupyter-widgets/base",
       "_view_module_version": "1.2.0",
       "_view_name": "StyleView",
       "description_width": ""
      }
     },
     "e2f266b316cf438b851d652a37c1e8a7": {
      "model_module": "@jupyter-widgets/base",
      "model_module_version": "1.2.0",
      "model_name": "LayoutModel",
      "state": {
       "_model_module": "@jupyter-widgets/base",
       "_model_module_version": "1.2.0",
       "_model_name": "LayoutModel",
       "_view_count": null,
       "_view_module": "@jupyter-widgets/base",
       "_view_module_version": "1.2.0",
       "_view_name": "LayoutView",
       "align_content": null,
       "align_items": null,
       "align_self": null,
       "border": null,
       "bottom": null,
       "display": null,
       "flex": null,
       "flex_flow": null,
       "grid_area": null,
       "grid_auto_columns": null,
       "grid_auto_flow": null,
       "grid_auto_rows": null,
       "grid_column": null,
       "grid_gap": null,
       "grid_row": null,
       "grid_template_areas": null,
       "grid_template_columns": null,
       "grid_template_rows": null,
       "height": null,
       "justify_content": null,
       "justify_items": null,
       "left": null,
       "margin": null,
       "max_height": null,
       "max_width": null,
       "min_height": null,
       "min_width": null,
       "object_fit": null,
       "object_position": null,
       "order": null,
       "overflow": null,
       "overflow_x": null,
       "overflow_y": null,
       "padding": null,
       "right": null,
       "top": null,
       "visibility": null,
       "width": null
      }
     },
     "e95aa33f4ac7428d91246f38017c89c5": {
      "model_module": "@jupyter-widgets/base",
      "model_module_version": "1.2.0",
      "model_name": "LayoutModel",
      "state": {
       "_model_module": "@jupyter-widgets/base",
       "_model_module_version": "1.2.0",
       "_model_name": "LayoutModel",
       "_view_count": null,
       "_view_module": "@jupyter-widgets/base",
       "_view_module_version": "1.2.0",
       "_view_name": "LayoutView",
       "align_content": null,
       "align_items": null,
       "align_self": null,
       "border": null,
       "bottom": null,
       "display": null,
       "flex": null,
       "flex_flow": null,
       "grid_area": null,
       "grid_auto_columns": null,
       "grid_auto_flow": null,
       "grid_auto_rows": null,
       "grid_column": null,
       "grid_gap": null,
       "grid_row": null,
       "grid_template_areas": null,
       "grid_template_columns": null,
       "grid_template_rows": null,
       "height": null,
       "justify_content": null,
       "justify_items": null,
       "left": null,
       "margin": null,
       "max_height": null,
       "max_width": null,
       "min_height": null,
       "min_width": null,
       "object_fit": null,
       "object_position": null,
       "order": null,
       "overflow": null,
       "overflow_x": null,
       "overflow_y": null,
       "padding": null,
       "right": null,
       "top": null,
       "visibility": null,
       "width": null
      }
     },
     "ee1c65ec63144b25be22cf15e2eab96c": {
      "model_module": "@jupyter-widgets/controls",
      "model_module_version": "1.5.0",
      "model_name": "FloatProgressModel",
      "state": {
       "_dom_classes": [],
       "_model_module": "@jupyter-widgets/controls",
       "_model_module_version": "1.5.0",
       "_model_name": "FloatProgressModel",
       "_view_count": null,
       "_view_module": "@jupyter-widgets/controls",
       "_view_module_version": "1.5.0",
       "_view_name": "ProgressView",
       "bar_style": "success",
       "description": "",
       "description_tooltip": null,
       "layout": "IPY_MODEL_297a27e1f98e4fafbcb8e76756ccf077",
       "max": 655.0,
       "min": 0.0,
       "orientation": "horizontal",
       "style": "IPY_MODEL_75972831daec4a66b5de91c7e6e425d2",
       "value": 655.0
      }
     },
     "ee2ef11e7c6441aabe5ee34156625b3a": {
      "model_module": "@jupyter-widgets/base",
      "model_module_version": "1.2.0",
      "model_name": "LayoutModel",
      "state": {
       "_model_module": "@jupyter-widgets/base",
       "_model_module_version": "1.2.0",
       "_model_name": "LayoutModel",
       "_view_count": null,
       "_view_module": "@jupyter-widgets/base",
       "_view_module_version": "1.2.0",
       "_view_name": "LayoutView",
       "align_content": null,
       "align_items": null,
       "align_self": null,
       "border": null,
       "bottom": null,
       "display": null,
       "flex": null,
       "flex_flow": null,
       "grid_area": null,
       "grid_auto_columns": null,
       "grid_auto_flow": null,
       "grid_auto_rows": null,
       "grid_column": null,
       "grid_gap": null,
       "grid_row": null,
       "grid_template_areas": null,
       "grid_template_columns": null,
       "grid_template_rows": null,
       "height": null,
       "justify_content": null,
       "justify_items": null,
       "left": null,
       "margin": null,
       "max_height": null,
       "max_width": null,
       "min_height": null,
       "min_width": null,
       "object_fit": null,
       "object_position": null,
       "order": null,
       "overflow": null,
       "overflow_x": null,
       "overflow_y": null,
       "padding": null,
       "right": null,
       "top": null,
       "visibility": null,
       "width": null
      }
     },
     "f55af6dc0a4d4fc78b1b8cfcda651fff": {
      "model_module": "@jupyter-widgets/controls",
      "model_module_version": "1.5.0",
      "model_name": "HTMLModel",
      "state": {
       "_dom_classes": [],
       "_model_module": "@jupyter-widgets/controls",
       "_model_module_version": "1.5.0",
       "_model_name": "HTMLModel",
       "_view_count": null,
       "_view_module": "@jupyter-widgets/controls",
       "_view_module_version": "1.5.0",
       "_view_name": "HTMLView",
       "description": "",
       "description_tooltip": null,
       "layout": "IPY_MODEL_69f47897b660485697458c963d20eb2c",
       "placeholder": "​",
       "style": "IPY_MODEL_77f5e3bb6de0419ba271f4c12e905ae8",
       "value": " 9375/9375 [2:28:51&lt;00:00,  1.05it/s]"
      }
     },
     "f85698f546d9492694f64859199f6554": {
      "model_module": "@jupyter-widgets/controls",
      "model_module_version": "1.5.0",
      "model_name": "FloatProgressModel",
      "state": {
       "_dom_classes": [],
       "_model_module": "@jupyter-widgets/controls",
       "_model_module_version": "1.5.0",
       "_model_name": "FloatProgressModel",
       "_view_count": null,
       "_view_module": "@jupyter-widgets/controls",
       "_view_module_version": "1.5.0",
       "_view_name": "ProgressView",
       "bar_style": "success",
       "description": "",
       "description_tooltip": null,
       "layout": "IPY_MODEL_e95aa33f4ac7428d91246f38017c89c5",
       "max": 1780720.0,
       "min": 0.0,
       "orientation": "horizontal",
       "style": "IPY_MODEL_17c1baa71b3d4604b54b3da2c51ab323",
       "value": 1780720.0
      }
     },
     "f9c5e22afd064b87b855403ed5bc2f41": {
      "model_module": "@jupyter-widgets/controls",
      "model_module_version": "1.5.0",
      "model_name": "DescriptionStyleModel",
      "state": {
       "_model_module": "@jupyter-widgets/controls",
       "_model_module_version": "1.5.0",
       "_model_name": "DescriptionStyleModel",
       "_view_count": null,
       "_view_module": "@jupyter-widgets/base",
       "_view_module_version": "1.2.0",
       "_view_name": "StyleView",
       "description_width": ""
      }
     },
     "fa784ea5826b49f7918e14233218b4b0": {
      "model_module": "@jupyter-widgets/base",
      "model_module_version": "1.2.0",
      "model_name": "LayoutModel",
      "state": {
       "_model_module": "@jupyter-widgets/base",
       "_model_module_version": "1.2.0",
       "_model_name": "LayoutModel",
       "_view_count": null,
       "_view_module": "@jupyter-widgets/base",
       "_view_module_version": "1.2.0",
       "_view_name": "LayoutView",
       "align_content": null,
       "align_items": null,
       "align_self": null,
       "border": null,
       "bottom": null,
       "display": null,
       "flex": null,
       "flex_flow": null,
       "grid_area": null,
       "grid_auto_columns": null,
       "grid_auto_flow": null,
       "grid_auto_rows": null,
       "grid_column": null,
       "grid_gap": null,
       "grid_row": null,
       "grid_template_areas": null,
       "grid_template_columns": null,
       "grid_template_rows": null,
       "height": null,
       "justify_content": null,
       "justify_items": null,
       "left": null,
       "margin": null,
       "max_height": null,
       "max_width": null,
       "min_height": null,
       "min_width": null,
       "object_fit": null,
       "object_position": null,
       "order": null,
       "overflow": null,
       "overflow_x": null,
       "overflow_y": null,
       "padding": null,
       "right": null,
       "top": null,
       "visibility": null,
       "width": null
      }
     }
    },
    "version_major": 2,
    "version_minor": 0
   }
  }
 },
 "nbformat": 4,
 "nbformat_minor": 5
}
